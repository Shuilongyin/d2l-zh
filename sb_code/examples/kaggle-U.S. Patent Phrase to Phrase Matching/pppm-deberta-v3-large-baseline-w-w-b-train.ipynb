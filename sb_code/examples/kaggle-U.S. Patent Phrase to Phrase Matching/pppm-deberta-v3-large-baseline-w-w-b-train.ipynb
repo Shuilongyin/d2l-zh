{
 "cells": [
  {
   "cell_type": "markdown",
   "id": "243e3354",
   "metadata": {
    "id": "e460cbb5",
    "papermill": {
     "duration": 0.030957,
     "end_time": "2022-06-02T05:54:50.696972",
     "exception": false,
     "start_time": "2022-06-02T05:54:50.666015",
     "status": "completed"
    },
    "tags": []
   },
   "source": [
    "# About this notebook\n",
    "- Deberta-v3-large starter code\n",
    "- pip wheels is [here](https://www.kaggle.com/code/yasufuminakama/pppm-pip-wheels)\n",
    "- Inference notebook is [here](https://www.kaggle.com/code/yasufuminakama/pppm-deberta-v3-large-baseline-inference)\n",
    "\n",
    "If this notebook is helpful, feel free to upvote :)"
   ]
  },
  {
   "cell_type": "markdown",
   "id": "7731544a",
   "metadata": {
    "papermill": {
     "duration": 0.030258,
     "end_time": "2022-06-02T05:54:50.758771",
     "exception": false,
     "start_time": "2022-06-02T05:54:50.728513",
     "status": "completed"
    },
    "tags": []
   },
   "source": [
    "# Directory settings"
   ]
  },
  {
   "cell_type": "code",
   "execution_count": 1,
   "id": "d9955e61",
   "metadata": {
    "execution": {
     "iopub.execute_input": "2022-06-02T05:54:50.833837Z",
     "iopub.status.busy": "2022-06-02T05:54:50.832932Z",
     "iopub.status.idle": "2022-06-02T05:54:50.836849Z",
     "shell.execute_reply": "2022-06-02T05:54:50.836251Z",
     "shell.execute_reply.started": "2022-05-30T13:34:21.141954Z"
    },
    "id": "fa3b873b",
    "papermill": {
     "duration": 0.047209,
     "end_time": "2022-06-02T05:54:50.837002",
     "exception": false,
     "start_time": "2022-06-02T05:54:50.789793",
     "status": "completed"
    },
    "tags": []
   },
   "outputs": [],
   "source": [
    "# ====================================================\n",
    "# Directory settings\n",
    "# ====================================================\n",
    "import os\n",
    "\n",
    "INPUT_DIR = '../input/us-patent-phrase-to-phrase-matching/'\n",
    "OUTPUT_DIR = './'\n",
    "if not os.path.exists(OUTPUT_DIR):\n",
    "    os.makedirs(OUTPUT_DIR)"
   ]
  },
  {
   "cell_type": "markdown",
   "id": "b11b04a5",
   "metadata": {
    "id": "1d0c4430",
    "papermill": {
     "duration": 0.030653,
     "end_time": "2022-06-02T05:54:50.899280",
     "exception": false,
     "start_time": "2022-06-02T05:54:50.868627",
     "status": "completed"
    },
    "tags": []
   },
   "source": [
    "# CFG"
   ]
  },
  {
   "cell_type": "code",
   "execution_count": 2,
   "id": "cb7544c3",
   "metadata": {
    "execution": {
     "iopub.execute_input": "2022-06-02T05:54:50.966008Z",
     "iopub.status.busy": "2022-06-02T05:54:50.965005Z",
     "iopub.status.idle": "2022-06-02T05:54:50.973343Z",
     "shell.execute_reply": "2022-06-02T05:54:50.972856Z",
     "shell.execute_reply.started": "2022-05-30T13:34:21.181752Z"
    },
    "id": "48dd82bb",
    "papermill": {
     "duration": 0.044097,
     "end_time": "2022-06-02T05:54:50.973471",
     "exception": false,
     "start_time": "2022-06-02T05:54:50.929374",
     "status": "completed"
    },
    "tags": []
   },
   "outputs": [],
   "source": [
    "# ====================================================\n",
    "# CFG\n",
    "# ====================================================\n",
    "class CFG:\n",
    "    wandb=True\n",
    "    competition='PPPM'\n",
    "    _wandb_kernel='nakama'\n",
    "    debug=False\n",
    "    apex=True\n",
    "    print_freq=100\n",
    "    num_workers=4\n",
    "#     model=\"microsoft/deberta-v3-large\"\n",
    "    model=\"anferico/bert-for-patents\"\n",
    "    scheduler='cosine' # ['linear', 'cosine']\n",
    "    batch_scheduler=True\n",
    "    num_cycles=0.5\n",
    "    num_warmup_steps=0\n",
    "    epochs=4\n",
    "    encoder_lr=2e-5\n",
    "    decoder_lr=2e-5\n",
    "    min_lr=1e-6\n",
    "    eps=1e-6\n",
    "    betas=(0.9, 0.999)\n",
    "    batch_size=16\n",
    "    fc_dropout=0.2\n",
    "    target_size=1\n",
    "    max_len=512\n",
    "    weight_decay=0.01\n",
    "    gradient_accumulation_steps=1\n",
    "    max_grad_norm=1000\n",
    "    seed=42\n",
    "    n_fold=4\n",
    "    trn_fold=[0, 1, 2, 3]\n",
    "    train=True\n",
    "    \n",
    "if CFG.debug:\n",
    "    CFG.epochs = 2\n",
    "    CFG.trn_fold = [0]"
   ]
  },
  {
   "cell_type": "code",
   "execution_count": 3,
   "id": "efc3be9a",
   "metadata": {
    "execution": {
     "iopub.execute_input": "2022-06-02T05:54:51.082475Z",
     "iopub.status.busy": "2022-06-02T05:54:51.081525Z",
     "iopub.status.idle": "2022-06-02T05:54:51.092166Z",
     "shell.execute_reply": "2022-06-02T05:54:51.089904Z",
     "shell.execute_reply.started": "2022-05-30T13:34:21.193689Z"
    },
    "papermill": {
     "duration": 0.075159,
     "end_time": "2022-06-02T05:54:51.092324",
     "exception": false,
     "start_time": "2022-06-02T05:54:51.017165",
     "status": "completed"
    },
    "tags": []
   },
   "outputs": [
    {
     "data": {
      "text/plain": [
       "4"
      ]
     },
     "execution_count": 3,
     "metadata": {},
     "output_type": "execute_result"
    }
   ],
   "source": [
    "CFG.epochs"
   ]
  },
  {
   "cell_type": "code",
   "execution_count": 4,
   "id": "16149fc8",
   "metadata": {
    "execution": {
     "iopub.execute_input": "2022-06-02T05:54:51.162622Z",
     "iopub.status.busy": "2022-06-02T05:54:51.161651Z",
     "iopub.status.idle": "2022-06-02T05:55:02.191810Z",
     "shell.execute_reply": "2022-06-02T05:55:02.191166Z",
     "shell.execute_reply.started": "2022-05-30T13:34:21.213156Z"
    },
    "id": "b88c983e",
    "papermill": {
     "duration": 11.068726,
     "end_time": "2022-06-02T05:55:02.191935",
     "exception": false,
     "start_time": "2022-06-02T05:54:51.123209",
     "status": "completed"
    },
    "tags": []
   },
   "outputs": [
    {
     "name": "stdout",
     "output_type": "stream",
     "text": [
      "If you want to use your W&B account, go to Add-ons -> Secrets and provide your W&B access token. Use the Label name as wandb_api. \n",
      "Get your W&B access token from here: https://wandb.ai/authorize\n"
     ]
    },
    {
     "name": "stderr",
     "output_type": "stream",
     "text": [
      "\u001b[34m\u001b[1mwandb\u001b[0m: Appending key for api.wandb.ai to your netrc file: /root/.netrc\n"
     ]
    },
    {
     "data": {
      "text/html": [
       "wandb version 0.12.17 is available!  To upgrade, please run:\n",
       " $ pip install wandb --upgrade"
      ],
      "text/plain": [
       "<IPython.core.display.HTML object>"
      ]
     },
     "metadata": {},
     "output_type": "display_data"
    },
    {
     "data": {
      "text/html": [
       "Tracking run with wandb version 0.12.11"
      ],
      "text/plain": [
       "<IPython.core.display.HTML object>"
      ]
     },
     "metadata": {},
     "output_type": "display_data"
    },
    {
     "data": {
      "text/html": [
       "Run data is saved locally in <code>/kaggle/working/wandb/run-20220602_055454-1ub44xla</code>"
      ],
      "text/plain": [
       "<IPython.core.display.HTML object>"
      ]
     },
     "metadata": {},
     "output_type": "display_data"
    },
    {
     "data": {
      "text/html": [
       "Syncing run <strong><a href=\"https://wandb.ai/anony-mouse-273715/PPPM-Public/runs/1ub44xla?apiKey=d427618acf721bf56ff24565b07c2b91c3607c11\" target=\"_blank\">anferico/bert-for-patents</a></strong> to <a href=\"https://wandb.ai/anony-mouse-273715/PPPM-Public?apiKey=d427618acf721bf56ff24565b07c2b91c3607c11\" target=\"_blank\">Weights & Biases</a> (<a href=\"https://wandb.me/run\" target=\"_blank\">docs</a>)<br/>"
      ],
      "text/plain": [
       "<IPython.core.display.HTML object>"
      ]
     },
     "metadata": {},
     "output_type": "display_data"
    }
   ],
   "source": [
    "# ====================================================\n",
    "# wandb\n",
    "# ====================================================\n",
    "if CFG.wandb:\n",
    "    \n",
    "    import wandb\n",
    "\n",
    "    try:\n",
    "        from kaggle_secrets import UserSecretsClient\n",
    "        user_secrets = UserSecretsClient()\n",
    "        secret_value_0 = user_secrets.get_secret(\"wandb_api\")\n",
    "        wandb.login(key=secret_value_0)\n",
    "        anony = None\n",
    "    except:\n",
    "        anony = \"must\"\n",
    "        print('If you want to use your W&B account, go to Add-ons -> Secrets and provide your W&B access token. Use the Label name as wandb_api. \\nGet your W&B access token from here: https://wandb.ai/authorize')\n",
    "\n",
    "\n",
    "    def class2dict(f):\n",
    "        return dict((name, getattr(f, name)) for name in dir(f) if not name.startswith('__'))\n",
    "\n",
    "    run = wandb.init(project='PPPM-Public', \n",
    "                     name=CFG.model,\n",
    "                     config=class2dict(CFG),\n",
    "                     group=CFG.model,\n",
    "                     job_type=\"train\",\n",
    "                     anonymous=anony)"
   ]
  },
  {
   "cell_type": "markdown",
   "id": "7bf43176",
   "metadata": {
    "id": "f2ed8ef2",
    "papermill": {
     "duration": 0.048859,
     "end_time": "2022-06-02T05:55:02.294947",
     "exception": false,
     "start_time": "2022-06-02T05:55:02.246088",
     "status": "completed"
    },
    "tags": []
   },
   "source": [
    "# Library"
   ]
  },
  {
   "cell_type": "code",
   "execution_count": 5,
   "id": "0cb1d375",
   "metadata": {
    "execution": {
     "iopub.execute_input": "2022-06-02T05:55:02.400450Z",
     "iopub.status.busy": "2022-06-02T05:55:02.399623Z",
     "iopub.status.idle": "2022-06-02T05:55:31.329134Z",
     "shell.execute_reply": "2022-06-02T05:55:31.330009Z",
     "shell.execute_reply.started": "2022-05-30T13:34:31.530146Z"
    },
    "executionInfo": {
     "elapsed": 20123,
     "status": "ok",
     "timestamp": 1644920080956,
     "user": {
      "displayName": "Yasufumi Nakama",
      "photoUrl": "https://lh3.googleusercontent.com/a/default-user=s64",
      "userId": "17486303986134302670"
     },
     "user_tz": -540
    },
    "id": "35916341",
    "outputId": "06fa0ab8-a380-4f54-a98d-b7015b79d9e2",
    "papermill": {
     "duration": 28.990368,
     "end_time": "2022-06-02T05:55:31.330240",
     "exception": false,
     "start_time": "2022-06-02T05:55:02.339872",
     "status": "completed"
    },
    "tags": []
   },
   "outputs": [
    {
     "name": "stdout",
     "output_type": "stream",
     "text": [
      "torch.__version__: 1.9.1\n",
      "Found existing installation: transformers 4.16.2\n",
      "Uninstalling transformers-4.16.2:\n",
      "  Successfully uninstalled transformers-4.16.2\n"
     ]
    },
    {
     "name": "stderr",
     "output_type": "stream",
     "text": [
      "WARNING: Running pip as the 'root' user can result in broken permissions and conflicting behaviour with the system package manager. It is recommended to use a virtual environment instead: https://pip.pypa.io/warnings/venv\n"
     ]
    },
    {
     "name": "stdout",
     "output_type": "stream",
     "text": [
      "Found existing installation: tokenizers 0.11.6\n",
      "Uninstalling tokenizers-0.11.6:\n",
      "  Successfully uninstalled tokenizers-0.11.6\n"
     ]
    },
    {
     "name": "stderr",
     "output_type": "stream",
     "text": [
      "WARNING: Running pip as the 'root' user can result in broken permissions and conflicting behaviour with the system package manager. It is recommended to use a virtual environment instead: https://pip.pypa.io/warnings/venv\n"
     ]
    },
    {
     "name": "stdout",
     "output_type": "stream",
     "text": [
      "Looking in links: ../input/pppm-pip-wheels\n",
      "Processing /kaggle/input/pppm-pip-wheels/transformers-4.18.0-py3-none-any.whl\n",
      "Requirement already satisfied: huggingface-hub<1.0,>=0.1.0 in /opt/conda/lib/python3.7/site-packages (from transformers) (0.4.0)\n",
      "Requirement already satisfied: filelock in /opt/conda/lib/python3.7/site-packages (from transformers) (3.6.0)\n",
      "Requirement already satisfied: sacremoses in /opt/conda/lib/python3.7/site-packages (from transformers) (0.0.49)\n",
      "Requirement already satisfied: numpy>=1.17 in /opt/conda/lib/python3.7/site-packages (from transformers) (1.20.3)\n",
      "Requirement already satisfied: pyyaml>=5.1 in /opt/conda/lib/python3.7/site-packages (from transformers) (6.0)\n",
      "Requirement already satisfied: tqdm>=4.27 in /opt/conda/lib/python3.7/site-packages (from transformers) (4.62.3)\n",
      "Processing /kaggle/input/pppm-pip-wheels/tokenizers-0.12.1-cp37-cp37m-manylinux_2_12_x86_64.manylinux2010_x86_64.whl\n",
      "Requirement already satisfied: requests in /opt/conda/lib/python3.7/site-packages (from transformers) (2.26.0)\n",
      "Requirement already satisfied: packaging>=20.0 in /opt/conda/lib/python3.7/site-packages (from transformers) (21.3)\n",
      "Requirement already satisfied: importlib-metadata in /opt/conda/lib/python3.7/site-packages (from transformers) (4.11.3)\n",
      "Requirement already satisfied: regex!=2019.12.17 in /opt/conda/lib/python3.7/site-packages (from transformers) (2021.11.10)\n",
      "Requirement already satisfied: typing-extensions>=3.7.4.3 in /opt/conda/lib/python3.7/site-packages (from huggingface-hub<1.0,>=0.1.0->transformers) (4.1.1)\n",
      "Requirement already satisfied: pyparsing!=3.0.5,>=2.0.2 in /opt/conda/lib/python3.7/site-packages (from packaging>=20.0->transformers) (3.0.6)\n",
      "Requirement already satisfied: zipp>=0.5 in /opt/conda/lib/python3.7/site-packages (from importlib-metadata->transformers) (3.6.0)\n",
      "Requirement already satisfied: charset-normalizer~=2.0.0 in /opt/conda/lib/python3.7/site-packages (from requests->transformers) (2.0.9)\n",
      "Requirement already satisfied: certifi>=2017.4.17 in /opt/conda/lib/python3.7/site-packages (from requests->transformers) (2021.10.8)\n",
      "Requirement already satisfied: idna<4,>=2.5 in /opt/conda/lib/python3.7/site-packages (from requests->transformers) (3.1)\n",
      "Requirement already satisfied: urllib3<1.27,>=1.21.1 in /opt/conda/lib/python3.7/site-packages (from requests->transformers) (1.26.7)\n",
      "Requirement already satisfied: click in /opt/conda/lib/python3.7/site-packages (from sacremoses->transformers) (8.0.3)\n",
      "Requirement already satisfied: joblib in /opt/conda/lib/python3.7/site-packages (from sacremoses->transformers) (1.1.0)\n",
      "Requirement already satisfied: six in /opt/conda/lib/python3.7/site-packages (from sacremoses->transformers) (1.16.0)\n",
      "Installing collected packages: tokenizers, transformers\n",
      "Successfully installed tokenizers-0.12.1 transformers-4.18.0\n"
     ]
    },
    {
     "name": "stderr",
     "output_type": "stream",
     "text": [
      "ERROR: pip's dependency resolver does not currently take into account all the packages that are installed. This behaviour is the source of the following dependency conflicts.\n",
      "allennlp 2.9.1 requires transformers<4.17,>=4.1, but you have transformers 4.18.0 which is incompatible.\n",
      "WARNING: Running pip as the 'root' user can result in broken permissions and conflicting behaviour with the system package manager. It is recommended to use a virtual environment instead: https://pip.pypa.io/warnings/venv\n"
     ]
    },
    {
     "name": "stdout",
     "output_type": "stream",
     "text": [
      "Looking in links: ../input/pppm-pip-wheels\n",
      "Requirement already satisfied: tokenizers in /opt/conda/lib/python3.7/site-packages (0.12.1)\n"
     ]
    },
    {
     "name": "stderr",
     "output_type": "stream",
     "text": [
      "WARNING: Running pip as the 'root' user can result in broken permissions and conflicting behaviour with the system package manager. It is recommended to use a virtual environment instead: https://pip.pypa.io/warnings/venv\n"
     ]
    },
    {
     "name": "stdout",
     "output_type": "stream",
     "text": [
      "tokenizers.__version__: 0.12.1\n",
      "transformers.__version__: 4.18.0\n",
      "env: TOKENIZERS_PARALLELISM=true\n"
     ]
    }
   ],
   "source": [
    "# ====================================================\n",
    "# Library\n",
    "# ====================================================\n",
    "import os\n",
    "import gc\n",
    "import re\n",
    "import ast\n",
    "import sys\n",
    "import copy\n",
    "import json\n",
    "import time\n",
    "import math\n",
    "import shutil\n",
    "import string\n",
    "import pickle\n",
    "import random\n",
    "import joblib\n",
    "import itertools\n",
    "from pathlib import Path\n",
    "import warnings\n",
    "warnings.filterwarnings(\"ignore\")\n",
    "\n",
    "import scipy as sp\n",
    "import numpy as np\n",
    "import pandas as pd\n",
    "pd.set_option('display.max_rows', 500)\n",
    "pd.set_option('display.max_columns', 500)\n",
    "pd.set_option('display.width', 1000)\n",
    "from tqdm.auto import tqdm\n",
    "from sklearn.metrics import f1_score\n",
    "from sklearn.model_selection import StratifiedKFold, GroupKFold, KFold\n",
    "\n",
    "import torch\n",
    "print(f\"torch.__version__: {torch.__version__}\")\n",
    "import torch.nn as nn\n",
    "from torch.nn import Parameter\n",
    "import torch.nn.functional as F\n",
    "from torch.optim import Adam, SGD, AdamW\n",
    "from torch.utils.data import DataLoader, Dataset\n",
    "\n",
    "os.system('pip uninstall -y transformers')\n",
    "os.system('pip uninstall -y tokenizers')\n",
    "os.system('python -m pip install --no-index --find-links=../input/pppm-pip-wheels transformers')\n",
    "os.system('python -m pip install --no-index --find-links=../input/pppm-pip-wheels tokenizers')\n",
    "import tokenizers\n",
    "import transformers\n",
    "print(f\"tokenizers.__version__: {tokenizers.__version__}\")\n",
    "print(f\"transformers.__version__: {transformers.__version__}\")\n",
    "from transformers import AutoTokenizer, AutoModel, AutoConfig\n",
    "from transformers import get_linear_schedule_with_warmup, get_cosine_schedule_with_warmup\n",
    "%env TOKENIZERS_PARALLELISM=true\n",
    "\n",
    "device = torch.device('cuda' if torch.cuda.is_available() else 'cpu')"
   ]
  },
  {
   "cell_type": "markdown",
   "id": "60b15038",
   "metadata": {
    "id": "fd586614",
    "papermill": {
     "duration": 0.04437,
     "end_time": "2022-06-02T05:55:31.417600",
     "exception": false,
     "start_time": "2022-06-02T05:55:31.373230",
     "status": "completed"
    },
    "tags": []
   },
   "source": [
    "# Utils"
   ]
  },
  {
   "cell_type": "code",
   "execution_count": 6,
   "id": "ec28fbf0",
   "metadata": {
    "execution": {
     "iopub.execute_input": "2022-06-02T05:55:31.514464Z",
     "iopub.status.busy": "2022-06-02T05:55:31.510361Z",
     "iopub.status.idle": "2022-06-02T05:55:31.523794Z",
     "shell.execute_reply": "2022-06-02T05:55:31.524618Z",
     "shell.execute_reply.started": "2022-05-30T13:35:04.331588Z"
    },
    "id": "d5c0ccc6",
    "papermill": {
     "duration": 0.065227,
     "end_time": "2022-06-02T05:55:31.525072",
     "exception": false,
     "start_time": "2022-06-02T05:55:31.459845",
     "status": "completed"
    },
    "tags": []
   },
   "outputs": [],
   "source": [
    "# ====================================================\n",
    "# Utils\n",
    "# ====================================================\n",
    "def get_score(y_true, y_pred):\n",
    "    score = sp.stats.pearsonr(y_true, y_pred)[0]\n",
    "    return score\n",
    "\n",
    "\n",
    "def get_logger(filename=OUTPUT_DIR+'train'):\n",
    "    from logging import getLogger, INFO, StreamHandler, FileHandler, Formatter\n",
    "    logger = getLogger(__name__)\n",
    "    logger.setLevel(INFO)\n",
    "    handler1 = StreamHandler()\n",
    "    handler1.setFormatter(Formatter(\"%(message)s\"))\n",
    "    handler2 = FileHandler(filename=f\"{filename}.log\")\n",
    "    handler2.setFormatter(Formatter(\"%(message)s\"))\n",
    "    logger.addHandler(handler1)\n",
    "    logger.addHandler(handler2)\n",
    "    return logger\n",
    "\n",
    "LOGGER = get_logger()\n",
    "\n",
    "def seed_everything(seed=42):\n",
    "    random.seed(seed)\n",
    "    os.environ['PYTHONHASHSEED'] = str(seed)\n",
    "    np.random.seed(seed)\n",
    "    torch.manual_seed(seed)\n",
    "    torch.cuda.manual_seed(seed)\n",
    "    torch.backends.cudnn.deterministic = True\n",
    "    \n",
    "seed_everything(seed=42)"
   ]
  },
  {
   "cell_type": "markdown",
   "id": "0a0dbe58",
   "metadata": {
    "id": "cb3d8e1e",
    "papermill": {
     "duration": 0.042054,
     "end_time": "2022-06-02T05:55:31.610538",
     "exception": false,
     "start_time": "2022-06-02T05:55:31.568484",
     "status": "completed"
    },
    "tags": []
   },
   "source": [
    "# Data Loading"
   ]
  },
  {
   "cell_type": "code",
   "execution_count": 7,
   "id": "c9513085",
   "metadata": {
    "execution": {
     "iopub.execute_input": "2022-06-02T05:55:31.703154Z",
     "iopub.status.busy": "2022-06-02T05:55:31.702233Z",
     "iopub.status.idle": "2022-06-02T05:55:32.022023Z",
     "shell.execute_reply": "2022-06-02T05:55:32.021494Z",
     "shell.execute_reply.started": "2022-05-30T13:35:04.354339Z"
    },
    "executionInfo": {
     "elapsed": 2627,
     "status": "ok",
     "timestamp": 1644920084001,
     "user": {
      "displayName": "Yasufumi Nakama",
      "photoUrl": "https://lh3.googleusercontent.com/a/default-user=s64",
      "userId": "17486303986134302670"
     },
     "user_tz": -540
    },
    "id": "bef012d3",
    "outputId": "d4d60dbc-510c-4f34-8d64-dd1d88c4808c",
    "papermill": {
     "duration": 0.369251,
     "end_time": "2022-06-02T05:55:32.022177",
     "exception": false,
     "start_time": "2022-06-02T05:55:31.652926",
     "status": "completed"
    },
    "tags": []
   },
   "outputs": [
    {
     "name": "stdout",
     "output_type": "stream",
     "text": [
      "train.shape: (36473, 5)\n",
      "test.shape: (36, 4)\n",
      "submission.shape: (36, 2)\n"
     ]
    },
    {
     "data": {
      "text/html": [
       "<div>\n",
       "<style scoped>\n",
       "    .dataframe tbody tr th:only-of-type {\n",
       "        vertical-align: middle;\n",
       "    }\n",
       "\n",
       "    .dataframe tbody tr th {\n",
       "        vertical-align: top;\n",
       "    }\n",
       "\n",
       "    .dataframe thead th {\n",
       "        text-align: right;\n",
       "    }\n",
       "</style>\n",
       "<table border=\"1\" class=\"dataframe\">\n",
       "  <thead>\n",
       "    <tr style=\"text-align: right;\">\n",
       "      <th></th>\n",
       "      <th>id</th>\n",
       "      <th>anchor</th>\n",
       "      <th>target</th>\n",
       "      <th>context</th>\n",
       "      <th>score</th>\n",
       "    </tr>\n",
       "  </thead>\n",
       "  <tbody>\n",
       "    <tr>\n",
       "      <th>0</th>\n",
       "      <td>37d61fd2272659b1</td>\n",
       "      <td>abatement</td>\n",
       "      <td>abatement of pollution</td>\n",
       "      <td>A47</td>\n",
       "      <td>0.50</td>\n",
       "    </tr>\n",
       "    <tr>\n",
       "      <th>1</th>\n",
       "      <td>7b9652b17b68b7a4</td>\n",
       "      <td>abatement</td>\n",
       "      <td>act of abating</td>\n",
       "      <td>A47</td>\n",
       "      <td>0.75</td>\n",
       "    </tr>\n",
       "    <tr>\n",
       "      <th>2</th>\n",
       "      <td>36d72442aefd8232</td>\n",
       "      <td>abatement</td>\n",
       "      <td>active catalyst</td>\n",
       "      <td>A47</td>\n",
       "      <td>0.25</td>\n",
       "    </tr>\n",
       "    <tr>\n",
       "      <th>3</th>\n",
       "      <td>5296b0c19e1ce60e</td>\n",
       "      <td>abatement</td>\n",
       "      <td>eliminating process</td>\n",
       "      <td>A47</td>\n",
       "      <td>0.50</td>\n",
       "    </tr>\n",
       "    <tr>\n",
       "      <th>4</th>\n",
       "      <td>54c1e3b9184cb5b6</td>\n",
       "      <td>abatement</td>\n",
       "      <td>forest region</td>\n",
       "      <td>A47</td>\n",
       "      <td>0.00</td>\n",
       "    </tr>\n",
       "  </tbody>\n",
       "</table>\n",
       "</div>"
      ],
      "text/plain": [
       "                 id     anchor                  target context  score\n",
       "0  37d61fd2272659b1  abatement  abatement of pollution     A47   0.50\n",
       "1  7b9652b17b68b7a4  abatement          act of abating     A47   0.75\n",
       "2  36d72442aefd8232  abatement         active catalyst     A47   0.25\n",
       "3  5296b0c19e1ce60e  abatement     eliminating process     A47   0.50\n",
       "4  54c1e3b9184cb5b6  abatement           forest region     A47   0.00"
      ]
     },
     "metadata": {},
     "output_type": "display_data"
    },
    {
     "data": {
      "text/html": [
       "<div>\n",
       "<style scoped>\n",
       "    .dataframe tbody tr th:only-of-type {\n",
       "        vertical-align: middle;\n",
       "    }\n",
       "\n",
       "    .dataframe tbody tr th {\n",
       "        vertical-align: top;\n",
       "    }\n",
       "\n",
       "    .dataframe thead th {\n",
       "        text-align: right;\n",
       "    }\n",
       "</style>\n",
       "<table border=\"1\" class=\"dataframe\">\n",
       "  <thead>\n",
       "    <tr style=\"text-align: right;\">\n",
       "      <th></th>\n",
       "      <th>id</th>\n",
       "      <th>anchor</th>\n",
       "      <th>target</th>\n",
       "      <th>context</th>\n",
       "    </tr>\n",
       "  </thead>\n",
       "  <tbody>\n",
       "    <tr>\n",
       "      <th>0</th>\n",
       "      <td>4112d61851461f60</td>\n",
       "      <td>opc drum</td>\n",
       "      <td>inorganic photoconductor drum</td>\n",
       "      <td>G02</td>\n",
       "    </tr>\n",
       "    <tr>\n",
       "      <th>1</th>\n",
       "      <td>09e418c93a776564</td>\n",
       "      <td>adjust gas flow</td>\n",
       "      <td>altering gas flow</td>\n",
       "      <td>F23</td>\n",
       "    </tr>\n",
       "    <tr>\n",
       "      <th>2</th>\n",
       "      <td>36baf228038e314b</td>\n",
       "      <td>lower trunnion</td>\n",
       "      <td>lower locating</td>\n",
       "      <td>B60</td>\n",
       "    </tr>\n",
       "    <tr>\n",
       "      <th>3</th>\n",
       "      <td>1f37ead645e7f0c8</td>\n",
       "      <td>cap component</td>\n",
       "      <td>upper portion</td>\n",
       "      <td>D06</td>\n",
       "    </tr>\n",
       "    <tr>\n",
       "      <th>4</th>\n",
       "      <td>71a5b6ad068d531f</td>\n",
       "      <td>neural stimulation</td>\n",
       "      <td>artificial neural network</td>\n",
       "      <td>H04</td>\n",
       "    </tr>\n",
       "  </tbody>\n",
       "</table>\n",
       "</div>"
      ],
      "text/plain": [
       "                 id              anchor                         target context\n",
       "0  4112d61851461f60            opc drum  inorganic photoconductor drum     G02\n",
       "1  09e418c93a776564     adjust gas flow              altering gas flow     F23\n",
       "2  36baf228038e314b      lower trunnion                 lower locating     B60\n",
       "3  1f37ead645e7f0c8       cap component                  upper portion     D06\n",
       "4  71a5b6ad068d531f  neural stimulation      artificial neural network     H04"
      ]
     },
     "metadata": {},
     "output_type": "display_data"
    },
    {
     "data": {
      "text/html": [
       "<div>\n",
       "<style scoped>\n",
       "    .dataframe tbody tr th:only-of-type {\n",
       "        vertical-align: middle;\n",
       "    }\n",
       "\n",
       "    .dataframe tbody tr th {\n",
       "        vertical-align: top;\n",
       "    }\n",
       "\n",
       "    .dataframe thead th {\n",
       "        text-align: right;\n",
       "    }\n",
       "</style>\n",
       "<table border=\"1\" class=\"dataframe\">\n",
       "  <thead>\n",
       "    <tr style=\"text-align: right;\">\n",
       "      <th></th>\n",
       "      <th>id</th>\n",
       "      <th>score</th>\n",
       "    </tr>\n",
       "  </thead>\n",
       "  <tbody>\n",
       "    <tr>\n",
       "      <th>0</th>\n",
       "      <td>4112d61851461f60</td>\n",
       "      <td>0</td>\n",
       "    </tr>\n",
       "    <tr>\n",
       "      <th>1</th>\n",
       "      <td>09e418c93a776564</td>\n",
       "      <td>0</td>\n",
       "    </tr>\n",
       "    <tr>\n",
       "      <th>2</th>\n",
       "      <td>36baf228038e314b</td>\n",
       "      <td>0</td>\n",
       "    </tr>\n",
       "    <tr>\n",
       "      <th>3</th>\n",
       "      <td>1f37ead645e7f0c8</td>\n",
       "      <td>0</td>\n",
       "    </tr>\n",
       "    <tr>\n",
       "      <th>4</th>\n",
       "      <td>71a5b6ad068d531f</td>\n",
       "      <td>0</td>\n",
       "    </tr>\n",
       "  </tbody>\n",
       "</table>\n",
       "</div>"
      ],
      "text/plain": [
       "                 id  score\n",
       "0  4112d61851461f60      0\n",
       "1  09e418c93a776564      0\n",
       "2  36baf228038e314b      0\n",
       "3  1f37ead645e7f0c8      0\n",
       "4  71a5b6ad068d531f      0"
      ]
     },
     "metadata": {},
     "output_type": "display_data"
    }
   ],
   "source": [
    "# ====================================================\n",
    "# Data Loading\n",
    "# ====================================================\n",
    "train = pd.read_csv(INPUT_DIR+'train.csv')\n",
    "test = pd.read_csv(INPUT_DIR+'test.csv')\n",
    "submission = pd.read_csv(INPUT_DIR+'sample_submission.csv')\n",
    "print(f\"train.shape: {train.shape}\")\n",
    "print(f\"test.shape: {test.shape}\")\n",
    "print(f\"submission.shape: {submission.shape}\")\n",
    "display(train.head())\n",
    "display(test.head())\n",
    "display(submission.head())"
   ]
  },
  {
   "cell_type": "code",
   "execution_count": 8,
   "id": "63c6cbd0",
   "metadata": {
    "execution": {
     "iopub.execute_input": "2022-06-02T05:55:32.129472Z",
     "iopub.status.busy": "2022-06-02T05:55:32.128277Z",
     "iopub.status.idle": "2022-06-02T05:55:32.950528Z",
     "shell.execute_reply": "2022-06-02T05:55:32.950973Z",
     "shell.execute_reply.started": "2022-05-30T13:35:04.67836Z"
    },
    "papermill": {
     "duration": 0.883375,
     "end_time": "2022-06-02T05:55:32.951139",
     "exception": false,
     "start_time": "2022-06-02T05:55:32.067764",
     "status": "completed"
    },
    "tags": []
   },
   "outputs": [
    {
     "data": {
      "text/html": [
       "<div>\n",
       "<style scoped>\n",
       "    .dataframe tbody tr th:only-of-type {\n",
       "        vertical-align: middle;\n",
       "    }\n",
       "\n",
       "    .dataframe tbody tr th {\n",
       "        vertical-align: top;\n",
       "    }\n",
       "\n",
       "    .dataframe thead th {\n",
       "        text-align: right;\n",
       "    }\n",
       "</style>\n",
       "<table border=\"1\" class=\"dataframe\">\n",
       "  <thead>\n",
       "    <tr style=\"text-align: right;\">\n",
       "      <th></th>\n",
       "      <th>id</th>\n",
       "      <th>anchor</th>\n",
       "      <th>target</th>\n",
       "      <th>context</th>\n",
       "      <th>score</th>\n",
       "      <th>context_text</th>\n",
       "    </tr>\n",
       "  </thead>\n",
       "  <tbody>\n",
       "    <tr>\n",
       "      <th>0</th>\n",
       "      <td>37d61fd2272659b1</td>\n",
       "      <td>abatement</td>\n",
       "      <td>abatement of pollution</td>\n",
       "      <td>A47</td>\n",
       "      <td>0.50</td>\n",
       "      <td>HUMAN NECESSITIES. FURNITURE; DOMESTIC ARTICLE...</td>\n",
       "    </tr>\n",
       "    <tr>\n",
       "      <th>1</th>\n",
       "      <td>7b9652b17b68b7a4</td>\n",
       "      <td>abatement</td>\n",
       "      <td>act of abating</td>\n",
       "      <td>A47</td>\n",
       "      <td>0.75</td>\n",
       "      <td>HUMAN NECESSITIES. FURNITURE; DOMESTIC ARTICLE...</td>\n",
       "    </tr>\n",
       "    <tr>\n",
       "      <th>2</th>\n",
       "      <td>36d72442aefd8232</td>\n",
       "      <td>abatement</td>\n",
       "      <td>active catalyst</td>\n",
       "      <td>A47</td>\n",
       "      <td>0.25</td>\n",
       "      <td>HUMAN NECESSITIES. FURNITURE; DOMESTIC ARTICLE...</td>\n",
       "    </tr>\n",
       "    <tr>\n",
       "      <th>3</th>\n",
       "      <td>5296b0c19e1ce60e</td>\n",
       "      <td>abatement</td>\n",
       "      <td>eliminating process</td>\n",
       "      <td>A47</td>\n",
       "      <td>0.50</td>\n",
       "      <td>HUMAN NECESSITIES. FURNITURE; DOMESTIC ARTICLE...</td>\n",
       "    </tr>\n",
       "    <tr>\n",
       "      <th>4</th>\n",
       "      <td>54c1e3b9184cb5b6</td>\n",
       "      <td>abatement</td>\n",
       "      <td>forest region</td>\n",
       "      <td>A47</td>\n",
       "      <td>0.00</td>\n",
       "      <td>HUMAN NECESSITIES. FURNITURE; DOMESTIC ARTICLE...</td>\n",
       "    </tr>\n",
       "  </tbody>\n",
       "</table>\n",
       "</div>"
      ],
      "text/plain": [
       "                 id     anchor                  target context  score                                       context_text\n",
       "0  37d61fd2272659b1  abatement  abatement of pollution     A47   0.50  HUMAN NECESSITIES. FURNITURE; DOMESTIC ARTICLE...\n",
       "1  7b9652b17b68b7a4  abatement          act of abating     A47   0.75  HUMAN NECESSITIES. FURNITURE; DOMESTIC ARTICLE...\n",
       "2  36d72442aefd8232  abatement         active catalyst     A47   0.25  HUMAN NECESSITIES. FURNITURE; DOMESTIC ARTICLE...\n",
       "3  5296b0c19e1ce60e  abatement     eliminating process     A47   0.50  HUMAN NECESSITIES. FURNITURE; DOMESTIC ARTICLE...\n",
       "4  54c1e3b9184cb5b6  abatement           forest region     A47   0.00  HUMAN NECESSITIES. FURNITURE; DOMESTIC ARTICLE..."
      ]
     },
     "metadata": {},
     "output_type": "display_data"
    },
    {
     "data": {
      "text/html": [
       "<div>\n",
       "<style scoped>\n",
       "    .dataframe tbody tr th:only-of-type {\n",
       "        vertical-align: middle;\n",
       "    }\n",
       "\n",
       "    .dataframe tbody tr th {\n",
       "        vertical-align: top;\n",
       "    }\n",
       "\n",
       "    .dataframe thead th {\n",
       "        text-align: right;\n",
       "    }\n",
       "</style>\n",
       "<table border=\"1\" class=\"dataframe\">\n",
       "  <thead>\n",
       "    <tr style=\"text-align: right;\">\n",
       "      <th></th>\n",
       "      <th>id</th>\n",
       "      <th>anchor</th>\n",
       "      <th>target</th>\n",
       "      <th>context</th>\n",
       "      <th>context_text</th>\n",
       "    </tr>\n",
       "  </thead>\n",
       "  <tbody>\n",
       "    <tr>\n",
       "      <th>0</th>\n",
       "      <td>4112d61851461f60</td>\n",
       "      <td>opc drum</td>\n",
       "      <td>inorganic photoconductor drum</td>\n",
       "      <td>G02</td>\n",
       "      <td>PHYSICS. OPTICS</td>\n",
       "    </tr>\n",
       "    <tr>\n",
       "      <th>1</th>\n",
       "      <td>09e418c93a776564</td>\n",
       "      <td>adjust gas flow</td>\n",
       "      <td>altering gas flow</td>\n",
       "      <td>F23</td>\n",
       "      <td>MECHANICAL ENGINEERING; LIGHTING; HEATING; WEA...</td>\n",
       "    </tr>\n",
       "    <tr>\n",
       "      <th>2</th>\n",
       "      <td>36baf228038e314b</td>\n",
       "      <td>lower trunnion</td>\n",
       "      <td>lower locating</td>\n",
       "      <td>B60</td>\n",
       "      <td>PERFORMING OPERATIONS; TRANSPORTING. VEHICLES ...</td>\n",
       "    </tr>\n",
       "    <tr>\n",
       "      <th>3</th>\n",
       "      <td>1f37ead645e7f0c8</td>\n",
       "      <td>cap component</td>\n",
       "      <td>upper portion</td>\n",
       "      <td>D06</td>\n",
       "      <td>TEXTILES; PAPER. TREATMENT OF TEXTILES OR THE ...</td>\n",
       "    </tr>\n",
       "    <tr>\n",
       "      <th>4</th>\n",
       "      <td>71a5b6ad068d531f</td>\n",
       "      <td>neural stimulation</td>\n",
       "      <td>artificial neural network</td>\n",
       "      <td>H04</td>\n",
       "      <td>ELECTRICITY. ELECTRIC COMMUNICATION TECHNIQUE</td>\n",
       "    </tr>\n",
       "  </tbody>\n",
       "</table>\n",
       "</div>"
      ],
      "text/plain": [
       "                 id              anchor                         target context                                       context_text\n",
       "0  4112d61851461f60            opc drum  inorganic photoconductor drum     G02                                    PHYSICS. OPTICS\n",
       "1  09e418c93a776564     adjust gas flow              altering gas flow     F23  MECHANICAL ENGINEERING; LIGHTING; HEATING; WEA...\n",
       "2  36baf228038e314b      lower trunnion                 lower locating     B60  PERFORMING OPERATIONS; TRANSPORTING. VEHICLES ...\n",
       "3  1f37ead645e7f0c8       cap component                  upper portion     D06  TEXTILES; PAPER. TREATMENT OF TEXTILES OR THE ...\n",
       "4  71a5b6ad068d531f  neural stimulation      artificial neural network     H04      ELECTRICITY. ELECTRIC COMMUNICATION TECHNIQUE"
      ]
     },
     "metadata": {},
     "output_type": "display_data"
    }
   ],
   "source": [
    "# ====================================================\n",
    "# CPC Data 主要是为了将cpc的一些文本关联到现在的数据上\n",
    "# ====================================================\n",
    "def get_cpc_texts():\n",
    "    contexts = []\n",
    "    pattern = '[A-Z]\\d+'\n",
    "    for file_name in os.listdir('../input/cpc-data/CPCSchemeXML202105'): # os.listdir() 方法用于返回指定的文件夹包含的文件或文件夹的名字的列表\n",
    "        result = re.findall(pattern, file_name)  # 筛选英文字母和数字\n",
    "        if result:\n",
    "            contexts.append(result)\n",
    "    contexts = sorted(set(sum(contexts, []))) # sum([['a1'],['b2']],[])-> ['a1', 'b2']\n",
    "    results = {}\n",
    "    for cpc in ['A', 'B', 'C', 'D', 'E', 'F', 'G', 'H', 'Y']:\n",
    "        with open(f'../input/cpc-data/CPCTitleList202202/cpc-section-{cpc}_20220201.txt') as f:\n",
    "            s = f.read()\n",
    "        pattern = f'{cpc}\\t\\t.+'\n",
    "        result = re.findall(pattern, s) # ['A\\t\\tHUMAN NECESSITIES']\n",
    "        cpc_result = result[0].lstrip(pattern)  # 'HUMAN NECESSITIES'\n",
    "        for context in [c for c in contexts if c[0] == cpc]:\n",
    "            pattern = f'{context}\\t\\t.+' # 'A01\\t\\t.+'\n",
    "            result = re.findall(pattern, s)  #['A01\\t\\tAGRICULTURE; FORESTRY; ANIMAL HUSBANDRY; HUNTING; TRAPPING; FISHING']\n",
    "            results[context] = cpc_result + \". \" + result[0].lstrip(pattern)\n",
    "    return results\n",
    "\n",
    "\n",
    "cpc_texts = get_cpc_texts()\n",
    "torch.save(cpc_texts, OUTPUT_DIR+\"cpc_texts.pth\")\n",
    "train['context_text'] = train['context'].map(cpc_texts)\n",
    "test['context_text'] = test['context'].map(cpc_texts)\n",
    "display(train.head())\n",
    "display(test.head())"
   ]
  },
  {
   "cell_type": "code",
   "execution_count": 9,
   "id": "65889ba2",
   "metadata": {
    "execution": {
     "iopub.execute_input": "2022-06-02T05:55:33.084976Z",
     "iopub.status.busy": "2022-06-02T05:55:33.045645Z",
     "iopub.status.idle": "2022-06-02T05:55:33.098179Z",
     "shell.execute_reply": "2022-06-02T05:55:33.098724Z",
     "shell.execute_reply.started": "2022-05-30T13:35:05.318033Z"
    },
    "papermill": {
     "duration": 0.104088,
     "end_time": "2022-06-02T05:55:33.098890",
     "exception": false,
     "start_time": "2022-06-02T05:55:32.994802",
     "status": "completed"
    },
    "tags": []
   },
   "outputs": [
    {
     "data": {
      "text/html": [
       "<div>\n",
       "<style scoped>\n",
       "    .dataframe tbody tr th:only-of-type {\n",
       "        vertical-align: middle;\n",
       "    }\n",
       "\n",
       "    .dataframe tbody tr th {\n",
       "        vertical-align: top;\n",
       "    }\n",
       "\n",
       "    .dataframe thead th {\n",
       "        text-align: right;\n",
       "    }\n",
       "</style>\n",
       "<table border=\"1\" class=\"dataframe\">\n",
       "  <thead>\n",
       "    <tr style=\"text-align: right;\">\n",
       "      <th></th>\n",
       "      <th>id</th>\n",
       "      <th>anchor</th>\n",
       "      <th>target</th>\n",
       "      <th>context</th>\n",
       "      <th>score</th>\n",
       "      <th>context_text</th>\n",
       "      <th>text</th>\n",
       "    </tr>\n",
       "  </thead>\n",
       "  <tbody>\n",
       "    <tr>\n",
       "      <th>0</th>\n",
       "      <td>37d61fd2272659b1</td>\n",
       "      <td>abatement</td>\n",
       "      <td>abatement of pollution</td>\n",
       "      <td>A47</td>\n",
       "      <td>0.50</td>\n",
       "      <td>HUMAN NECESSITIES. FURNITURE; DOMESTIC ARTICLE...</td>\n",
       "      <td>abatement[SEP]abatement of pollution[SEP]HUMAN...</td>\n",
       "    </tr>\n",
       "    <tr>\n",
       "      <th>1</th>\n",
       "      <td>7b9652b17b68b7a4</td>\n",
       "      <td>abatement</td>\n",
       "      <td>act of abating</td>\n",
       "      <td>A47</td>\n",
       "      <td>0.75</td>\n",
       "      <td>HUMAN NECESSITIES. FURNITURE; DOMESTIC ARTICLE...</td>\n",
       "      <td>abatement[SEP]act of abating[SEP]HUMAN NECESSI...</td>\n",
       "    </tr>\n",
       "    <tr>\n",
       "      <th>2</th>\n",
       "      <td>36d72442aefd8232</td>\n",
       "      <td>abatement</td>\n",
       "      <td>active catalyst</td>\n",
       "      <td>A47</td>\n",
       "      <td>0.25</td>\n",
       "      <td>HUMAN NECESSITIES. FURNITURE; DOMESTIC ARTICLE...</td>\n",
       "      <td>abatement[SEP]active catalyst[SEP]HUMAN NECESS...</td>\n",
       "    </tr>\n",
       "    <tr>\n",
       "      <th>3</th>\n",
       "      <td>5296b0c19e1ce60e</td>\n",
       "      <td>abatement</td>\n",
       "      <td>eliminating process</td>\n",
       "      <td>A47</td>\n",
       "      <td>0.50</td>\n",
       "      <td>HUMAN NECESSITIES. FURNITURE; DOMESTIC ARTICLE...</td>\n",
       "      <td>abatement[SEP]eliminating process[SEP]HUMAN NE...</td>\n",
       "    </tr>\n",
       "    <tr>\n",
       "      <th>4</th>\n",
       "      <td>54c1e3b9184cb5b6</td>\n",
       "      <td>abatement</td>\n",
       "      <td>forest region</td>\n",
       "      <td>A47</td>\n",
       "      <td>0.00</td>\n",
       "      <td>HUMAN NECESSITIES. FURNITURE; DOMESTIC ARTICLE...</td>\n",
       "      <td>abatement[SEP]forest region[SEP]HUMAN NECESSIT...</td>\n",
       "    </tr>\n",
       "  </tbody>\n",
       "</table>\n",
       "</div>"
      ],
      "text/plain": [
       "                 id     anchor                  target context  score                                       context_text                                               text\n",
       "0  37d61fd2272659b1  abatement  abatement of pollution     A47   0.50  HUMAN NECESSITIES. FURNITURE; DOMESTIC ARTICLE...  abatement[SEP]abatement of pollution[SEP]HUMAN...\n",
       "1  7b9652b17b68b7a4  abatement          act of abating     A47   0.75  HUMAN NECESSITIES. FURNITURE; DOMESTIC ARTICLE...  abatement[SEP]act of abating[SEP]HUMAN NECESSI...\n",
       "2  36d72442aefd8232  abatement         active catalyst     A47   0.25  HUMAN NECESSITIES. FURNITURE; DOMESTIC ARTICLE...  abatement[SEP]active catalyst[SEP]HUMAN NECESS...\n",
       "3  5296b0c19e1ce60e  abatement     eliminating process     A47   0.50  HUMAN NECESSITIES. FURNITURE; DOMESTIC ARTICLE...  abatement[SEP]eliminating process[SEP]HUMAN NE...\n",
       "4  54c1e3b9184cb5b6  abatement           forest region     A47   0.00  HUMAN NECESSITIES. FURNITURE; DOMESTIC ARTICLE...  abatement[SEP]forest region[SEP]HUMAN NECESSIT..."
      ]
     },
     "metadata": {},
     "output_type": "display_data"
    },
    {
     "data": {
      "text/html": [
       "<div>\n",
       "<style scoped>\n",
       "    .dataframe tbody tr th:only-of-type {\n",
       "        vertical-align: middle;\n",
       "    }\n",
       "\n",
       "    .dataframe tbody tr th {\n",
       "        vertical-align: top;\n",
       "    }\n",
       "\n",
       "    .dataframe thead th {\n",
       "        text-align: right;\n",
       "    }\n",
       "</style>\n",
       "<table border=\"1\" class=\"dataframe\">\n",
       "  <thead>\n",
       "    <tr style=\"text-align: right;\">\n",
       "      <th></th>\n",
       "      <th>id</th>\n",
       "      <th>anchor</th>\n",
       "      <th>target</th>\n",
       "      <th>context</th>\n",
       "      <th>context_text</th>\n",
       "      <th>text</th>\n",
       "    </tr>\n",
       "  </thead>\n",
       "  <tbody>\n",
       "    <tr>\n",
       "      <th>0</th>\n",
       "      <td>4112d61851461f60</td>\n",
       "      <td>opc drum</td>\n",
       "      <td>inorganic photoconductor drum</td>\n",
       "      <td>G02</td>\n",
       "      <td>PHYSICS. OPTICS</td>\n",
       "      <td>opc drum[SEP]inorganic photoconductor drum[SEP...</td>\n",
       "    </tr>\n",
       "    <tr>\n",
       "      <th>1</th>\n",
       "      <td>09e418c93a776564</td>\n",
       "      <td>adjust gas flow</td>\n",
       "      <td>altering gas flow</td>\n",
       "      <td>F23</td>\n",
       "      <td>MECHANICAL ENGINEERING; LIGHTING; HEATING; WEA...</td>\n",
       "      <td>adjust gas flow[SEP]altering gas flow[SEP]MECH...</td>\n",
       "    </tr>\n",
       "    <tr>\n",
       "      <th>2</th>\n",
       "      <td>36baf228038e314b</td>\n",
       "      <td>lower trunnion</td>\n",
       "      <td>lower locating</td>\n",
       "      <td>B60</td>\n",
       "      <td>PERFORMING OPERATIONS; TRANSPORTING. VEHICLES ...</td>\n",
       "      <td>lower trunnion[SEP]lower locating[SEP]PERFORMI...</td>\n",
       "    </tr>\n",
       "    <tr>\n",
       "      <th>3</th>\n",
       "      <td>1f37ead645e7f0c8</td>\n",
       "      <td>cap component</td>\n",
       "      <td>upper portion</td>\n",
       "      <td>D06</td>\n",
       "      <td>TEXTILES; PAPER. TREATMENT OF TEXTILES OR THE ...</td>\n",
       "      <td>cap component[SEP]upper portion[SEP]TEXTILES; ...</td>\n",
       "    </tr>\n",
       "    <tr>\n",
       "      <th>4</th>\n",
       "      <td>71a5b6ad068d531f</td>\n",
       "      <td>neural stimulation</td>\n",
       "      <td>artificial neural network</td>\n",
       "      <td>H04</td>\n",
       "      <td>ELECTRICITY. ELECTRIC COMMUNICATION TECHNIQUE</td>\n",
       "      <td>neural stimulation[SEP]artificial neural netwo...</td>\n",
       "    </tr>\n",
       "  </tbody>\n",
       "</table>\n",
       "</div>"
      ],
      "text/plain": [
       "                 id              anchor                         target context                                       context_text                                               text\n",
       "0  4112d61851461f60            opc drum  inorganic photoconductor drum     G02                                    PHYSICS. OPTICS  opc drum[SEP]inorganic photoconductor drum[SEP...\n",
       "1  09e418c93a776564     adjust gas flow              altering gas flow     F23  MECHANICAL ENGINEERING; LIGHTING; HEATING; WEA...  adjust gas flow[SEP]altering gas flow[SEP]MECH...\n",
       "2  36baf228038e314b      lower trunnion                 lower locating     B60  PERFORMING OPERATIONS; TRANSPORTING. VEHICLES ...  lower trunnion[SEP]lower locating[SEP]PERFORMI...\n",
       "3  1f37ead645e7f0c8       cap component                  upper portion     D06  TEXTILES; PAPER. TREATMENT OF TEXTILES OR THE ...  cap component[SEP]upper portion[SEP]TEXTILES; ...\n",
       "4  71a5b6ad068d531f  neural stimulation      artificial neural network     H04      ELECTRICITY. ELECTRIC COMMUNICATION TECHNIQUE  neural stimulation[SEP]artificial neural netwo..."
      ]
     },
     "metadata": {},
     "output_type": "display_data"
    }
   ],
   "source": [
    "train['text'] = train['anchor'] + '[SEP]' + train['target'] + '[SEP]'  + train['context_text']\n",
    "test['text'] = test['anchor'] + '[SEP]' + test['target'] + '[SEP]'  + test['context_text']\n",
    "display(train.head())\n",
    "display(test.head())"
   ]
  },
  {
   "cell_type": "markdown",
   "id": "38a685e7",
   "metadata": {
    "papermill": {
     "duration": 0.049427,
     "end_time": "2022-06-02T05:55:33.195799",
     "exception": false,
     "start_time": "2022-06-02T05:55:33.146372",
     "status": "completed"
    },
    "tags": []
   },
   "source": [
    "# EDA"
   ]
  },
  {
   "cell_type": "code",
   "execution_count": 10,
   "id": "af783ec0",
   "metadata": {
    "execution": {
     "iopub.execute_input": "2022-06-02T05:55:33.296329Z",
     "iopub.status.busy": "2022-06-02T05:55:33.295616Z",
     "iopub.status.idle": "2022-06-02T05:55:33.568781Z",
     "shell.execute_reply": "2022-06-02T05:55:33.568252Z",
     "shell.execute_reply.started": "2022-05-30T13:35:05.373466Z"
    },
    "papermill": {
     "duration": 0.325912,
     "end_time": "2022-06-02T05:55:33.568966",
     "exception": false,
     "start_time": "2022-06-02T05:55:33.243054",
     "status": "completed"
    },
    "tags": []
   },
   "outputs": [
    {
     "data": {
      "text/plain": [
       "<AxesSubplot:>"
      ]
     },
     "execution_count": 10,
     "metadata": {},
     "output_type": "execute_result"
    },
    {
     "data": {
      "image/png": "[encoded data removed]",
      "text/plain": [
       "<Figure size 432x288 with 1 Axes>"
      ]
     },
     "metadata": {
      "needs_background": "light"
     },
     "output_type": "display_data"
    }
   ],
   "source": [
    "train['score'].hist()"
   ]
  },
  {
   "cell_type": "code",
   "execution_count": 11,
   "id": "b7b1d555",
   "metadata": {
    "execution": {
     "iopub.execute_input": "2022-06-02T05:55:33.685978Z",
     "iopub.status.busy": "2022-06-02T05:55:33.680095Z",
     "iopub.status.idle": "2022-06-02T05:55:33.691053Z",
     "shell.execute_reply": "2022-06-02T05:55:33.691543Z",
     "shell.execute_reply.started": "2022-05-30T13:35:05.675949Z"
    },
    "papermill": {
     "duration": 0.07357,
     "end_time": "2022-06-02T05:55:33.691698",
     "exception": false,
     "start_time": "2022-06-02T05:55:33.618128",
     "status": "completed"
    },
    "tags": []
   },
   "outputs": [
    {
     "data": {
      "text/plain": [
       "B    8019\n",
       "H    6195\n",
       "G    6013\n",
       "C    5288\n",
       "A    4094\n",
       "F    4054\n",
       "E    1531\n",
       "D    1279\n",
       "Name: context, dtype: int64"
      ]
     },
     "metadata": {},
     "output_type": "display_data"
    }
   ],
   "source": [
    "display(train['context'].apply(lambda x: x[0]).value_counts())"
   ]
  },
  {
   "cell_type": "markdown",
   "id": "da8f9ba3",
   "metadata": {
    "papermill": {
     "duration": 0.048583,
     "end_time": "2022-06-02T05:55:33.788112",
     "exception": false,
     "start_time": "2022-06-02T05:55:33.739529",
     "status": "completed"
    },
    "tags": []
   },
   "source": [
    "- Y is not in training data, but may be in test data?"
   ]
  },
  {
   "cell_type": "markdown",
   "id": "4c50772f",
   "metadata": {
    "id": "9e05b6c4",
    "papermill": {
     "duration": 0.047013,
     "end_time": "2022-06-02T05:55:33.880001",
     "exception": false,
     "start_time": "2022-06-02T05:55:33.832988",
     "status": "completed"
    },
    "tags": []
   },
   "source": [
    "# CV split"
   ]
  },
  {
   "cell_type": "code",
   "execution_count": 12,
   "id": "1f1c3478",
   "metadata": {
    "execution": {
     "iopub.execute_input": "2022-06-02T05:55:34.049299Z",
     "iopub.status.busy": "2022-06-02T05:55:34.048268Z",
     "iopub.status.idle": "2022-06-02T05:55:34.090383Z",
     "shell.execute_reply": "2022-06-02T05:55:34.091669Z",
     "shell.execute_reply.started": "2022-05-30T13:35:05.700484Z"
    },
    "executionInfo": {
     "elapsed": 12,
     "status": "ok",
     "timestamp": 1644920084528,
     "user": {
      "displayName": "Yasufumi Nakama",
      "photoUrl": "https://lh3.googleusercontent.com/a/default-user=s64",
      "userId": "17486303986134302670"
     },
     "user_tz": -540
    },
    "id": "3ba287c4",
    "outputId": "307dc0e2-17d6-4bfe-9e95-fdd9b6303974",
    "papermill": {
     "duration": 0.129129,
     "end_time": "2022-06-02T05:55:34.091938",
     "exception": false,
     "start_time": "2022-06-02T05:55:33.962809",
     "status": "completed"
    },
    "tags": []
   },
   "outputs": [
    {
     "data": {
      "text/plain": [
       "fold\n",
       "0    9119\n",
       "1    9118\n",
       "2    9118\n",
       "3    9118\n",
       "dtype: int64"
      ]
     },
     "metadata": {},
     "output_type": "display_data"
    }
   ],
   "source": [
    "# ====================================================\n",
    "# CV split\n",
    "# ====================================================\n",
    "train['score_map'] = train['score'].map({0.00: 0, 0.25: 1, 0.50: 2, 0.75: 3, 1.00: 4})\n",
    "Fold = StratifiedKFold(n_splits=CFG.n_fold, shuffle=True, random_state=CFG.seed)\n",
    "for n, (train_index, val_index) in enumerate(Fold.split(train, train['score_map'])):\n",
    "    train.loc[val_index, 'fold'] = int(n)\n",
    "train['fold'] = train['fold'].astype(int)\n",
    "display(train.groupby('fold').size())"
   ]
  },
  {
   "cell_type": "code",
   "execution_count": 13,
   "id": "ffb24451",
   "metadata": {
    "execution": {
     "iopub.execute_input": "2022-06-02T05:55:34.351846Z",
     "iopub.status.busy": "2022-06-02T05:55:34.347743Z",
     "iopub.status.idle": "2022-06-02T05:55:34.353550Z",
     "shell.execute_reply": "2022-06-02T05:55:34.352752Z",
     "shell.execute_reply.started": "2022-05-30T13:35:05.740157Z"
    },
    "id": "4c3ce877",
    "papermill": {
     "duration": 0.169687,
     "end_time": "2022-06-02T05:55:34.353752",
     "exception": false,
     "start_time": "2022-06-02T05:55:34.184065",
     "status": "completed"
    },
    "tags": []
   },
   "outputs": [],
   "source": [
    "if CFG.debug:\n",
    "    display(train.groupby('fold').size())\n",
    "    train = train.sample(n=1000, random_state=0).reset_index(drop=True)\n",
    "    display(train.groupby('fold').size())"
   ]
  },
  {
   "cell_type": "markdown",
   "id": "c907993b",
   "metadata": {
    "id": "918a28aa",
    "papermill": {
     "duration": 0.075107,
     "end_time": "2022-06-02T05:55:34.528707",
     "exception": false,
     "start_time": "2022-06-02T05:55:34.453600",
     "status": "completed"
    },
    "tags": []
   },
   "source": [
    "# tokenizer"
   ]
  },
  {
   "cell_type": "code",
   "execution_count": 14,
   "id": "f53c4459",
   "metadata": {
    "execution": {
     "iopub.execute_input": "2022-06-02T05:55:34.697321Z",
     "iopub.status.busy": "2022-06-02T05:55:34.696388Z",
     "iopub.status.idle": "2022-06-02T05:55:46.899057Z",
     "shell.execute_reply": "2022-06-02T05:55:46.898071Z",
     "shell.execute_reply.started": "2022-05-30T13:35:05.756612Z"
    },
    "papermill": {
     "duration": 12.290979,
     "end_time": "2022-06-02T05:55:46.899220",
     "exception": false,
     "start_time": "2022-06-02T05:55:34.608241",
     "status": "completed"
    },
    "tags": []
   },
   "outputs": [
    {
     "data": {
      "application/vnd.jupyter.widget-view+json": {
       "model_id": "ae476ce91cac438c9cad6e0b9d918632",
       "version_major": 2,
       "version_minor": 0
      },
      "text/plain": [
       "Downloading:   0%|          | 0.00/327 [00:00<?, ?B/s]"
      ]
     },
     "metadata": {},
     "output_type": "display_data"
    },
    {
     "data": {
      "application/vnd.jupyter.widget-view+json": {
       "model_id": "fa33d515a9d442149a6b09b5da7f6b97",
       "version_major": 2,
       "version_minor": 0
      },
      "text/plain": [
       "Downloading:   0%|          | 0.00/322k [00:00<?, ?B/s]"
      ]
     },
     "metadata": {},
     "output_type": "display_data"
    }
   ],
   "source": [
    "# ====================================================\n",
    "# tokenizer\n",
    "# ====================================================\n",
    "tokenizer = AutoTokenizer.from_pretrained(CFG.model)\n",
    "tokenizer.save_pretrained(OUTPUT_DIR+'tokenizer/')\n",
    "CFG.tokenizer = tokenizer"
   ]
  },
  {
   "cell_type": "code",
   "execution_count": 15,
   "id": "5fb359e5",
   "metadata": {
    "execution": {
     "iopub.execute_input": "2022-06-02T05:55:47.009168Z",
     "iopub.status.busy": "2022-06-02T05:55:47.008222Z",
     "iopub.status.idle": "2022-06-02T05:55:47.011894Z",
     "shell.execute_reply": "2022-06-02T05:55:47.012563Z",
     "shell.execute_reply.started": "2022-05-30T13:35:10.966131Z"
    },
    "papermill": {
     "duration": 0.064236,
     "end_time": "2022-06-02T05:55:47.012765",
     "exception": false,
     "start_time": "2022-06-02T05:55:46.948529",
     "status": "completed"
    },
    "tags": []
   },
   "outputs": [
    {
     "data": {
      "text/plain": [
       "PreTrainedTokenizerFast(name_or_path='anferico/bert-for-patents', vocab_size=39859, model_max_len=1000000000000000019884624838656, is_fast=True, padding_side='right', truncation_side='right', special_tokens={'unk_token': '[UNK]', 'sep_token': '[SEP]', 'pad_token': '[PAD]', 'cls_token': '[CLS]', 'mask_token': '[MASK]'})"
      ]
     },
     "execution_count": 15,
     "metadata": {},
     "output_type": "execute_result"
    }
   ],
   "source": [
    "CFG.tokenizer"
   ]
  },
  {
   "cell_type": "markdown",
   "id": "78dbb8d4",
   "metadata": {
    "id": "14da40cf",
    "papermill": {
     "duration": 0.046999,
     "end_time": "2022-06-02T05:55:47.109707",
     "exception": false,
     "start_time": "2022-06-02T05:55:47.062708",
     "status": "completed"
    },
    "tags": []
   },
   "source": [
    "# Dataset"
   ]
  },
  {
   "cell_type": "code",
   "execution_count": 16,
   "id": "d6a580da",
   "metadata": {
    "execution": {
     "iopub.execute_input": "2022-06-02T05:55:47.291177Z",
     "iopub.status.busy": "2022-06-02T05:55:47.290231Z",
     "iopub.status.idle": "2022-06-02T05:55:52.307204Z",
     "shell.execute_reply": "2022-06-02T05:55:52.307715Z",
     "shell.execute_reply.started": "2022-05-30T13:35:10.97715Z"
    },
    "executionInfo": {
     "elapsed": 32827,
     "status": "ok",
     "timestamp": 1644920122500,
     "user": {
      "displayName": "Yasufumi Nakama",
      "photoUrl": "https://lh3.googleusercontent.com/a/default-user=s64",
      "userId": "17486303986134302670"
     },
     "user_tz": -540
    },
    "id": "c00327b0",
    "outputId": "26e947da-b73a-494d-e776-906b037ac08a",
    "papermill": {
     "duration": 5.126127,
     "end_time": "2022-06-02T05:55:52.307881",
     "exception": false,
     "start_time": "2022-06-02T05:55:47.181754",
     "status": "completed"
    },
    "tags": []
   },
   "outputs": [
    {
     "data": {
      "application/vnd.jupyter.widget-view+json": {
       "model_id": "12f039b07fb34552b94c3c8b41934ffa",
       "version_major": 2,
       "version_minor": 0
      },
      "text/plain": [
       "  0%|          | 0/136 [00:00<?, ?it/s]"
      ]
     },
     "metadata": {},
     "output_type": "display_data"
    },
    {
     "data": {
      "application/vnd.jupyter.widget-view+json": {
       "model_id": "9500a84a44d847aaadf303bb8d6b1af0",
       "version_major": 2,
       "version_minor": 0
      },
      "text/plain": [
       "  0%|          | 0/36473 [00:00<?, ?it/s]"
      ]
     },
     "metadata": {},
     "output_type": "display_data"
    },
    {
     "data": {
      "application/vnd.jupyter.widget-view+json": {
       "model_id": "c080fc94a7ca41f8af94a44ba16666d1",
       "version_major": 2,
       "version_minor": 0
      },
      "text/plain": [
       "  0%|          | 0/36473 [00:00<?, ?it/s]"
      ]
     },
     "metadata": {},
     "output_type": "display_data"
    },
    {
     "name": "stderr",
     "output_type": "stream",
     "text": [
      "max_len: 117\n"
     ]
    }
   ],
   "source": [
    "# ====================================================\n",
    "# Define max_len 主要为了计算拼接后文本的长度\n",
    "# ====================================================\n",
    "lengths_dict = {}\n",
    "\n",
    "lengths = []\n",
    "tk0 = tqdm(cpc_texts.values(), total=len(cpc_texts))\n",
    "for text in tk0:\n",
    "    length = len(tokenizer(text, add_special_tokens=False)['input_ids'])  # 计算cpc_contexts文本的长度\n",
    "    lengths.append(length)\n",
    "lengths_dict['context_text'] = lengths\n",
    "\n",
    "for text_col in ['anchor', 'target']:\n",
    "    lengths = []\n",
    "    tk0 = tqdm(train[text_col].fillna(\"\").values, total=len(train))\n",
    "    for text in tk0:\n",
    "        length = len(tokenizer(text, add_special_tokens=False)['input_ids'])\n",
    "        lengths.append(length)\n",
    "    lengths_dict[text_col] = lengths\n",
    "    \n",
    "CFG.max_len = max(lengths_dict['anchor']) + max(lengths_dict['target'])\\\n",
    "                + max(lengths_dict['context_text']) + 4 # CLS + SEP + SEP + SEP\n",
    "LOGGER.info(f\"max_len: {CFG.max_len}\")"
   ]
  },
  {
   "cell_type": "code",
   "execution_count": 17,
   "id": "5f73a9e5",
   "metadata": {
    "execution": {
     "iopub.execute_input": "2022-06-02T05:55:52.419402Z",
     "iopub.status.busy": "2022-06-02T05:55:52.418502Z",
     "iopub.status.idle": "2022-06-02T05:55:52.423884Z",
     "shell.execute_reply": "2022-06-02T05:55:52.424920Z",
     "shell.execute_reply.started": "2022-05-30T13:35:21.057147Z"
    },
    "id": "9f791a19",
    "papermill": {
     "duration": 0.06403,
     "end_time": "2022-06-02T05:55:52.425130",
     "exception": false,
     "start_time": "2022-06-02T05:55:52.361100",
     "status": "completed"
    },
    "tags": []
   },
   "outputs": [],
   "source": [
    "# ====================================================\n",
    "# Dataset\n",
    "# ====================================================\n",
    "def prepare_input(cfg, text):\n",
    "    inputs = cfg.tokenizer(text,\n",
    "                           add_special_tokens=True,\n",
    "                           max_length=cfg.max_len,\n",
    "                           padding=\"max_length\",\n",
    "                           return_offsets_mapping=False)\n",
    "    for k, v in inputs.items():\n",
    "        inputs[k] = torch.tensor(v, dtype=torch.long) # 转成tensor\n",
    "    return inputs\n",
    "\n",
    "\n",
    "class TrainDataset(Dataset):\n",
    "    def __init__(self, cfg, df):\n",
    "        self.cfg = cfg\n",
    "        self.texts = df['text'].values\n",
    "        self.labels = df['score'].values\n",
    "\n",
    "    def __len__(self):\n",
    "        return len(self.labels)\n",
    "\n",
    "    def __getitem__(self, item):\n",
    "        inputs = prepare_input(self.cfg, self.texts[item])\n",
    "        label = torch.tensor(self.labels[item], dtype=torch.float)\n",
    "        return inputs, label"
   ]
  },
  {
   "cell_type": "code",
   "execution_count": 18,
   "id": "4acc03de",
   "metadata": {
    "execution": {
     "iopub.execute_input": "2022-06-02T05:55:52.531885Z",
     "iopub.status.busy": "2022-06-02T05:55:52.531029Z",
     "iopub.status.idle": "2022-06-02T05:55:52.621571Z",
     "shell.execute_reply": "2022-06-02T05:55:52.622024Z",
     "shell.execute_reply.started": "2022-05-30T13:35:21.074102Z"
    },
    "executionInfo": {
     "elapsed": 8,
     "status": "ok",
     "timestamp": 1644920122808,
     "user": {
      "displayName": "Yasufumi Nakama",
      "photoUrl": "https://lh3.googleusercontent.com/a/default-user=s64",
      "userId": "17486303986134302670"
     },
     "user_tz": -540
    },
    "id": "a200bd5b",
    "outputId": "a30fde2b-86f9-4ebd-ae81-33f467b69836",
    "papermill": {
     "duration": 0.145629,
     "end_time": "2022-06-02T05:55:52.622182",
     "exception": false,
     "start_time": "2022-06-02T05:55:52.476553",
     "status": "completed"
    },
    "tags": []
   },
   "outputs": [
    {
     "name": "stdout",
     "output_type": "stream",
     "text": [
      "{'input_ids': tensor([    2, 35736,     3, 35736,  1662, 10461,     3,  2194, 26450,  7636,\n",
      "         6112,  1017,  7055,  1030,  4633,  4455,  1695, 22114,  1030,  3822,\n",
      "         6006,  1030, 17353,  6006,  1030, 29970, 35225,  1664,  1901,     3,\n",
      "            0,     0,     0,     0,     0,     0,     0,     0,     0,     0,\n",
      "            0,     0,     0,     0,     0,     0,     0,     0,     0,     0,\n",
      "            0,     0,     0,     0,     0,     0,     0,     0,     0,     0,\n",
      "            0,     0,     0,     0,     0,     0,     0,     0,     0,     0,\n",
      "            0,     0,     0,     0,     0,     0,     0,     0,     0,     0,\n",
      "            0,     0,     0,     0,     0,     0,     0,     0,     0,     0,\n",
      "            0,     0,     0,     0,     0,     0,     0,     0,     0,     0,\n",
      "            0,     0,     0,     0,     0,     0,     0,     0,     0,     0,\n",
      "            0,     0,     0,     0,     0,     0,     0]), 'token_type_ids': tensor([0, 0, 0, 0, 0, 0, 0, 0, 0, 0, 0, 0, 0, 0, 0, 0, 0, 0, 0, 0, 0, 0, 0, 0,\n",
      "        0, 0, 0, 0, 0, 0, 0, 0, 0, 0, 0, 0, 0, 0, 0, 0, 0, 0, 0, 0, 0, 0, 0, 0,\n",
      "        0, 0, 0, 0, 0, 0, 0, 0, 0, 0, 0, 0, 0, 0, 0, 0, 0, 0, 0, 0, 0, 0, 0, 0,\n",
      "        0, 0, 0, 0, 0, 0, 0, 0, 0, 0, 0, 0, 0, 0, 0, 0, 0, 0, 0, 0, 0, 0, 0, 0,\n",
      "        0, 0, 0, 0, 0, 0, 0, 0, 0, 0, 0, 0, 0, 0, 0, 0, 0, 0, 0, 0, 0]), 'attention_mask': tensor([1, 1, 1, 1, 1, 1, 1, 1, 1, 1, 1, 1, 1, 1, 1, 1, 1, 1, 1, 1, 1, 1, 1, 1,\n",
      "        1, 1, 1, 1, 1, 1, 0, 0, 0, 0, 0, 0, 0, 0, 0, 0, 0, 0, 0, 0, 0, 0, 0, 0,\n",
      "        0, 0, 0, 0, 0, 0, 0, 0, 0, 0, 0, 0, 0, 0, 0, 0, 0, 0, 0, 0, 0, 0, 0, 0,\n",
      "        0, 0, 0, 0, 0, 0, 0, 0, 0, 0, 0, 0, 0, 0, 0, 0, 0, 0, 0, 0, 0, 0, 0, 0,\n",
      "        0, 0, 0, 0, 0, 0, 0, 0, 0, 0, 0, 0, 0, 0, 0, 0, 0, 0, 0, 0, 0])}\n",
      "tensor(0.5000)\n"
     ]
    }
   ],
   "source": [
    "\n",
    "train_dataset = TrainDataset(CFG, train)\n",
    "inputs, label = train_dataset[0]\n",
    "print(inputs)\n",
    "print(label)\n"
   ]
  },
  {
   "cell_type": "markdown",
   "id": "07cd95bb",
   "metadata": {
    "id": "e04d6363",
    "papermill": {
     "duration": 0.048476,
     "end_time": "2022-06-02T05:55:52.724285",
     "exception": false,
     "start_time": "2022-06-02T05:55:52.675809",
     "status": "completed"
    },
    "tags": []
   },
   "source": [
    "# Model"
   ]
  },
  {
   "cell_type": "code",
   "execution_count": 19,
   "id": "1f6c026c",
   "metadata": {
    "execution": {
     "iopub.execute_input": "2022-06-02T05:55:52.846520Z",
     "iopub.status.busy": "2022-06-02T05:55:52.845543Z",
     "iopub.status.idle": "2022-06-02T05:55:52.848102Z",
     "shell.execute_reply": "2022-06-02T05:55:52.848724Z",
     "shell.execute_reply.started": "2022-05-30T13:35:21.29276Z"
    },
    "id": "4c5bab44",
    "papermill": {
     "duration": 0.076176,
     "end_time": "2022-06-02T05:55:52.848979",
     "exception": false,
     "start_time": "2022-06-02T05:55:52.772803",
     "status": "completed"
    },
    "tags": []
   },
   "outputs": [],
   "source": [
    "# ====================================================\n",
    "# Model\n",
    "# ====================================================\n",
    "class CustomModel(nn.Module):\n",
    "    def __init__(self, cfg, config_path=None, pretrained=False):\n",
    "        super().__init__()\n",
    "        self.cfg = cfg\n",
    "        if config_path is None:\n",
    "            self.config = AutoConfig.from_pretrained(cfg.model, output_hidden_states=True)\n",
    "        else:\n",
    "            self.config = torch.load(config_path)\n",
    "        if pretrained:\n",
    "            self.model = AutoModel.from_pretrained(cfg.model, config=self.config)\n",
    "        else:\n",
    "            self.model = AutoModel.from_config(self.config)\n",
    "        self.fc_dropout = nn.Dropout(cfg.fc_dropout)\n",
    "        self.fc = nn.Linear(self.config.hidden_size, self.cfg.target_size)\n",
    "        self._init_weights(self.fc)\n",
    "        self.attention = nn.Sequential(\n",
    "            nn.Linear(self.config.hidden_size, 512),\n",
    "            nn.Tanh(),\n",
    "            nn.Linear(512, 1),\n",
    "            nn.Softmax(dim=1)\n",
    "        )\n",
    "        self._init_weights(self.attention)\n",
    "        \n",
    "    def _init_weights(self, module):\n",
    "        if isinstance(module, nn.Linear):\n",
    "            module.weight.data.normal_(mean=0.0, std=self.config.initializer_range)\n",
    "            if module.bias is not None:\n",
    "                module.bias.data.zero_()\n",
    "        elif isinstance(module, nn.Embedding):\n",
    "            module.weight.data.normal_(mean=0.0, std=self.config.initializer_range)\n",
    "            if module.padding_idx is not None:\n",
    "                module.weight.data[module.padding_idx].zero_()\n",
    "        elif isinstance(module, nn.LayerNorm):\n",
    "            module.bias.data.zero_()\n",
    "            module.weight.data.fill_(1.0)\n",
    "        \n",
    "    def feature(self, inputs):\n",
    "        outputs = self.model(**inputs)\n",
    "        last_hidden_states = outputs[0]  #last_hidden_states: torch.Size([16, 133, 1024])\n",
    "#         print('last_hidden_states:',last_hidden_states.shape)\n",
    "        # feature = torch.mean(last_hidden_states, 1)\n",
    "        weights = self.attention(last_hidden_states)  # weights: torch.Size([16, 133, 1])\n",
    "#         print('weights:',weights.shape)\n",
    "        feature = torch.sum(weights * last_hidden_states, dim=1)  #[16,1024] attention\n",
    "        return feature\n",
    "\n",
    "    def forward(self, inputs):\n",
    "        feature = self.feature(inputs)\n",
    "        output = self.fc(self.fc_dropout(feature))\n",
    "        return output"
   ]
  },
  {
   "cell_type": "markdown",
   "id": "505bf024",
   "metadata": {
    "id": "deee9675",
    "papermill": {
     "duration": 0.049701,
     "end_time": "2022-06-02T05:55:52.951676",
     "exception": false,
     "start_time": "2022-06-02T05:55:52.901975",
     "status": "completed"
    },
    "tags": []
   },
   "source": [
    "# Helpler functions"
   ]
  },
  {
   "cell_type": "code",
   "execution_count": 20,
   "id": "f0e2a79d",
   "metadata": {
    "execution": {
     "iopub.execute_input": "2022-06-02T05:55:53.084574Z",
     "iopub.status.busy": "2022-06-02T05:55:53.083223Z",
     "iopub.status.idle": "2022-06-02T05:55:53.086407Z",
     "shell.execute_reply": "2022-06-02T05:55:53.085483Z",
     "shell.execute_reply.started": "2022-05-30T13:35:21.313125Z"
    },
    "id": "c8263b0c",
    "papermill": {
     "duration": 0.082421,
     "end_time": "2022-06-02T05:55:53.086610",
     "exception": false,
     "start_time": "2022-06-02T05:55:53.004189",
     "status": "completed"
    },
    "tags": []
   },
   "outputs": [],
   "source": [
    "# ====================================================\n",
    "# Helper functions\n",
    "# ====================================================\n",
    "class AverageMeter(object):\n",
    "    \"\"\"Computes and stores the average and current value\"\"\"\n",
    "    def __init__(self):\n",
    "        self.reset()\n",
    "\n",
    "    def reset(self):\n",
    "        self.val = 0\n",
    "        self.avg = 0\n",
    "        self.sum = 0\n",
    "        self.count = 0\n",
    "\n",
    "    def update(self, val, n=1):\n",
    "        self.val = val\n",
    "        self.sum += val * n\n",
    "        self.count += n\n",
    "        self.avg = self.sum / self.count\n",
    "\n",
    "\n",
    "def asMinutes(s):\n",
    "    m = math.floor(s / 60)\n",
    "    s -= m * 60\n",
    "    return '%dm %ds' % (m, s)\n",
    "\n",
    "\n",
    "def timeSince(since, percent):\n",
    "    now = time.time()\n",
    "    s = now - since\n",
    "    es = s / (percent)\n",
    "    rs = es - s\n",
    "    return '%s (remain %s)' % (asMinutes(s), asMinutes(rs))\n",
    "\n",
    "\n",
    "def train_fn(fold, train_loader, model, criterion, optimizer, epoch, scheduler, device):  # criterion是loss-func\n",
    "    model.train()\n",
    "    scaler = torch.cuda.amp.GradScaler(enabled=CFG.apex)  #混合精度训练 通过放大loss的值来防止梯度的underflow\n",
    "    losses = AverageMeter()\n",
    "    start = end = time.time()\n",
    "    global_step = 0\n",
    "    for step, (inputs, labels) in enumerate(train_loader):\n",
    "        for k, v in inputs.items():\n",
    "            inputs[k] = v.to(device)  # 将tensor转到device中\n",
    "        labels = labels.to(device)\n",
    "        batch_size = labels.size(0)\n",
    "        with torch.cuda.amp.autocast(enabled=CFG.apex):  #混合精度训练\n",
    "            y_preds = model(inputs)\n",
    "        loss = criterion(y_preds.view(-1, 1), labels.view(-1, 1))  # 计算loss\n",
    "        if CFG.gradient_accumulation_steps > 1:\n",
    "            loss = loss / CFG.gradient_accumulation_steps\n",
    "        losses.update(loss.item(), batch_size)\n",
    "        scaler.scale(loss).backward()\n",
    "        grad_norm = torch.nn.utils.clip_grad_norm_(model.parameters(), CFG.max_grad_norm)\n",
    "        if (step + 1) % CFG.gradient_accumulation_steps == 0:  # 梯度叠加 即多个batch后再更新梯度\n",
    "            scaler.step(optimizer)\n",
    "            scaler.update()\n",
    "            optimizer.zero_grad()\n",
    "            global_step += 1\n",
    "            if CFG.batch_scheduler:\n",
    "                scheduler.step()\n",
    "        end = time.time()\n",
    "        if step % CFG.print_freq == 0 or step == (len(train_loader)-1):\n",
    "            print('Epoch: [{0}][{1}/{2}] '\n",
    "                  'Elapsed {remain:s} '\n",
    "                  'Loss: {loss.val:.4f}({loss.avg:.4f}) '\n",
    "                  'Grad: {grad_norm:.4f}  '\n",
    "                  'LR: {lr:.8f}  '\n",
    "                  .format(epoch+1, step, len(train_loader), \n",
    "                          remain=timeSince(start, float(step+1)/len(train_loader)),\n",
    "                          loss=losses,\n",
    "                          grad_norm=grad_norm,\n",
    "                          lr=scheduler.get_lr()[0]))\n",
    "        if CFG.wandb:\n",
    "            wandb.log({f\"[fold{fold}] loss\": losses.val,\n",
    "                       f\"[fold{fold}] lr\": scheduler.get_lr()[0]})\n",
    "    return losses.avg\n",
    "\n",
    "\n",
    "def valid_fn(valid_loader, model, criterion, device):\n",
    "    losses = AverageMeter()\n",
    "    model.eval()\n",
    "    preds = []\n",
    "    start = end = time.time()\n",
    "    for step, (inputs, labels) in enumerate(valid_loader):\n",
    "        for k, v in inputs.items():\n",
    "            inputs[k] = v.to(device)\n",
    "        labels = labels.to(device)\n",
    "        batch_size = labels.size(0)\n",
    "        with torch.no_grad():\n",
    "            y_preds = model(inputs)  # 模型产出\n",
    "        loss = criterion(y_preds.view(-1, 1), labels.view(-1, 1))\n",
    "        if CFG.gradient_accumulation_steps > 1:\n",
    "            loss = loss / CFG.gradient_accumulation_steps\n",
    "        losses.update(loss.item(), batch_size)\n",
    "        preds.append(y_preds.sigmoid().to('cpu').numpy())\n",
    "        end = time.time()\n",
    "        if step % CFG.print_freq == 0 or step == (len(valid_loader)-1):\n",
    "            print('EVAL: [{0}/{1}] '\n",
    "                  'Elapsed {remain:s} '\n",
    "                  'Loss: {loss.val:.4f}({loss.avg:.4f}) '\n",
    "                  .format(step, len(valid_loader),\n",
    "                          loss=losses,\n",
    "                          remain=timeSince(start, float(step+1)/len(valid_loader))))\n",
    "    predictions = np.concatenate(preds)\n",
    "    predictions = np.concatenate(predictions)\n",
    "    return losses.avg, predictions\n",
    "\n",
    "\n",
    "def inference_fn(test_loader, model, device):\n",
    "    preds = []\n",
    "    model.eval()\n",
    "    model.to(device)\n",
    "    tk0 = tqdm(test_loader, total=len(test_loader))\n",
    "    for inputs in tk0:\n",
    "        for k, v in inputs.items():\n",
    "            inputs[k] = v.to(device)\n",
    "        with torch.no_grad():\n",
    "            y_preds = model(inputs)\n",
    "        preds.append(y_preds.sigmoid().to('cpu').numpy())\n",
    "    predictions = np.concatenate(preds)\n",
    "    return predictions"
   ]
  },
  {
   "cell_type": "code",
   "execution_count": 21,
   "id": "dcf3f987",
   "metadata": {
    "execution": {
     "iopub.execute_input": "2022-06-02T05:55:53.214306Z",
     "iopub.status.busy": "2022-06-02T05:55:53.204814Z",
     "iopub.status.idle": "2022-06-02T05:55:53.216428Z",
     "shell.execute_reply": "2022-06-02T05:55:53.217106Z",
     "shell.execute_reply.started": "2022-05-30T13:35:21.377753Z"
    },
    "id": "bed940e1",
    "papermill": {
     "duration": 0.075615,
     "end_time": "2022-06-02T05:55:53.217334",
     "exception": false,
     "start_time": "2022-06-02T05:55:53.141719",
     "status": "completed"
    },
    "tags": []
   },
   "outputs": [],
   "source": [
    "# ====================================================\n",
    "# train loop\n",
    "# ====================================================\n",
    "def train_loop(folds, fold):  #folds代表df的数据集 fold是验证集\n",
    "    \n",
    "    LOGGER.info(f\"========== fold: {fold} training ==========\")\n",
    "\n",
    "    # ====================================================\n",
    "    # loader\n",
    "    # ====================================================\n",
    "    train_folds = folds[folds['fold'] != fold].reset_index(drop=True)\n",
    "    valid_folds = folds[folds['fold'] == fold].reset_index(drop=True)\n",
    "    valid_labels = valid_folds['score'].values\n",
    "    \n",
    "    train_dataset = TrainDataset(CFG, train_folds)\n",
    "    valid_dataset = TrainDataset(CFG, valid_folds)\n",
    "\n",
    "    train_loader = DataLoader(train_dataset,\n",
    "                              batch_size=CFG.batch_size,\n",
    "                              shuffle=True,\n",
    "                              num_workers=CFG.num_workers, pin_memory=True, drop_last=True)\n",
    "    valid_loader = DataLoader(valid_dataset,\n",
    "                              batch_size=CFG.batch_size,\n",
    "                              shuffle=False,\n",
    "                              num_workers=CFG.num_workers, pin_memory=True, drop_last=False)\n",
    "\n",
    "    # ====================================================\n",
    "    # model & optimizer\n",
    "    # ====================================================\n",
    "    model = CustomModel(CFG, config_path=None, pretrained=True)\n",
    "    torch.save(model.config, OUTPUT_DIR+'config.pth')\n",
    "    model.to(device)\n",
    "    \n",
    "    def get_optimizer_params(model, encoder_lr, decoder_lr, weight_decay=0.0):\n",
    "        param_optimizer = list(model.named_parameters())\n",
    "        no_decay = [\"bias\", \"LayerNorm.bias\", \"LayerNorm.weight\"]\n",
    "        optimizer_parameters = [\n",
    "            {'params': [p for n, p in model.model.named_parameters() if not any(nd in n for nd in no_decay)],\n",
    "             'lr': encoder_lr, 'weight_decay': weight_decay},\n",
    "            {'params': [p for n, p in model.model.named_parameters() if any(nd in n for nd in no_decay)],\n",
    "             'lr': encoder_lr, 'weight_decay': 0.0},\n",
    "            {'params': [p for n, p in model.named_parameters() if \"model\" not in n],\n",
    "             'lr': decoder_lr, 'weight_decay': 0.0}\n",
    "        ]\n",
    "        return optimizer_parameters\n",
    "\n",
    "    optimizer_parameters = get_optimizer_params(model,\n",
    "                                                encoder_lr=CFG.encoder_lr, \n",
    "                                                decoder_lr=CFG.decoder_lr,\n",
    "                                                weight_decay=CFG.weight_decay)\n",
    "    optimizer = AdamW(optimizer_parameters, lr=CFG.encoder_lr, eps=CFG.eps, betas=CFG.betas)\n",
    "    \n",
    "    # ====================================================\n",
    "    # scheduler\n",
    "    # ====================================================\n",
    "    def get_scheduler(cfg, optimizer, num_train_steps):\n",
    "        if cfg.scheduler == 'linear':\n",
    "            scheduler = get_linear_schedule_with_warmup(\n",
    "                optimizer, num_warmup_steps=cfg.num_warmup_steps, num_training_steps=num_train_steps\n",
    "            )\n",
    "        elif cfg.scheduler == 'cosine':\n",
    "            scheduler = get_cosine_schedule_with_warmup(\n",
    "                optimizer, num_warmup_steps=cfg.num_warmup_steps, num_training_steps=num_train_steps, num_cycles=cfg.num_cycles\n",
    "            )\n",
    "        return scheduler\n",
    "    \n",
    "    num_train_steps = int(len(train_folds) / CFG.batch_size * CFG.epochs)\n",
    "    scheduler = get_scheduler(CFG, optimizer, num_train_steps)\n",
    "\n",
    "    # ====================================================\n",
    "    # loop\n",
    "    # ====================================================\n",
    "    criterion = nn.BCEWithLogitsLoss(reduction=\"mean\")\n",
    "    \n",
    "    best_score = 0.\n",
    "\n",
    "    for epoch in range(CFG.epochs):\n",
    "\n",
    "        start_time = time.time()\n",
    "\n",
    "        # train\n",
    "        avg_loss = train_fn(fold, train_loader, model, criterion, optimizer, epoch, scheduler, device)\n",
    "\n",
    "        # eval\n",
    "        avg_val_loss, predictions = valid_fn(valid_loader, model, criterion, device)\n",
    "        \n",
    "        # scoring\n",
    "        score = get_score(valid_labels, predictions)\n",
    "\n",
    "        elapsed = time.time() - start_time\n",
    "\n",
    "        LOGGER.info(f'Epoch {epoch+1} - avg_train_loss: {avg_loss:.4f}  avg_val_loss: {avg_val_loss:.4f}  time: {elapsed:.0f}s')\n",
    "        LOGGER.info(f'Epoch {epoch+1} - Score: {score:.4f}')\n",
    "        if CFG.wandb:\n",
    "            wandb.log({f\"[fold{fold}] epoch\": epoch+1, \n",
    "                       f\"[fold{fold}] avg_train_loss\": avg_loss, \n",
    "                       f\"[fold{fold}] avg_val_loss\": avg_val_loss,\n",
    "                       f\"[fold{fold}] score\": score})\n",
    "        \n",
    "        if best_score < score:\n",
    "            best_score = score\n",
    "            LOGGER.info(f'Epoch {epoch+1} - Save Best Score: {best_score:.4f} Model')\n",
    "            torch.save({'model': model.state_dict(),\n",
    "                        'predictions': predictions},\n",
    "                        OUTPUT_DIR+f\"{CFG.model.replace('/', '-')}_fold{fold}_best.pth\")\n",
    "\n",
    "    predictions = torch.load(OUTPUT_DIR+f\"{CFG.model.replace('/', '-')}_fold{fold}_best.pth\", \n",
    "                             map_location=torch.device('cpu'))['predictions']\n",
    "    valid_folds['pred'] = predictions\n",
    "\n",
    "    torch.cuda.empty_cache()\n",
    "    gc.collect()\n",
    "    \n",
    "    return valid_folds"
   ]
  },
  {
   "cell_type": "code",
   "execution_count": 22,
   "id": "a710063a",
   "metadata": {
    "execution": {
     "iopub.execute_input": "2022-06-02T05:55:53.330514Z",
     "iopub.status.busy": "2022-06-02T05:55:53.329406Z",
     "iopub.status.idle": "2022-06-02T11:49:46.202793Z",
     "shell.execute_reply": "2022-06-02T11:49:46.203503Z"
    },
    "id": "6cc76b1e",
    "papermill": {
     "duration": 21232.932795,
     "end_time": "2022-06-02T11:49:46.203687",
     "exception": false,
     "start_time": "2022-06-02T05:55:53.270892",
     "status": "completed"
    },
    "tags": []
   },
   "outputs": [
    {
     "name": "stderr",
     "output_type": "stream",
     "text": [
      "========== fold: 0 training ==========\n"
     ]
    },
    {
     "data": {
      "application/vnd.jupyter.widget-view+json": {
       "model_id": "94e68ce1de4948e7857750a4b60ab0a6",
       "version_major": 2,
       "version_minor": 0
      },
      "text/plain": [
       "Downloading:   0%|          | 0.00/1.29G [00:00<?, ?B/s]"
      ]
     },
     "metadata": {},
     "output_type": "display_data"
    },
    {
     "name": "stderr",
     "output_type": "stream",
     "text": [
      "Some weights of the model checkpoint at anferico/bert-for-patents were not used when initializing BertModel: ['cls.seq_relationship.weight', 'cls.predictions.bias', 'cls.predictions.transform.LayerNorm.bias', 'cls.predictions.transform.dense.weight', 'cls.predictions.decoder.bias', 'cls.predictions.transform.LayerNorm.weight', 'cls.predictions.transform.dense.bias', 'cls.predictions.decoder.weight', 'cls.seq_relationship.bias']\n",
      "- This IS expected if you are initializing BertModel from the checkpoint of a model trained on another task or with another architecture (e.g. initializing a BertForSequenceClassification model from a BertForPreTraining model).\n",
      "- This IS NOT expected if you are initializing BertModel from the checkpoint of a model that you expect to be exactly identical (initializing a BertForSequenceClassification model from a BertForSequenceClassification model).\n"
     ]
    },
    {
     "name": "stdout",
     "output_type": "stream",
     "text": [
      "Epoch: [1][0/1709] Elapsed 0m 2s (remain 65m 49s) Loss: 0.8368(0.8368) Grad: inf  LR: 0.00002000  \n",
      "Epoch: [1][100/1709] Elapsed 1m 11s (remain 19m 0s) Loss: 0.8237(0.6779) Grad: 102999.9141  LR: 0.00001999  \n",
      "Epoch: [1][200/1709] Elapsed 2m 21s (remain 17m 38s) Loss: 0.6949(0.6572) Grad: 94624.1641  LR: 0.00001996  \n",
      "Epoch: [1][300/1709] Elapsed 3m 30s (remain 16m 24s) Loss: 0.6342(0.6386) Grad: 52136.0000  LR: 0.00001990  \n",
      "Epoch: [1][400/1709] Elapsed 4m 39s (remain 15m 12s) Loss: 0.7253(0.6256) Grad: 81838.2109  LR: 0.00001983  \n",
      "Epoch: [1][500/1709] Elapsed 5m 49s (remain 14m 1s) Loss: 0.6644(0.6157) Grad: 61319.2344  LR: 0.00001974  \n",
      "Epoch: [1][600/1709] Elapsed 6m 58s (remain 12m 51s) Loss: 0.3648(0.6060) Grad: 39084.3047  LR: 0.00001962  \n",
      "Epoch: [1][700/1709] Elapsed 8m 7s (remain 11m 41s) Loss: 0.5729(0.6002) Grad: 44979.0352  LR: 0.00001949  \n",
      "Epoch: [1][800/1709] Elapsed 9m 17s (remain 10m 31s) Loss: 0.5370(0.5940) Grad: 95381.9453  LR: 0.00001933  \n",
      "Epoch: [1][900/1709] Elapsed 10m 26s (remain 9m 21s) Loss: 0.4560(0.5905) Grad: 37582.9102  LR: 0.00001916  \n",
      "Epoch: [1][1000/1709] Elapsed 11m 35s (remain 8m 12s) Loss: 0.5217(0.5872) Grad: 53312.4141  LR: 0.00001896  \n",
      "Epoch: [1][1100/1709] Elapsed 12m 45s (remain 7m 2s) Loss: 0.4820(0.5842) Grad: 38957.8320  LR: 0.00001875  \n",
      "Epoch: [1][1200/1709] Elapsed 13m 54s (remain 5m 53s) Loss: 0.3731(0.5821) Grad: 43051.4219  LR: 0.00001852  \n",
      "Epoch: [1][1300/1709] Elapsed 15m 4s (remain 4m 43s) Loss: 0.5475(0.5797) Grad: 25443.1523  LR: 0.00001827  \n",
      "Epoch: [1][1400/1709] Elapsed 16m 13s (remain 3m 34s) Loss: 0.4688(0.5777) Grad: 34333.0898  LR: 0.00001800  \n",
      "Epoch: [1][1500/1709] Elapsed 17m 22s (remain 2m 24s) Loss: 0.5495(0.5760) Grad: 13846.6582  LR: 0.00001771  \n",
      "Epoch: [1][1600/1709] Elapsed 18m 32s (remain 1m 15s) Loss: 0.5780(0.5744) Grad: 29363.3047  LR: 0.00001741  \n",
      "Epoch: [1][1700/1709] Elapsed 19m 41s (remain 0m 5s) Loss: 0.4435(0.5730) Grad: 57947.9375  LR: 0.00001710  \n",
      "Epoch: [1][1708/1709] Elapsed 19m 47s (remain 0m 0s) Loss: 0.4673(0.5731) Grad: 51020.6289  LR: 0.00001707  \n",
      "EVAL: [0/570] Elapsed 0m 0s (remain 3m 45s) Loss: 0.5495(0.5495) \n",
      "EVAL: [100/570] Elapsed 0m 22s (remain 1m 45s) Loss: 0.4655(0.5429) \n",
      "EVAL: [200/570] Elapsed 0m 44s (remain 1m 22s) Loss: 0.5348(0.5428) \n",
      "EVAL: [300/570] Elapsed 1m 7s (remain 0m 59s) Loss: 0.7277(0.5433) \n",
      "EVAL: [400/570] Elapsed 1m 29s (remain 0m 37s) Loss: 0.6306(0.5423) \n",
      "EVAL: [500/570] Elapsed 1m 51s (remain 0m 15s) Loss: 0.5587(0.5433) \n"
     ]
    },
    {
     "name": "stderr",
     "output_type": "stream",
     "text": [
      "Epoch 1 - avg_train_loss: 0.5731  avg_val_loss: 0.5422  time: 1314s\n",
      "Epoch 1 - Score: 0.8284\n",
      "Epoch 1 - Save Best Score: 0.8284 Model\n"
     ]
    },
    {
     "name": "stdout",
     "output_type": "stream",
     "text": [
      "EVAL: [569/570] Elapsed 2m 6s (remain 0m 0s) Loss: 0.5138(0.5422) \n",
      "Epoch: [2][0/1709] Elapsed 0m 1s (remain 30m 45s) Loss: 0.6286(0.6286) Grad: 148213.0312  LR: 0.00001707  \n",
      "Epoch: [2][100/1709] Elapsed 1m 10s (remain 18m 42s) Loss: 0.5520(0.5276) Grad: 62371.4180  LR: 0.00001674  \n",
      "Epoch: [2][200/1709] Elapsed 2m 19s (remain 17m 28s) Loss: 0.5783(0.5295) Grad: 65343.6367  LR: 0.00001639  \n",
      "Epoch: [2][300/1709] Elapsed 3m 29s (remain 16m 18s) Loss: 0.4796(0.5274) Grad: 75252.0078  LR: 0.00001603  \n",
      "Epoch: [2][400/1709] Elapsed 4m 38s (remain 15m 8s) Loss: 0.5645(0.5277) Grad: 52801.0742  LR: 0.00001566  \n",
      "Epoch: [2][500/1709] Elapsed 5m 47s (remain 13m 58s) Loss: 0.3845(0.5277) Grad: 63530.9883  LR: 0.00001527  \n",
      "Epoch: [2][600/1709] Elapsed 6m 57s (remain 12m 49s) Loss: 0.3964(0.5266) Grad: 24672.4043  LR: 0.00001488  \n",
      "Epoch: [2][700/1709] Elapsed 8m 6s (remain 11m 39s) Loss: 0.5553(0.5265) Grad: 63985.3438  LR: 0.00001447  \n",
      "Epoch: [2][800/1709] Elapsed 9m 15s (remain 10m 30s) Loss: 0.4427(0.5260) Grad: 20458.3906  LR: 0.00001406  \n",
      "Epoch: [2][900/1709] Elapsed 10m 25s (remain 9m 20s) Loss: 0.4740(0.5249) Grad: 72582.0469  LR: 0.00001363  \n",
      "Epoch: [2][1000/1709] Elapsed 11m 34s (remain 8m 11s) Loss: 0.4019(0.5254) Grad: 33559.4062  LR: 0.00001320  \n",
      "Epoch: [2][1100/1709] Elapsed 12m 43s (remain 7m 1s) Loss: 0.4718(0.5248) Grad: 137266.1406  LR: 0.00001276  \n",
      "Epoch: [2][1200/1709] Elapsed 13m 53s (remain 5m 52s) Loss: 0.4012(0.5244) Grad: 104176.0703  LR: 0.00001232  \n",
      "Epoch: [2][1300/1709] Elapsed 15m 2s (remain 4m 43s) Loss: 0.4983(0.5243) Grad: 39482.0742  LR: 0.00001187  \n",
      "Epoch: [2][1400/1709] Elapsed 16m 11s (remain 3m 33s) Loss: 0.4437(0.5231) Grad: 42736.1211  LR: 0.00001141  \n",
      "Epoch: [2][1500/1709] Elapsed 17m 21s (remain 2m 24s) Loss: 0.4319(0.5220) Grad: 171259.5938  LR: 0.00001096  \n",
      "Epoch: [2][1600/1709] Elapsed 18m 30s (remain 1m 14s) Loss: 0.6017(0.5222) Grad: 102831.3984  LR: 0.00001050  \n",
      "Epoch: [2][1700/1709] Elapsed 19m 39s (remain 0m 5s) Loss: 0.5139(0.5214) Grad: 50079.2656  LR: 0.00001004  \n",
      "Epoch: [2][1708/1709] Elapsed 19m 45s (remain 0m 0s) Loss: 0.4580(0.5212) Grad: 30763.8457  LR: 0.00001000  \n",
      "EVAL: [0/570] Elapsed 0m 0s (remain 4m 1s) Loss: 0.5299(0.5299) \n",
      "EVAL: [100/570] Elapsed 0m 22s (remain 1m 45s) Loss: 0.4478(0.5368) \n",
      "EVAL: [200/570] Elapsed 0m 44s (remain 1m 22s) Loss: 0.5393(0.5364) \n",
      "EVAL: [300/570] Elapsed 1m 7s (remain 0m 59s) Loss: 0.8217(0.5378) \n",
      "EVAL: [400/570] Elapsed 1m 29s (remain 0m 37s) Loss: 0.6425(0.5361) \n",
      "EVAL: [500/570] Elapsed 1m 51s (remain 0m 15s) Loss: 0.5509(0.5369) \n"
     ]
    },
    {
     "name": "stderr",
     "output_type": "stream",
     "text": [
      "Epoch 2 - avg_train_loss: 0.5212  avg_val_loss: 0.5358  time: 1312s\n",
      "Epoch 2 - Score: 0.8499\n",
      "Epoch 2 - Save Best Score: 0.8499 Model\n"
     ]
    },
    {
     "name": "stdout",
     "output_type": "stream",
     "text": [
      "EVAL: [569/570] Elapsed 2m 6s (remain 0m 0s) Loss: 0.4914(0.5358) \n",
      "Epoch: [3][0/1709] Elapsed 0m 0s (remain 27m 52s) Loss: 0.5004(0.5004) Grad: 104390.1406  LR: 0.00001000  \n",
      "Epoch: [3][100/1709] Elapsed 1m 10s (remain 18m 39s) Loss: 0.5542(0.5049) Grad: 174019.4844  LR: 0.00000954  \n",
      "Epoch: [3][200/1709] Elapsed 2m 19s (remain 17m 27s) Loss: 0.5062(0.5056) Grad: 54059.3398  LR: 0.00000908  \n",
      "Epoch: [3][300/1709] Elapsed 3m 28s (remain 16m 17s) Loss: 0.5345(0.5065) Grad: 48818.3672  LR: 0.00000863  \n",
      "Epoch: [3][400/1709] Elapsed 4m 38s (remain 15m 8s) Loss: 0.6097(0.5070) Grad: 62525.3281  LR: 0.00000817  \n",
      "Epoch: [3][500/1709] Elapsed 5m 47s (remain 13m 58s) Loss: 0.5092(0.5048) Grad: 49825.7305  LR: 0.00000772  \n",
      "Epoch: [3][600/1709] Elapsed 6m 57s (remain 12m 49s) Loss: 0.6017(0.5044) Grad: 70581.9688  LR: 0.00000728  \n",
      "Epoch: [3][700/1709] Elapsed 8m 6s (remain 11m 39s) Loss: 0.5267(0.5021) Grad: 72065.9922  LR: 0.00000684  \n",
      "Epoch: [3][800/1709] Elapsed 9m 16s (remain 10m 30s) Loss: 0.5352(0.5017) Grad: 217652.4688  LR: 0.00000641  \n",
      "Epoch: [3][900/1709] Elapsed 10m 25s (remain 9m 20s) Loss: 0.4836(0.5013) Grad: 106788.6094  LR: 0.00000598  \n",
      "Epoch: [3][1000/1709] Elapsed 11m 34s (remain 8m 11s) Loss: 0.5210(0.5024) Grad: 37753.2188  LR: 0.00000557  \n",
      "Epoch: [3][1100/1709] Elapsed 12m 44s (remain 7m 1s) Loss: 0.4552(0.5012) Grad: 44670.4648  LR: 0.00000516  \n",
      "Epoch: [3][1200/1709] Elapsed 13m 53s (remain 5m 52s) Loss: 0.4796(0.5019) Grad: 75086.7500  LR: 0.00000476  \n",
      "Epoch: [3][1300/1709] Elapsed 15m 2s (remain 4m 43s) Loss: 0.5447(0.5018) Grad: 63011.0859  LR: 0.00000438  \n",
      "Epoch: [3][1400/1709] Elapsed 16m 12s (remain 3m 33s) Loss: 0.4620(0.5015) Grad: 66824.9688  LR: 0.00000400  \n",
      "Epoch: [3][1500/1709] Elapsed 17m 21s (remain 2m 24s) Loss: 0.6116(0.5019) Grad: 70418.8594  LR: 0.00000364  \n",
      "Epoch: [3][1600/1709] Elapsed 18m 30s (remain 1m 14s) Loss: 0.5181(0.5027) Grad: 75797.4297  LR: 0.00000329  \n",
      "Epoch: [3][1700/1709] Elapsed 19m 40s (remain 0m 5s) Loss: 0.4553(0.5025) Grad: 58483.5820  LR: 0.00000296  \n",
      "Epoch: [3][1708/1709] Elapsed 19m 45s (remain 0m 0s) Loss: 0.4553(0.5024) Grad: 42420.4883  LR: 0.00000293  \n",
      "EVAL: [0/570] Elapsed 0m 0s (remain 3m 47s) Loss: 0.5301(0.5301) \n",
      "EVAL: [100/570] Elapsed 0m 22s (remain 1m 45s) Loss: 0.4908(0.5415) \n",
      "EVAL: [200/570] Elapsed 0m 44s (remain 1m 22s) Loss: 0.5390(0.5432) \n",
      "EVAL: [300/570] Elapsed 1m 7s (remain 0m 59s) Loss: 0.8261(0.5434) \n",
      "EVAL: [400/570] Elapsed 1m 29s (remain 0m 37s) Loss: 0.6425(0.5425) \n",
      "EVAL: [500/570] Elapsed 1m 51s (remain 0m 15s) Loss: 0.5463(0.5432) \n"
     ]
    },
    {
     "name": "stderr",
     "output_type": "stream",
     "text": [
      "Epoch 3 - avg_train_loss: 0.5024  avg_val_loss: 0.5428  time: 1313s\n",
      "Epoch 3 - Score: 0.8558\n",
      "Epoch 3 - Save Best Score: 0.8558 Model\n"
     ]
    },
    {
     "name": "stdout",
     "output_type": "stream",
     "text": [
      "EVAL: [569/570] Elapsed 2m 6s (remain 0m 0s) Loss: 0.4871(0.5428) \n",
      "Epoch: [4][0/1709] Elapsed 0m 0s (remain 26m 35s) Loss: 0.4894(0.4894) Grad: 36630.6836  LR: 0.00000293  \n",
      "Epoch: [4][100/1709] Elapsed 1m 10s (remain 18m 40s) Loss: 0.4097(0.5024) Grad: 53605.0625  LR: 0.00000261  \n",
      "Epoch: [4][200/1709] Elapsed 2m 19s (remain 17m 28s) Loss: 0.5242(0.5037) Grad: 70330.9453  LR: 0.00000231  \n",
      "Epoch: [4][300/1709] Elapsed 3m 29s (remain 16m 18s) Loss: 0.5647(0.4993) Grad: 58632.5352  LR: 0.00000203  \n",
      "Epoch: [4][400/1709] Elapsed 4m 38s (remain 15m 8s) Loss: 0.5878(0.4972) Grad: 74456.2031  LR: 0.00000176  \n",
      "Epoch: [4][500/1709] Elapsed 5m 47s (remain 13m 58s) Loss: 0.4496(0.4957) Grad: 76557.1562  LR: 0.00000151  \n",
      "Epoch: [4][600/1709] Elapsed 6m 57s (remain 12m 49s) Loss: 0.4073(0.4969) Grad: 67211.9219  LR: 0.00000127  \n",
      "Epoch: [4][700/1709] Elapsed 8m 6s (remain 11m 39s) Loss: 0.4467(0.4973) Grad: 68010.4141  LR: 0.00000106  \n",
      "Epoch: [4][800/1709] Elapsed 9m 16s (remain 10m 30s) Loss: 0.4824(0.4971) Grad: 33394.5547  LR: 0.00000086  \n",
      "Epoch: [4][900/1709] Elapsed 10m 25s (remain 9m 21s) Loss: 0.6318(0.4973) Grad: 66730.4062  LR: 0.00000068  \n",
      "Epoch: [4][1000/1709] Elapsed 11m 35s (remain 8m 11s) Loss: 0.6019(0.4971) Grad: 59691.4609  LR: 0.00000053  \n",
      "Epoch: [4][1100/1709] Elapsed 12m 44s (remain 7m 2s) Loss: 0.4921(0.4965) Grad: 162105.1094  LR: 0.00000039  \n",
      "Epoch: [4][1200/1709] Elapsed 13m 53s (remain 5m 52s) Loss: 0.4647(0.4964) Grad: 53947.3906  LR: 0.00000027  \n",
      "Epoch: [4][1300/1709] Elapsed 15m 3s (remain 4m 43s) Loss: 0.5079(0.4969) Grad: 59512.1406  LR: 0.00000018  \n",
      "Epoch: [4][1400/1709] Elapsed 16m 12s (remain 3m 33s) Loss: 0.5739(0.4963) Grad: 52459.5234  LR: 0.00000010  \n",
      "Epoch: [4][1500/1709] Elapsed 17m 21s (remain 2m 24s) Loss: 0.4829(0.4960) Grad: 150639.1250  LR: 0.00000005  \n",
      "Epoch: [4][1600/1709] Elapsed 18m 31s (remain 1m 14s) Loss: 0.3412(0.4962) Grad: 34106.7266  LR: 0.00000001  \n",
      "Epoch: [4][1700/1709] Elapsed 19m 40s (remain 0m 5s) Loss: 0.4462(0.4959) Grad: 88062.0391  LR: 0.00000000  \n",
      "Epoch: [4][1708/1709] Elapsed 19m 46s (remain 0m 0s) Loss: 0.5543(0.4959) Grad: 54425.2422  LR: 0.00000000  \n",
      "EVAL: [0/570] Elapsed 0m 0s (remain 3m 52s) Loss: 0.5369(0.5369) \n",
      "EVAL: [100/570] Elapsed 0m 22s (remain 1m 45s) Loss: 0.4773(0.5424) \n",
      "EVAL: [200/570] Elapsed 0m 44s (remain 1m 22s) Loss: 0.5403(0.5443) \n",
      "EVAL: [300/570] Elapsed 1m 7s (remain 0m 59s) Loss: 0.8388(0.5442) \n",
      "EVAL: [400/570] Elapsed 1m 29s (remain 0m 37s) Loss: 0.6382(0.5432) \n",
      "EVAL: [500/570] Elapsed 1m 51s (remain 0m 15s) Loss: 0.5517(0.5436) \n"
     ]
    },
    {
     "name": "stderr",
     "output_type": "stream",
     "text": [
      "Epoch 4 - avg_train_loss: 0.4959  avg_val_loss: 0.5434  time: 1313s\n",
      "Epoch 4 - Score: 0.8567\n",
      "Epoch 4 - Save Best Score: 0.8567 Model\n"
     ]
    },
    {
     "name": "stdout",
     "output_type": "stream",
     "text": [
      "EVAL: [569/570] Elapsed 2m 6s (remain 0m 0s) Loss: 0.4849(0.5434) \n"
     ]
    },
    {
     "name": "stderr",
     "output_type": "stream",
     "text": [
      "========== fold: 0 result ==========\n",
      "Score: 0.8567\n",
      "========== fold: 1 training ==========\n",
      "Some weights of the model checkpoint at anferico/bert-for-patents were not used when initializing BertModel: ['cls.seq_relationship.weight', 'cls.predictions.bias', 'cls.predictions.transform.LayerNorm.bias', 'cls.predictions.transform.dense.weight', 'cls.predictions.decoder.bias', 'cls.predictions.transform.LayerNorm.weight', 'cls.predictions.transform.dense.bias', 'cls.predictions.decoder.weight', 'cls.seq_relationship.bias']\n",
      "- This IS expected if you are initializing BertModel from the checkpoint of a model trained on another task or with another architecture (e.g. initializing a BertForSequenceClassification model from a BertForPreTraining model).\n",
      "- This IS NOT expected if you are initializing BertModel from the checkpoint of a model that you expect to be exactly identical (initializing a BertForSequenceClassification model from a BertForSequenceClassification model).\n"
     ]
    },
    {
     "name": "stdout",
     "output_type": "stream",
     "text": [
      "Epoch: [1][0/1709] Elapsed 0m 0s (remain 24m 10s) Loss: 0.6869(0.6869) Grad: inf  LR: 0.00002000  \n",
      "Epoch: [1][100/1709] Elapsed 1m 10s (remain 18m 36s) Loss: 0.6098(0.6749) Grad: 70548.5078  LR: 0.00001999  \n",
      "Epoch: [1][200/1709] Elapsed 2m 19s (remain 17m 25s) Loss: 0.3670(0.6495) Grad: 21442.5586  LR: 0.00001996  \n",
      "Epoch: [1][300/1709] Elapsed 3m 28s (remain 16m 16s) Loss: 0.5793(0.6371) Grad: 37944.4023  LR: 0.00001990  \n",
      "Epoch: [1][400/1709] Elapsed 4m 38s (remain 15m 7s) Loss: 0.4917(0.6228) Grad: 18527.5488  LR: 0.00001983  \n",
      "Epoch: [1][500/1709] Elapsed 5m 47s (remain 13m 57s) Loss: 0.5404(0.6128) Grad: 21492.4375  LR: 0.00001974  \n",
      "Epoch: [1][600/1709] Elapsed 6m 56s (remain 12m 48s) Loss: 0.5785(0.6049) Grad: 28074.8066  LR: 0.00001962  \n",
      "Epoch: [1][700/1709] Elapsed 8m 6s (remain 11m 39s) Loss: 0.6241(0.5998) Grad: 28864.0273  LR: 0.00001949  \n",
      "Epoch: [1][800/1709] Elapsed 9m 15s (remain 10m 29s) Loss: 0.5022(0.5945) Grad: 17522.7754  LR: 0.00001933  \n",
      "Epoch: [1][900/1709] Elapsed 10m 25s (remain 9m 20s) Loss: 0.5041(0.5906) Grad: 18135.6250  LR: 0.00001916  \n",
      "Epoch: [1][1000/1709] Elapsed 11m 34s (remain 8m 11s) Loss: 0.4932(0.5877) Grad: 52087.2344  LR: 0.00001896  \n",
      "Epoch: [1][1100/1709] Elapsed 12m 43s (remain 7m 1s) Loss: 0.6023(0.5853) Grad: 30553.6504  LR: 0.00001875  \n",
      "Epoch: [1][1200/1709] Elapsed 13m 53s (remain 5m 52s) Loss: 0.4576(0.5826) Grad: 12465.2070  LR: 0.00001852  \n",
      "Epoch: [1][1300/1709] Elapsed 15m 2s (remain 4m 43s) Loss: 0.4281(0.5797) Grad: 12197.1396  LR: 0.00001827  \n",
      "Epoch: [1][1400/1709] Elapsed 16m 12s (remain 3m 33s) Loss: 0.4285(0.5774) Grad: 17933.1562  LR: 0.00001800  \n",
      "Epoch: [1][1500/1709] Elapsed 17m 21s (remain 2m 24s) Loss: 0.4844(0.5768) Grad: 27386.8789  LR: 0.00001771  \n",
      "Epoch: [1][1600/1709] Elapsed 18m 30s (remain 1m 14s) Loss: 0.5776(0.5752) Grad: 12702.5342  LR: 0.00001741  \n",
      "Epoch: [1][1700/1709] Elapsed 19m 39s (remain 0m 5s) Loss: 0.4635(0.5730) Grad: 8550.0645  LR: 0.00001710  \n",
      "Epoch: [1][1708/1709] Elapsed 19m 45s (remain 0m 0s) Loss: 0.5896(0.5730) Grad: 16161.2959  LR: 0.00001707  \n",
      "EVAL: [0/570] Elapsed 0m 0s (remain 3m 54s) Loss: 0.4946(0.4946) \n",
      "EVAL: [100/570] Elapsed 0m 22s (remain 1m 45s) Loss: 0.5664(0.5470) \n",
      "EVAL: [200/570] Elapsed 0m 44s (remain 1m 22s) Loss: 0.4100(0.5505) \n",
      "EVAL: [300/570] Elapsed 1m 7s (remain 0m 59s) Loss: 0.5969(0.5511) \n",
      "EVAL: [400/570] Elapsed 1m 29s (remain 0m 37s) Loss: 0.5334(0.5507) \n",
      "EVAL: [500/570] Elapsed 1m 51s (remain 0m 15s) Loss: 0.4461(0.5484) \n"
     ]
    },
    {
     "name": "stderr",
     "output_type": "stream",
     "text": [
      "Epoch 1 - avg_train_loss: 0.5730  avg_val_loss: 0.5466  time: 1312s\n",
      "Epoch 1 - Score: 0.8263\n",
      "Epoch 1 - Save Best Score: 0.8263 Model\n"
     ]
    },
    {
     "name": "stdout",
     "output_type": "stream",
     "text": [
      "EVAL: [569/570] Elapsed 2m 6s (remain 0m 0s) Loss: 0.4591(0.5466) \n",
      "Epoch: [2][0/1709] Elapsed 0m 1s (remain 29m 21s) Loss: 0.4440(0.4440) Grad: 95399.5391  LR: 0.00001707  \n",
      "Epoch: [2][100/1709] Elapsed 1m 10s (remain 18m 39s) Loss: 0.5479(0.5211) Grad: 35395.4922  LR: 0.00001674  \n",
      "Epoch: [2][200/1709] Elapsed 2m 19s (remain 17m 27s) Loss: 0.5513(0.5175) Grad: 36827.6797  LR: 0.00001639  \n",
      "Epoch: [2][300/1709] Elapsed 3m 28s (remain 16m 17s) Loss: 0.5163(0.5180) Grad: 37577.1719  LR: 0.00001603  \n",
      "Epoch: [2][400/1709] Elapsed 4m 38s (remain 15m 7s) Loss: 0.5718(0.5202) Grad: 44294.1602  LR: 0.00001566  \n",
      "Epoch: [2][500/1709] Elapsed 5m 47s (remain 13m 58s) Loss: 0.5128(0.5209) Grad: 56453.8945  LR: 0.00001527  \n",
      "Epoch: [2][600/1709] Elapsed 6m 57s (remain 12m 48s) Loss: 0.5774(0.5210) Grad: 12651.3730  LR: 0.00001488  \n",
      "Epoch: [2][700/1709] Elapsed 8m 6s (remain 11m 39s) Loss: 0.6570(0.5223) Grad: 52852.6289  LR: 0.00001447  \n",
      "Epoch: [2][800/1709] Elapsed 9m 15s (remain 10m 30s) Loss: 0.5098(0.5218) Grad: 38336.5391  LR: 0.00001406  \n",
      "Epoch: [2][900/1709] Elapsed 10m 25s (remain 9m 20s) Loss: 0.5179(0.5222) Grad: 57961.4805  LR: 0.00001363  \n",
      "Epoch: [2][1000/1709] Elapsed 11m 34s (remain 8m 11s) Loss: 0.6156(0.5219) Grad: 48840.1758  LR: 0.00001320  \n",
      "Epoch: [2][1100/1709] Elapsed 12m 43s (remain 7m 1s) Loss: 0.5078(0.5223) Grad: 27127.4883  LR: 0.00001276  \n",
      "Epoch: [2][1200/1709] Elapsed 13m 53s (remain 5m 52s) Loss: 0.4502(0.5217) Grad: 22192.1035  LR: 0.00001232  \n",
      "Epoch: [2][1300/1709] Elapsed 15m 2s (remain 4m 43s) Loss: 0.6803(0.5218) Grad: 27499.5352  LR: 0.00001187  \n",
      "Epoch: [2][1400/1709] Elapsed 16m 12s (remain 3m 33s) Loss: 0.6016(0.5216) Grad: 30986.7168  LR: 0.00001141  \n",
      "Epoch: [2][1500/1709] Elapsed 17m 21s (remain 2m 24s) Loss: 0.4655(0.5216) Grad: 22294.5195  LR: 0.00001096  \n",
      "Epoch: [2][1600/1709] Elapsed 18m 30s (remain 1m 14s) Loss: 0.4950(0.5209) Grad: 12820.3408  LR: 0.00001050  \n",
      "Epoch: [2][1700/1709] Elapsed 19m 40s (remain 0m 5s) Loss: 0.5526(0.5208) Grad: 23454.4141  LR: 0.00001004  \n",
      "Epoch: [2][1708/1709] Elapsed 19m 45s (remain 0m 0s) Loss: 0.5190(0.5207) Grad: 16471.7891  LR: 0.00001000  \n",
      "EVAL: [0/570] Elapsed 0m 0s (remain 4m 1s) Loss: 0.4819(0.4819) \n",
      "EVAL: [100/570] Elapsed 0m 22s (remain 1m 45s) Loss: 0.5633(0.5441) \n",
      "EVAL: [200/570] Elapsed 0m 44s (remain 1m 22s) Loss: 0.4387(0.5428) \n",
      "EVAL: [300/570] Elapsed 1m 7s (remain 0m 59s) Loss: 0.5943(0.5432) \n",
      "EVAL: [400/570] Elapsed 1m 29s (remain 0m 37s) Loss: 0.5222(0.5431) \n",
      "EVAL: [500/570] Elapsed 1m 51s (remain 0m 15s) Loss: 0.4405(0.5399) \n"
     ]
    },
    {
     "name": "stderr",
     "output_type": "stream",
     "text": [
      "Epoch 2 - avg_train_loss: 0.5207  avg_val_loss: 0.5383  time: 1313s\n",
      "Epoch 2 - Score: 0.8513\n",
      "Epoch 2 - Save Best Score: 0.8513 Model\n"
     ]
    },
    {
     "name": "stdout",
     "output_type": "stream",
     "text": [
      "EVAL: [569/570] Elapsed 2m 6s (remain 0m 0s) Loss: 0.3817(0.5383) \n",
      "Epoch: [3][0/1709] Elapsed 0m 0s (remain 27m 15s) Loss: 0.3315(0.3315) Grad: 49016.7031  LR: 0.00001000  \n",
      "Epoch: [3][100/1709] Elapsed 1m 10s (remain 18m 39s) Loss: 0.4822(0.4965) Grad: 32411.8691  LR: 0.00000954  \n",
      "Epoch: [3][200/1709] Elapsed 2m 19s (remain 17m 27s) Loss: 0.4176(0.4972) Grad: 20231.8574  LR: 0.00000908  \n",
      "Epoch: [3][300/1709] Elapsed 3m 28s (remain 16m 17s) Loss: 0.5142(0.4970) Grad: 23698.7109  LR: 0.00000863  \n",
      "Epoch: [3][400/1709] Elapsed 4m 38s (remain 15m 7s) Loss: 0.3600(0.4998) Grad: 46756.4414  LR: 0.00000817  \n",
      "Epoch: [3][500/1709] Elapsed 5m 47s (remain 13m 58s) Loss: 0.4386(0.5005) Grad: 26930.0508  LR: 0.00000772  \n",
      "Epoch: [3][600/1709] Elapsed 6m 57s (remain 12m 48s) Loss: 0.5112(0.5015) Grad: 44843.0664  LR: 0.00000728  \n",
      "Epoch: [3][700/1709] Elapsed 8m 6s (remain 11m 39s) Loss: 0.5738(0.5027) Grad: 71624.9922  LR: 0.00000684  \n",
      "Epoch: [3][800/1709] Elapsed 9m 15s (remain 10m 30s) Loss: 0.4443(0.5037) Grad: 48164.9844  LR: 0.00000641  \n",
      "Epoch: [3][900/1709] Elapsed 10m 25s (remain 9m 20s) Loss: 0.4983(0.5030) Grad: 105420.9766  LR: 0.00000598  \n",
      "Epoch: [3][1000/1709] Elapsed 11m 34s (remain 8m 11s) Loss: 0.4500(0.5030) Grad: 33450.2852  LR: 0.00000557  \n",
      "Epoch: [3][1100/1709] Elapsed 12m 43s (remain 7m 1s) Loss: 0.5187(0.5032) Grad: 36974.4922  LR: 0.00000516  \n",
      "Epoch: [3][1200/1709] Elapsed 13m 53s (remain 5m 52s) Loss: 0.3114(0.5026) Grad: 36883.2773  LR: 0.00000476  \n",
      "Epoch: [3][1300/1709] Elapsed 15m 2s (remain 4m 43s) Loss: 0.4464(0.5017) Grad: 31350.2109  LR: 0.00000438  \n",
      "Epoch: [3][1400/1709] Elapsed 16m 11s (remain 3m 33s) Loss: 0.5009(0.5011) Grad: 37095.2070  LR: 0.00000400  \n",
      "Epoch: [3][1500/1709] Elapsed 17m 21s (remain 2m 24s) Loss: 0.5473(0.5017) Grad: 60423.1758  LR: 0.00000364  \n",
      "Epoch: [3][1600/1709] Elapsed 18m 30s (remain 1m 14s) Loss: 0.4058(0.5015) Grad: 61723.5273  LR: 0.00000329  \n",
      "Epoch: [3][1700/1709] Elapsed 19m 40s (remain 0m 5s) Loss: 0.5016(0.5017) Grad: 32299.1094  LR: 0.00000296  \n",
      "Epoch: [3][1708/1709] Elapsed 19m 45s (remain 0m 0s) Loss: 0.4221(0.5018) Grad: 19085.1484  LR: 0.00000293  \n",
      "EVAL: [0/570] Elapsed 0m 0s (remain 4m 7s) Loss: 0.4831(0.4831) \n",
      "EVAL: [100/570] Elapsed 0m 22s (remain 1m 45s) Loss: 0.5611(0.5550) \n",
      "EVAL: [200/570] Elapsed 0m 44s (remain 1m 22s) Loss: 0.4301(0.5504) \n",
      "EVAL: [300/570] Elapsed 1m 7s (remain 0m 59s) Loss: 0.5887(0.5492) \n",
      "EVAL: [400/570] Elapsed 1m 29s (remain 0m 37s) Loss: 0.5109(0.5497) \n",
      "EVAL: [500/570] Elapsed 1m 51s (remain 0m 15s) Loss: 0.4212(0.5461) \n"
     ]
    },
    {
     "name": "stderr",
     "output_type": "stream",
     "text": [
      "Epoch 3 - avg_train_loss: 0.5018  avg_val_loss: 0.5445  time: 1313s\n",
      "Epoch 3 - Score: 0.8574\n",
      "Epoch 3 - Save Best Score: 0.8574 Model\n"
     ]
    },
    {
     "name": "stdout",
     "output_type": "stream",
     "text": [
      "EVAL: [569/570] Elapsed 2m 6s (remain 0m 0s) Loss: 0.3758(0.5445) \n",
      "Epoch: [4][0/1709] Elapsed 0m 0s (remain 27m 8s) Loss: 0.5517(0.5517) Grad: 41324.2461  LR: 0.00000293  \n",
      "Epoch: [4][100/1709] Elapsed 1m 10s (remain 18m 42s) Loss: 0.5340(0.4912) Grad: 85324.3359  LR: 0.00000261  \n",
      "Epoch: [4][200/1709] Elapsed 2m 20s (remain 17m 30s) Loss: 0.4035(0.4984) Grad: 66495.5312  LR: 0.00000231  \n",
      "Epoch: [4][300/1709] Elapsed 3m 29s (remain 16m 20s) Loss: 0.5114(0.4951) Grad: 61723.5820  LR: 0.00000203  \n",
      "Epoch: [4][400/1709] Elapsed 4m 38s (remain 15m 9s) Loss: 0.4035(0.4964) Grad: 49938.7500  LR: 0.00000176  \n",
      "Epoch: [4][500/1709] Elapsed 5m 48s (remain 13m 59s) Loss: 0.5286(0.4958) Grad: 82246.5859  LR: 0.00000151  \n",
      "Epoch: [4][600/1709] Elapsed 6m 57s (remain 12m 50s) Loss: 0.5043(0.4964) Grad: 69389.3750  LR: 0.00000127  \n",
      "Epoch: [4][700/1709] Elapsed 8m 7s (remain 11m 40s) Loss: 0.4685(0.4949) Grad: 94417.8672  LR: 0.00000106  \n",
      "Epoch: [4][800/1709] Elapsed 9m 16s (remain 10m 31s) Loss: 0.5769(0.4945) Grad: 40354.4883  LR: 0.00000086  \n",
      "Epoch: [4][900/1709] Elapsed 10m 26s (remain 9m 21s) Loss: 0.5778(0.4953) Grad: 48125.9141  LR: 0.00000068  \n",
      "Epoch: [4][1000/1709] Elapsed 11m 35s (remain 8m 11s) Loss: 0.5204(0.4960) Grad: 35453.3086  LR: 0.00000053  \n",
      "Epoch: [4][1100/1709] Elapsed 12m 44s (remain 7m 2s) Loss: 0.5866(0.4952) Grad: 30916.1133  LR: 0.00000039  \n",
      "Epoch: [4][1200/1709] Elapsed 13m 54s (remain 5m 52s) Loss: 0.5335(0.4959) Grad: 35310.1133  LR: 0.00000027  \n",
      "Epoch: [4][1300/1709] Elapsed 15m 3s (remain 4m 43s) Loss: 0.5148(0.4954) Grad: 31221.5273  LR: 0.00000018  \n",
      "Epoch: [4][1400/1709] Elapsed 16m 13s (remain 3m 33s) Loss: 0.5267(0.4949) Grad: 46498.6406  LR: 0.00000010  \n",
      "Epoch: [4][1500/1709] Elapsed 17m 22s (remain 2m 24s) Loss: 0.4836(0.4949) Grad: 19820.0078  LR: 0.00000005  \n",
      "Epoch: [4][1600/1709] Elapsed 18m 32s (remain 1m 15s) Loss: 0.3340(0.4950) Grad: 11894.1846  LR: 0.00000001  \n",
      "Epoch: [4][1700/1709] Elapsed 19m 41s (remain 0m 5s) Loss: 0.4967(0.4946) Grad: 43417.6211  LR: 0.00000000  \n",
      "Epoch: [4][1708/1709] Elapsed 19m 47s (remain 0m 0s) Loss: 0.5695(0.4945) Grad: 21600.0039  LR: 0.00000000  \n",
      "EVAL: [0/570] Elapsed 0m 0s (remain 4m 4s) Loss: 0.4833(0.4833) \n",
      "EVAL: [100/570] Elapsed 0m 22s (remain 1m 45s) Loss: 0.5600(0.5614) \n",
      "EVAL: [200/570] Elapsed 0m 44s (remain 1m 22s) Loss: 0.4285(0.5555) \n",
      "EVAL: [300/570] Elapsed 1m 7s (remain 0m 59s) Loss: 0.5890(0.5540) \n",
      "EVAL: [400/570] Elapsed 1m 29s (remain 0m 37s) Loss: 0.5092(0.5541) \n",
      "EVAL: [500/570] Elapsed 1m 51s (remain 0m 15s) Loss: 0.4209(0.5504) \n"
     ]
    },
    {
     "name": "stderr",
     "output_type": "stream",
     "text": [
      "Epoch 4 - avg_train_loss: 0.4945  avg_val_loss: 0.5488  time: 1314s\n",
      "Epoch 4 - Score: 0.8574\n"
     ]
    },
    {
     "name": "stdout",
     "output_type": "stream",
     "text": [
      "EVAL: [569/570] Elapsed 2m 6s (remain 0m 0s) Loss: 0.3778(0.5488) \n"
     ]
    },
    {
     "name": "stderr",
     "output_type": "stream",
     "text": [
      "========== fold: 1 result ==========\n",
      "Score: 0.8574\n",
      "========== fold: 2 training ==========\n",
      "Some weights of the model checkpoint at anferico/bert-for-patents were not used when initializing BertModel: ['cls.seq_relationship.weight', 'cls.predictions.bias', 'cls.predictions.transform.LayerNorm.bias', 'cls.predictions.transform.dense.weight', 'cls.predictions.decoder.bias', 'cls.predictions.transform.LayerNorm.weight', 'cls.predictions.transform.dense.bias', 'cls.predictions.decoder.weight', 'cls.seq_relationship.bias']\n",
      "- This IS expected if you are initializing BertModel from the checkpoint of a model trained on another task or with another architecture (e.g. initializing a BertForSequenceClassification model from a BertForPreTraining model).\n",
      "- This IS NOT expected if you are initializing BertModel from the checkpoint of a model that you expect to be exactly identical (initializing a BertForSequenceClassification model from a BertForSequenceClassification model).\n"
     ]
    },
    {
     "name": "stdout",
     "output_type": "stream",
     "text": [
      "Epoch: [1][0/1709] Elapsed 0m 0s (remain 25m 52s) Loss: 0.6745(0.6745) Grad: 388875.7188  LR: 0.00002000  \n",
      "Epoch: [1][100/1709] Elapsed 1m 10s (remain 18m 38s) Loss: 0.6087(0.6648) Grad: 82249.7109  LR: 0.00001999  \n",
      "Epoch: [1][200/1709] Elapsed 2m 19s (remain 17m 28s) Loss: 0.4889(0.6455) Grad: 81786.5312  LR: 0.00001996  \n",
      "Epoch: [1][300/1709] Elapsed 3m 29s (remain 16m 19s) Loss: 0.6704(0.6315) Grad: 56176.0586  LR: 0.00001990  \n",
      "Epoch: [1][400/1709] Elapsed 4m 38s (remain 15m 9s) Loss: 0.7417(0.6188) Grad: 109263.1094  LR: 0.00001983  \n",
      "Epoch: [1][500/1709] Elapsed 5m 48s (remain 13m 59s) Loss: 0.6078(0.6112) Grad: 23285.5078  LR: 0.00001974  \n",
      "Epoch: [1][600/1709] Elapsed 6m 57s (remain 12m 50s) Loss: 0.5442(0.6058) Grad: 35282.2227  LR: 0.00001962  \n",
      "Epoch: [1][700/1709] Elapsed 8m 7s (remain 11m 40s) Loss: 0.5811(0.6014) Grad: 48537.5469  LR: 0.00001949  \n",
      "Epoch: [1][800/1709] Elapsed 9m 16s (remain 10m 30s) Loss: 0.5244(0.5959) Grad: 68670.7969  LR: 0.00001933  \n",
      "Epoch: [1][900/1709] Elapsed 10m 25s (remain 9m 21s) Loss: 0.5622(0.5934) Grad: 42120.0508  LR: 0.00001916  \n",
      "Epoch: [1][1000/1709] Elapsed 11m 35s (remain 8m 11s) Loss: 0.5560(0.5904) Grad: 33851.7539  LR: 0.00001896  \n",
      "Epoch: [1][1100/1709] Elapsed 12m 44s (remain 7m 2s) Loss: 0.6551(0.5879) Grad: 33055.9062  LR: 0.00001875  \n",
      "Epoch: [1][1200/1709] Elapsed 13m 54s (remain 5m 52s) Loss: 0.6121(0.5869) Grad: 19871.5996  LR: 0.00001852  \n",
      "Epoch: [1][1300/1709] Elapsed 15m 3s (remain 4m 43s) Loss: 0.7079(0.5851) Grad: 58935.4336  LR: 0.00001827  \n",
      "Epoch: [1][1400/1709] Elapsed 16m 13s (remain 3m 33s) Loss: 0.5079(0.5834) Grad: 25564.2754  LR: 0.00001800  \n",
      "Epoch: [1][1500/1709] Elapsed 17m 22s (remain 2m 24s) Loss: 0.6147(0.5822) Grad: 29906.0059  LR: 0.00001771  \n",
      "Epoch: [1][1600/1709] Elapsed 18m 31s (remain 1m 15s) Loss: 0.4870(0.5803) Grad: 19890.9980  LR: 0.00001741  \n",
      "Epoch: [1][1700/1709] Elapsed 19m 41s (remain 0m 5s) Loss: 0.5610(0.5779) Grad: 11758.2988  LR: 0.00001710  \n",
      "Epoch: [1][1708/1709] Elapsed 19m 46s (remain 0m 0s) Loss: 0.6323(0.5778) Grad: 10961.9375  LR: 0.00001707  \n",
      "EVAL: [0/570] Elapsed 0m 0s (remain 3m 45s) Loss: 0.5705(0.5705) \n",
      "EVAL: [100/570] Elapsed 0m 22s (remain 1m 44s) Loss: 0.5726(0.5343) \n",
      "EVAL: [200/570] Elapsed 0m 44s (remain 1m 22s) Loss: 0.5418(0.5449) \n",
      "EVAL: [300/570] Elapsed 1m 7s (remain 0m 59s) Loss: 0.4358(0.5420) \n",
      "EVAL: [400/570] Elapsed 1m 29s (remain 0m 37s) Loss: 0.4497(0.5432) \n",
      "EVAL: [500/570] Elapsed 1m 51s (remain 0m 15s) Loss: 0.4486(0.5427) \n"
     ]
    },
    {
     "name": "stderr",
     "output_type": "stream",
     "text": [
      "Epoch 1 - avg_train_loss: 0.5778  avg_val_loss: 0.5413  time: 1314s\n",
      "Epoch 1 - Score: 0.8268\n",
      "Epoch 1 - Save Best Score: 0.8268 Model\n"
     ]
    },
    {
     "name": "stdout",
     "output_type": "stream",
     "text": [
      "EVAL: [569/570] Elapsed 2m 6s (remain 0m 0s) Loss: 0.4533(0.5413) \n",
      "Epoch: [2][0/1709] Elapsed 0m 1s (remain 29m 13s) Loss: 0.6539(0.6539) Grad: 197647.5469  LR: 0.00001707  \n",
      "Epoch: [2][100/1709] Elapsed 1m 10s (remain 18m 45s) Loss: 0.4812(0.5326) Grad: 380334.4688  LR: 0.00001674  \n",
      "Epoch: [2][200/1709] Elapsed 2m 20s (remain 17m 31s) Loss: 0.5878(0.5370) Grad: 230954.6406  LR: 0.00001639  \n",
      "Epoch: [2][300/1709] Elapsed 3m 29s (remain 16m 19s) Loss: 0.5138(0.5314) Grad: 61860.6914  LR: 0.00001603  \n",
      "Epoch: [2][400/1709] Elapsed 4m 38s (remain 15m 9s) Loss: 0.6307(0.5296) Grad: 94258.8594  LR: 0.00001566  \n",
      "Epoch: [2][500/1709] Elapsed 5m 48s (remain 13m 59s) Loss: 0.7046(0.5296) Grad: 606295.5625  LR: 0.00001527  \n",
      "Epoch: [2][600/1709] Elapsed 6m 57s (remain 12m 49s) Loss: 0.5725(0.5302) Grad: 100441.8047  LR: 0.00001488  \n",
      "Epoch: [2][700/1709] Elapsed 8m 7s (remain 11m 40s) Loss: 0.4389(0.5294) Grad: 19853.0938  LR: 0.00001447  \n",
      "Epoch: [2][800/1709] Elapsed 9m 16s (remain 10m 30s) Loss: 0.4984(0.5292) Grad: 76723.2109  LR: 0.00001406  \n",
      "Epoch: [2][900/1709] Elapsed 10m 25s (remain 9m 21s) Loss: 0.5555(0.5273) Grad: 47027.3008  LR: 0.00001363  \n",
      "Epoch: [2][1000/1709] Elapsed 11m 35s (remain 8m 11s) Loss: 0.6327(0.5280) Grad: 54711.3984  LR: 0.00001320  \n",
      "Epoch: [2][1100/1709] Elapsed 12m 44s (remain 7m 2s) Loss: 0.4976(0.5278) Grad: 48557.0977  LR: 0.00001276  \n",
      "Epoch: [2][1200/1709] Elapsed 13m 54s (remain 5m 52s) Loss: 0.6028(0.5277) Grad: 62886.5469  LR: 0.00001232  \n",
      "Epoch: [2][1300/1709] Elapsed 15m 3s (remain 4m 43s) Loss: 0.4958(0.5264) Grad: 141152.6719  LR: 0.00001187  \n",
      "Epoch: [2][1400/1709] Elapsed 16m 12s (remain 3m 33s) Loss: 0.5381(0.5259) Grad: 53008.5352  LR: 0.00001141  \n",
      "Epoch: [2][1500/1709] Elapsed 17m 22s (remain 2m 24s) Loss: 0.4259(0.5257) Grad: 49189.3438  LR: 0.00001096  \n",
      "Epoch: [2][1600/1709] Elapsed 18m 31s (remain 1m 14s) Loss: 0.6176(0.5259) Grad: 110021.5000  LR: 0.00001050  \n",
      "Epoch: [2][1700/1709] Elapsed 19m 41s (remain 0m 5s) Loss: 0.5183(0.5256) Grad: 34929.1602  LR: 0.00001004  \n",
      "Epoch: [2][1708/1709] Elapsed 19m 46s (remain 0m 0s) Loss: 0.5172(0.5257) Grad: 34454.6758  LR: 0.00001000  \n",
      "EVAL: [0/570] Elapsed 0m 0s (remain 4m 12s) Loss: 0.5576(0.5576) \n",
      "EVAL: [100/570] Elapsed 0m 22s (remain 1m 45s) Loss: 0.5855(0.5317) \n",
      "EVAL: [200/570] Elapsed 0m 44s (remain 1m 22s) Loss: 0.5504(0.5428) \n",
      "EVAL: [300/570] Elapsed 1m 7s (remain 0m 59s) Loss: 0.4339(0.5409) \n",
      "EVAL: [400/570] Elapsed 1m 29s (remain 0m 37s) Loss: 0.4241(0.5420) \n",
      "EVAL: [500/570] Elapsed 1m 51s (remain 0m 15s) Loss: 0.4468(0.5415) \n"
     ]
    },
    {
     "name": "stderr",
     "output_type": "stream",
     "text": [
      "Epoch 2 - avg_train_loss: 0.5257  avg_val_loss: 0.5395  time: 1314s\n",
      "Epoch 2 - Score: 0.8433\n",
      "Epoch 2 - Save Best Score: 0.8433 Model\n"
     ]
    },
    {
     "name": "stdout",
     "output_type": "stream",
     "text": [
      "EVAL: [569/570] Elapsed 2m 6s (remain 0m 0s) Loss: 0.4434(0.5395) \n",
      "Epoch: [3][0/1709] Elapsed 0m 1s (remain 29m 58s) Loss: 0.5261(0.5261) Grad: 133018.6406  LR: 0.00001000  \n",
      "Epoch: [3][100/1709] Elapsed 1m 10s (remain 18m 42s) Loss: 0.4720(0.5075) Grad: 28517.2852  LR: 0.00000954  \n",
      "Epoch: [3][200/1709] Elapsed 2m 19s (remain 17m 29s) Loss: 0.4850(0.5090) Grad: 44154.9062  LR: 0.00000908  \n",
      "Epoch: [3][300/1709] Elapsed 3m 29s (remain 16m 19s) Loss: 0.6484(0.5083) Grad: 430484.1250  LR: 0.00000863  \n",
      "Epoch: [3][400/1709] Elapsed 4m 38s (remain 15m 8s) Loss: 0.4556(0.5108) Grad: 119657.5156  LR: 0.00000817  \n",
      "Epoch: [3][500/1709] Elapsed 5m 47s (remain 13m 58s) Loss: 0.6033(0.5101) Grad: 248314.5625  LR: 0.00000772  \n",
      "Epoch: [3][600/1709] Elapsed 6m 57s (remain 12m 49s) Loss: 0.5384(0.5084) Grad: 1329310.7500  LR: 0.00000728  \n",
      "Epoch: [3][700/1709] Elapsed 8m 6s (remain 11m 39s) Loss: 0.5541(0.5101) Grad: 81052.6406  LR: 0.00000684  \n",
      "Epoch: [3][800/1709] Elapsed 9m 15s (remain 10m 30s) Loss: 0.4297(0.5089) Grad: 90283.1719  LR: 0.00000641  \n",
      "Epoch: [3][900/1709] Elapsed 10m 25s (remain 9m 20s) Loss: 0.4330(0.5087) Grad: 121045.1406  LR: 0.00000598  \n",
      "Epoch: [3][1000/1709] Elapsed 11m 34s (remain 8m 11s) Loss: 0.5298(0.5099) Grad: 39713.8398  LR: 0.00000557  \n",
      "Epoch: [3][1100/1709] Elapsed 12m 43s (remain 7m 1s) Loss: 0.5491(0.5104) Grad: 103336.9844  LR: 0.00000516  \n",
      "Epoch: [3][1200/1709] Elapsed 13m 53s (remain 5m 52s) Loss: 0.4136(0.5108) Grad: 38200.8672  LR: 0.00000476  \n",
      "Epoch: [3][1300/1709] Elapsed 15m 2s (remain 4m 43s) Loss: 0.4218(0.5116) Grad: 141485.2656  LR: 0.00000438  \n",
      "Epoch: [3][1400/1709] Elapsed 16m 12s (remain 3m 33s) Loss: 0.5458(0.5124) Grad: 58357.3320  LR: 0.00000400  \n",
      "Epoch: [3][1500/1709] Elapsed 17m 21s (remain 2m 24s) Loss: 0.5477(0.5113) Grad: 28028.4395  LR: 0.00000364  \n",
      "Epoch: [3][1600/1709] Elapsed 18m 30s (remain 1m 14s) Loss: 0.4067(0.5112) Grad: 38017.4023  LR: 0.00000329  \n",
      "Epoch: [3][1700/1709] Elapsed 19m 40s (remain 0m 5s) Loss: 0.4442(0.5102) Grad: 22224.2910  LR: 0.00000296  \n",
      "Epoch: [3][1708/1709] Elapsed 19m 45s (remain 0m 0s) Loss: 0.4315(0.5100) Grad: 44807.5234  LR: 0.00000293  \n",
      "EVAL: [0/570] Elapsed 0m 0s (remain 4m 11s) Loss: 0.5554(0.5554) \n",
      "EVAL: [100/570] Elapsed 0m 22s (remain 1m 45s) Loss: 0.5439(0.5408) \n",
      "EVAL: [200/570] Elapsed 0m 44s (remain 1m 22s) Loss: 0.5384(0.5508) \n",
      "EVAL: [300/570] Elapsed 1m 7s (remain 0m 59s) Loss: 0.4258(0.5478) \n",
      "EVAL: [400/570] Elapsed 1m 29s (remain 0m 37s) Loss: 0.4319(0.5474) \n",
      "EVAL: [500/570] Elapsed 1m 51s (remain 0m 15s) Loss: 0.4408(0.5479) \n"
     ]
    },
    {
     "name": "stderr",
     "output_type": "stream",
     "text": [
      "Epoch 3 - avg_train_loss: 0.5100  avg_val_loss: 0.5463  time: 1313s\n",
      "Epoch 3 - Score: 0.8477\n",
      "Epoch 3 - Save Best Score: 0.8477 Model\n"
     ]
    },
    {
     "name": "stdout",
     "output_type": "stream",
     "text": [
      "EVAL: [569/570] Elapsed 2m 6s (remain 0m 0s) Loss: 0.4711(0.5463) \n",
      "Epoch: [4][0/1709] Elapsed 0m 0s (remain 27m 46s) Loss: 0.5466(0.5466) Grad: 49593.7812  LR: 0.00000293  \n",
      "Epoch: [4][100/1709] Elapsed 1m 10s (remain 18m 39s) Loss: 0.5092(0.5067) Grad: 41508.6133  LR: 0.00000261  \n",
      "Epoch: [4][200/1709] Elapsed 2m 19s (remain 17m 28s) Loss: 0.5315(0.5018) Grad: 45549.0742  LR: 0.00000231  \n",
      "Epoch: [4][300/1709] Elapsed 3m 29s (remain 16m 18s) Loss: 0.5155(0.5037) Grad: 135032.0781  LR: 0.00000203  \n",
      "Epoch: [4][400/1709] Elapsed 4m 38s (remain 15m 8s) Loss: 0.4902(0.5037) Grad: 66496.8750  LR: 0.00000176  \n",
      "Epoch: [4][500/1709] Elapsed 5m 47s (remain 13m 59s) Loss: 0.5183(0.5035) Grad: 39011.1367  LR: 0.00000151  \n",
      "Epoch: [4][600/1709] Elapsed 6m 57s (remain 12m 49s) Loss: 0.4590(0.5038) Grad: 32934.6523  LR: 0.00000127  \n",
      "Epoch: [4][700/1709] Elapsed 8m 6s (remain 11m 39s) Loss: 0.5671(0.5038) Grad: 38415.8789  LR: 0.00000106  \n",
      "Epoch: [4][800/1709] Elapsed 9m 16s (remain 10m 30s) Loss: 0.4206(0.5023) Grad: 34857.1328  LR: 0.00000086  \n",
      "Epoch: [4][900/1709] Elapsed 10m 25s (remain 9m 20s) Loss: 0.5246(0.5032) Grad: 70474.3516  LR: 0.00000068  \n",
      "Epoch: [4][1000/1709] Elapsed 11m 34s (remain 8m 11s) Loss: 0.4726(0.5039) Grad: 48866.5469  LR: 0.00000053  \n",
      "Epoch: [4][1100/1709] Elapsed 12m 44s (remain 7m 2s) Loss: 0.5255(0.5043) Grad: 12841.3330  LR: 0.00000039  \n",
      "Epoch: [4][1200/1709] Elapsed 13m 53s (remain 5m 52s) Loss: 0.5675(0.5040) Grad: 17181.1328  LR: 0.00000027  \n",
      "Epoch: [4][1300/1709] Elapsed 15m 3s (remain 4m 43s) Loss: 0.5415(0.5038) Grad: 23750.4395  LR: 0.00000018  \n",
      "Epoch: [4][1400/1709] Elapsed 16m 12s (remain 3m 33s) Loss: 0.4232(0.5034) Grad: 3376.4231  LR: 0.00000010  \n",
      "Epoch: [4][1500/1709] Elapsed 17m 21s (remain 2m 24s) Loss: 0.5973(0.5034) Grad: 17591.6738  LR: 0.00000005  \n",
      "Epoch: [4][1600/1709] Elapsed 18m 31s (remain 1m 14s) Loss: 0.5120(0.5029) Grad: 10135.4629  LR: 0.00000001  \n",
      "Epoch: [4][1700/1709] Elapsed 19m 40s (remain 0m 5s) Loss: 0.5720(0.5022) Grad: 11616.9580  LR: 0.00000000  \n",
      "Epoch: [4][1708/1709] Elapsed 19m 45s (remain 0m 0s) Loss: 0.6188(0.5023) Grad: 14326.0527  LR: 0.00000000  \n",
      "EVAL: [0/570] Elapsed 0m 0s (remain 3m 45s) Loss: 0.5693(0.5693) \n",
      "EVAL: [100/570] Elapsed 0m 22s (remain 1m 45s) Loss: 0.5471(0.5445) \n",
      "EVAL: [200/570] Elapsed 0m 44s (remain 1m 22s) Loss: 0.5393(0.5548) \n",
      "EVAL: [300/570] Elapsed 1m 7s (remain 0m 59s) Loss: 0.4192(0.5507) \n",
      "EVAL: [400/570] Elapsed 1m 29s (remain 0m 37s) Loss: 0.4327(0.5501) \n",
      "EVAL: [500/570] Elapsed 1m 51s (remain 0m 15s) Loss: 0.4343(0.5505) \n",
      "EVAL: [569/570] Elapsed 2m 6s (remain 0m 0s) Loss: 0.4546(0.5490) \n"
     ]
    },
    {
     "name": "stderr",
     "output_type": "stream",
     "text": [
      "Epoch 4 - avg_train_loss: 0.5023  avg_val_loss: 0.5490  time: 1313s\n",
      "Epoch 4 - Score: 0.8494\n",
      "Epoch 4 - Save Best Score: 0.8494 Model\n",
      "========== fold: 2 result ==========\n",
      "Score: 0.8494\n",
      "========== fold: 3 training ==========\n",
      "Some weights of the model checkpoint at anferico/bert-for-patents were not used when initializing BertModel: ['cls.seq_relationship.weight', 'cls.predictions.bias', 'cls.predictions.transform.LayerNorm.bias', 'cls.predictions.transform.dense.weight', 'cls.predictions.decoder.bias', 'cls.predictions.transform.LayerNorm.weight', 'cls.predictions.transform.dense.bias', 'cls.predictions.decoder.weight', 'cls.seq_relationship.bias']\n",
      "- This IS expected if you are initializing BertModel from the checkpoint of a model trained on another task or with another architecture (e.g. initializing a BertForSequenceClassification model from a BertForPreTraining model).\n",
      "- This IS NOT expected if you are initializing BertModel from the checkpoint of a model that you expect to be exactly identical (initializing a BertForSequenceClassification model from a BertForSequenceClassification model).\n"
     ]
    },
    {
     "name": "stdout",
     "output_type": "stream",
     "text": [
      "Epoch: [1][0/1709] Elapsed 0m 0s (remain 24m 48s) Loss: 0.7594(0.7594) Grad: inf  LR: 0.00002000  \n",
      "Epoch: [1][100/1709] Elapsed 1m 10s (remain 18m 35s) Loss: 0.6915(0.6611) Grad: 64853.5742  LR: 0.00001999  \n",
      "Epoch: [1][200/1709] Elapsed 2m 19s (remain 17m 26s) Loss: 0.6633(0.6454) Grad: 22142.2188  LR: 0.00001996  \n",
      "Epoch: [1][300/1709] Elapsed 3m 28s (remain 16m 17s) Loss: 0.6876(0.6355) Grad: 34269.7383  LR: 0.00001990  \n",
      "Epoch: [1][400/1709] Elapsed 4m 38s (remain 15m 7s) Loss: 0.5390(0.6249) Grad: 31932.5488  LR: 0.00001983  \n",
      "Epoch: [1][500/1709] Elapsed 5m 47s (remain 13m 57s) Loss: 0.5462(0.6164) Grad: 16784.6387  LR: 0.00001974  \n",
      "Epoch: [1][600/1709] Elapsed 6m 56s (remain 12m 48s) Loss: 0.5697(0.6092) Grad: 24303.8613  LR: 0.00001962  \n",
      "Epoch: [1][700/1709] Elapsed 8m 6s (remain 11m 38s) Loss: 0.5368(0.6029) Grad: 35266.5547  LR: 0.00001949  \n",
      "Epoch: [1][800/1709] Elapsed 9m 15s (remain 10m 29s) Loss: 0.5235(0.5998) Grad: 10917.9424  LR: 0.00001933  \n",
      "Epoch: [1][900/1709] Elapsed 10m 24s (remain 9m 20s) Loss: 0.6143(0.5961) Grad: 28493.0625  LR: 0.00001916  \n",
      "Epoch: [1][1000/1709] Elapsed 11m 33s (remain 8m 10s) Loss: 0.5137(0.5932) Grad: 10420.8867  LR: 0.00001896  \n",
      "Epoch: [1][1100/1709] Elapsed 12m 43s (remain 7m 1s) Loss: 0.5415(0.5903) Grad: 7694.2925  LR: 0.00001875  \n",
      "Epoch: [1][1200/1709] Elapsed 13m 52s (remain 5m 52s) Loss: 0.6043(0.5876) Grad: 6808.1133  LR: 0.00001852  \n",
      "Epoch: [1][1300/1709] Elapsed 15m 1s (remain 4m 42s) Loss: 0.6685(0.5859) Grad: 11471.0723  LR: 0.00001827  \n",
      "Epoch: [1][1400/1709] Elapsed 16m 11s (remain 3m 33s) Loss: 0.5607(0.5837) Grad: 11340.7734  LR: 0.00001800  \n",
      "Epoch: [1][1500/1709] Elapsed 17m 20s (remain 2m 24s) Loss: 0.6687(0.5815) Grad: 25032.5488  LR: 0.00001771  \n",
      "Epoch: [1][1600/1709] Elapsed 18m 30s (remain 1m 14s) Loss: 0.4711(0.5798) Grad: 12044.9561  LR: 0.00001741  \n",
      "Epoch: [1][1700/1709] Elapsed 19m 39s (remain 0m 5s) Loss: 0.5837(0.5776) Grad: 12620.7305  LR: 0.00001710  \n",
      "Epoch: [1][1708/1709] Elapsed 19m 44s (remain 0m 0s) Loss: 0.5099(0.5774) Grad: 7401.5830  LR: 0.00001707  \n",
      "EVAL: [0/570] Elapsed 0m 0s (remain 3m 56s) Loss: 0.6043(0.6043) \n",
      "EVAL: [100/570] Elapsed 0m 22s (remain 1m 45s) Loss: 0.6825(0.5510) \n",
      "EVAL: [200/570] Elapsed 0m 44s (remain 1m 22s) Loss: 0.4665(0.5434) \n",
      "EVAL: [300/570] Elapsed 1m 7s (remain 0m 59s) Loss: 0.5891(0.5404) \n",
      "EVAL: [400/570] Elapsed 1m 29s (remain 0m 37s) Loss: 0.4387(0.5402) \n",
      "EVAL: [500/570] Elapsed 1m 51s (remain 0m 15s) Loss: 0.5294(0.5399) \n"
     ]
    },
    {
     "name": "stderr",
     "output_type": "stream",
     "text": [
      "Epoch 1 - avg_train_loss: 0.5774  avg_val_loss: 0.5405  time: 1312s\n",
      "Epoch 1 - Score: 0.8255\n",
      "Epoch 1 - Save Best Score: 0.8255 Model\n"
     ]
    },
    {
     "name": "stdout",
     "output_type": "stream",
     "text": [
      "EVAL: [569/570] Elapsed 2m 6s (remain 0m 0s) Loss: 0.4440(0.5405) \n",
      "Epoch: [2][0/1709] Elapsed 0m 1s (remain 31m 34s) Loss: 0.4558(0.4558) Grad: 83629.5547  LR: 0.00001707  \n",
      "Epoch: [2][100/1709] Elapsed 1m 10s (remain 18m 42s) Loss: 0.4633(0.5159) Grad: 52465.7266  LR: 0.00001674  \n",
      "Epoch: [2][200/1709] Elapsed 2m 19s (remain 17m 29s) Loss: 0.5715(0.5204) Grad: 21122.0195  LR: 0.00001639  \n",
      "Epoch: [2][300/1709] Elapsed 3m 29s (remain 16m 19s) Loss: 0.4424(0.5251) Grad: 39653.7070  LR: 0.00001603  \n",
      "Epoch: [2][400/1709] Elapsed 4m 38s (remain 15m 9s) Loss: 0.4685(0.5262) Grad: 59881.7617  LR: 0.00001566  \n",
      "Epoch: [2][500/1709] Elapsed 5m 48s (remain 13m 59s) Loss: 0.5913(0.5259) Grad: 50069.6836  LR: 0.00001527  \n",
      "Epoch: [2][600/1709] Elapsed 6m 57s (remain 12m 50s) Loss: 0.6138(0.5261) Grad: 40880.0781  LR: 0.00001488  \n",
      "Epoch: [2][700/1709] Elapsed 8m 7s (remain 11m 40s) Loss: 0.5685(0.5249) Grad: 36099.6562  LR: 0.00001447  \n",
      "Epoch: [2][800/1709] Elapsed 9m 16s (remain 10m 30s) Loss: 0.5324(0.5255) Grad: 34522.9102  LR: 0.00001406  \n",
      "Epoch: [2][900/1709] Elapsed 10m 25s (remain 9m 21s) Loss: 0.4728(0.5255) Grad: 28553.6621  LR: 0.00001363  \n",
      "Epoch: [2][1000/1709] Elapsed 11m 35s (remain 8m 11s) Loss: 0.5763(0.5253) Grad: 23005.5762  LR: 0.00001320  \n",
      "Epoch: [2][1100/1709] Elapsed 12m 44s (remain 7m 2s) Loss: 0.5219(0.5233) Grad: 14261.2695  LR: 0.00001276  \n",
      "Epoch: [2][1200/1709] Elapsed 13m 54s (remain 5m 52s) Loss: 0.4303(0.5231) Grad: 29704.6406  LR: 0.00001232  \n",
      "Epoch: [2][1300/1709] Elapsed 15m 3s (remain 4m 43s) Loss: 0.5529(0.5231) Grad: 62525.2148  LR: 0.00001187  \n",
      "Epoch: [2][1400/1709] Elapsed 16m 13s (remain 3m 33s) Loss: 0.5277(0.5226) Grad: 27377.5781  LR: 0.00001141  \n",
      "Epoch: [2][1500/1709] Elapsed 17m 22s (remain 2m 24s) Loss: 0.5874(0.5219) Grad: 9469.1904  LR: 0.00001096  \n",
      "Epoch: [2][1600/1709] Elapsed 18m 31s (remain 1m 15s) Loss: 0.4453(0.5216) Grad: 19459.8828  LR: 0.00001050  \n",
      "Epoch: [2][1700/1709] Elapsed 19m 41s (remain 0m 5s) Loss: 0.5623(0.5212) Grad: 13096.6895  LR: 0.00001004  \n",
      "Epoch: [2][1708/1709] Elapsed 19m 46s (remain 0m 0s) Loss: 0.3977(0.5211) Grad: 12607.4463  LR: 0.00001000  \n",
      "EVAL: [0/570] Elapsed 0m 0s (remain 4m 48s) Loss: 0.6017(0.6017) \n",
      "EVAL: [100/570] Elapsed 0m 22s (remain 1m 45s) Loss: 0.6828(0.5531) \n",
      "EVAL: [200/570] Elapsed 0m 44s (remain 1m 22s) Loss: 0.4574(0.5449) \n",
      "EVAL: [300/570] Elapsed 1m 7s (remain 1m 0s) Loss: 0.5825(0.5411) \n",
      "EVAL: [400/570] Elapsed 1m 29s (remain 0m 37s) Loss: 0.4399(0.5418) \n",
      "EVAL: [500/570] Elapsed 1m 51s (remain 0m 15s) Loss: 0.5291(0.5425) \n"
     ]
    },
    {
     "name": "stderr",
     "output_type": "stream",
     "text": [
      "Epoch 2 - avg_train_loss: 0.5211  avg_val_loss: 0.5433  time: 1314s\n",
      "Epoch 2 - Score: 0.8410\n",
      "Epoch 2 - Save Best Score: 0.8410 Model\n"
     ]
    },
    {
     "name": "stdout",
     "output_type": "stream",
     "text": [
      "EVAL: [569/570] Elapsed 2m 6s (remain 0m 0s) Loss: 0.4601(0.5433) \n",
      "Epoch: [3][0/1709] Elapsed 0m 0s (remain 26m 45s) Loss: 0.4930(0.4930) Grad: 52294.2852  LR: 0.00001000  \n",
      "Epoch: [3][100/1709] Elapsed 1m 10s (remain 18m 39s) Loss: 0.4868(0.5083) Grad: 33453.1445  LR: 0.00000954  \n",
      "Epoch: [3][200/1709] Elapsed 2m 19s (remain 17m 28s) Loss: 0.5745(0.5009) Grad: 27640.0859  LR: 0.00000908  \n",
      "Epoch: [3][300/1709] Elapsed 3m 29s (remain 16m 18s) Loss: 0.5938(0.5043) Grad: 28488.3750  LR: 0.00000863  \n",
      "Epoch: [3][400/1709] Elapsed 4m 38s (remain 15m 8s) Loss: 0.4975(0.5069) Grad: 53649.8242  LR: 0.00000817  \n",
      "Epoch: [3][500/1709] Elapsed 5m 48s (remain 13m 59s) Loss: 0.5487(0.5088) Grad: 43626.7383  LR: 0.00000772  \n",
      "Epoch: [3][600/1709] Elapsed 6m 57s (remain 12m 49s) Loss: 0.4582(0.5079) Grad: 23857.0000  LR: 0.00000728  \n",
      "Epoch: [3][700/1709] Elapsed 8m 7s (remain 11m 40s) Loss: 0.5828(0.5074) Grad: 17678.7285  LR: 0.00000684  \n",
      "Epoch: [3][800/1709] Elapsed 9m 16s (remain 10m 30s) Loss: 0.5249(0.5076) Grad: 74076.4531  LR: 0.00000641  \n",
      "Epoch: [3][900/1709] Elapsed 10m 25s (remain 9m 21s) Loss: 0.4942(0.5069) Grad: 58636.6406  LR: 0.00000598  \n",
      "Epoch: [3][1000/1709] Elapsed 11m 35s (remain 8m 11s) Loss: 0.5557(0.5076) Grad: 27513.3887  LR: 0.00000557  \n",
      "Epoch: [3][1100/1709] Elapsed 12m 44s (remain 7m 2s) Loss: 0.5915(0.5077) Grad: 51584.4531  LR: 0.00000516  \n",
      "Epoch: [3][1200/1709] Elapsed 13m 54s (remain 5m 52s) Loss: 0.4688(0.5069) Grad: 9511.5830  LR: 0.00000476  \n",
      "Epoch: [3][1300/1709] Elapsed 15m 3s (remain 4m 43s) Loss: 0.5547(0.5072) Grad: 34750.1445  LR: 0.00000438  \n",
      "Epoch: [3][1400/1709] Elapsed 16m 12s (remain 3m 33s) Loss: 0.6189(0.5063) Grad: 33747.1562  LR: 0.00000400  \n",
      "Epoch: [3][1500/1709] Elapsed 17m 22s (remain 2m 24s) Loss: 0.5722(0.5066) Grad: 9213.0645  LR: 0.00000364  \n",
      "Epoch: [3][1600/1709] Elapsed 18m 31s (remain 1m 14s) Loss: 0.3598(0.5058) Grad: 12436.2539  LR: 0.00000329  \n",
      "Epoch: [3][1700/1709] Elapsed 19m 41s (remain 0m 5s) Loss: 0.5251(0.5062) Grad: 29820.6777  LR: 0.00000296  \n",
      "Epoch: [3][1708/1709] Elapsed 19m 46s (remain 0m 0s) Loss: 0.5034(0.5063) Grad: 37308.9062  LR: 0.00000293  \n",
      "EVAL: [0/570] Elapsed 0m 0s (remain 3m 53s) Loss: 0.5978(0.5978) \n",
      "EVAL: [100/570] Elapsed 0m 22s (remain 1m 45s) Loss: 0.6877(0.5590) \n",
      "EVAL: [200/570] Elapsed 0m 44s (remain 1m 22s) Loss: 0.4551(0.5484) \n",
      "EVAL: [300/570] Elapsed 1m 7s (remain 0m 59s) Loss: 0.6228(0.5441) \n",
      "EVAL: [400/570] Elapsed 1m 29s (remain 0m 37s) Loss: 0.4357(0.5461) \n",
      "EVAL: [500/570] Elapsed 1m 51s (remain 0m 15s) Loss: 0.6023(0.5470) \n"
     ]
    },
    {
     "name": "stderr",
     "output_type": "stream",
     "text": [
      "Epoch 3 - avg_train_loss: 0.5063  avg_val_loss: 0.5487  time: 1314s\n",
      "Epoch 3 - Score: 0.8478\n",
      "Epoch 3 - Save Best Score: 0.8478 Model\n"
     ]
    },
    {
     "name": "stdout",
     "output_type": "stream",
     "text": [
      "EVAL: [569/570] Elapsed 2m 6s (remain 0m 0s) Loss: 0.4374(0.5487) \n",
      "Epoch: [4][0/1709] Elapsed 0m 0s (remain 26m 44s) Loss: 0.4695(0.4695) Grad: 35369.2109  LR: 0.00000293  \n",
      "Epoch: [4][100/1709] Elapsed 1m 10s (remain 18m 41s) Loss: 0.6161(0.4953) Grad: 99476.6641  LR: 0.00000261  \n",
      "Epoch: [4][200/1709] Elapsed 2m 20s (remain 17m 30s) Loss: 0.4508(0.4969) Grad: 24668.9023  LR: 0.00000231  \n",
      "Epoch: [4][300/1709] Elapsed 3m 29s (remain 16m 20s) Loss: 0.4851(0.4959) Grad: 128472.8594  LR: 0.00000203  \n",
      "Epoch: [4][400/1709] Elapsed 4m 39s (remain 15m 10s) Loss: 0.4930(0.4957) Grad: 27955.6113  LR: 0.00000176  \n",
      "Epoch: [4][500/1709] Elapsed 5m 48s (remain 14m 0s) Loss: 0.4972(0.4969) Grad: 21388.9004  LR: 0.00000151  \n",
      "Epoch: [4][600/1709] Elapsed 6m 58s (remain 12m 50s) Loss: 0.4629(0.4976) Grad: 42234.5000  LR: 0.00000127  \n",
      "Epoch: [4][700/1709] Elapsed 8m 7s (remain 11m 41s) Loss: 0.3961(0.4995) Grad: 50127.9727  LR: 0.00000106  \n",
      "Epoch: [4][800/1709] Elapsed 9m 17s (remain 10m 31s) Loss: 0.5612(0.4999) Grad: 21220.8223  LR: 0.00000086  \n",
      "Epoch: [4][900/1709] Elapsed 10m 26s (remain 9m 21s) Loss: 0.5052(0.4988) Grad: 40216.5898  LR: 0.00000068  \n",
      "Epoch: [4][1000/1709] Elapsed 11m 35s (remain 8m 12s) Loss: 0.5263(0.4991) Grad: 36291.6328  LR: 0.00000053  \n",
      "Epoch: [4][1100/1709] Elapsed 12m 45s (remain 7m 2s) Loss: 0.5016(0.4995) Grad: 35089.6016  LR: 0.00000039  \n",
      "Epoch: [4][1200/1709] Elapsed 13m 54s (remain 5m 53s) Loss: 0.5027(0.4991) Grad: 25117.8223  LR: 0.00000027  \n",
      "Epoch: [4][1300/1709] Elapsed 15m 4s (remain 4m 43s) Loss: 0.4770(0.4994) Grad: 22466.6406  LR: 0.00000018  \n",
      "Epoch: [4][1400/1709] Elapsed 16m 13s (remain 3m 34s) Loss: 0.4967(0.4988) Grad: 86305.6328  LR: 0.00000010  \n",
      "Epoch: [4][1500/1709] Elapsed 17m 23s (remain 2m 24s) Loss: 0.5689(0.4981) Grad: 23398.1172  LR: 0.00000005  \n",
      "Epoch: [4][1600/1709] Elapsed 18m 32s (remain 1m 15s) Loss: 0.4389(0.4988) Grad: 21408.8828  LR: 0.00000001  \n",
      "Epoch: [4][1700/1709] Elapsed 19m 41s (remain 0m 5s) Loss: 0.5054(0.4989) Grad: 27985.1582  LR: 0.00000000  \n",
      "Epoch: [4][1708/1709] Elapsed 19m 47s (remain 0m 0s) Loss: 0.5635(0.4989) Grad: 60549.1719  LR: 0.00000000  \n",
      "EVAL: [0/570] Elapsed 0m 0s (remain 4m 7s) Loss: 0.5983(0.5983) \n",
      "EVAL: [100/570] Elapsed 0m 22s (remain 1m 45s) Loss: 0.6864(0.5609) \n",
      "EVAL: [200/570] Elapsed 0m 44s (remain 1m 22s) Loss: 0.4552(0.5502) \n",
      "EVAL: [300/570] Elapsed 1m 7s (remain 0m 59s) Loss: 0.6270(0.5452) \n",
      "EVAL: [400/570] Elapsed 1m 29s (remain 0m 37s) Loss: 0.4384(0.5466) \n",
      "EVAL: [500/570] Elapsed 1m 51s (remain 0m 15s) Loss: 0.6112(0.5478) \n"
     ]
    },
    {
     "name": "stderr",
     "output_type": "stream",
     "text": [
      "Epoch 4 - avg_train_loss: 0.4989  avg_val_loss: 0.5497  time: 1314s\n",
      "Epoch 4 - Score: 0.8472\n"
     ]
    },
    {
     "name": "stdout",
     "output_type": "stream",
     "text": [
      "EVAL: [569/570] Elapsed 2m 6s (remain 0m 0s) Loss: 0.4458(0.5497) \n"
     ]
    },
    {
     "name": "stderr",
     "output_type": "stream",
     "text": [
      "========== fold: 3 result ==========\n",
      "Score: 0.8478\n",
      "========== CV ==========\n",
      "Score: 0.8523\n"
     ]
    },
    {
     "name": "stdout",
     "output_type": "stream",
     "text": [
      "\n"
     ]
    },
    {
     "data": {
      "text/html": [
       "Waiting for W&B process to finish... <strong style=\"color:green\">(success).</strong>"
      ],
      "text/plain": [
       "<IPython.core.display.HTML object>"
      ]
     },
     "metadata": {},
     "output_type": "display_data"
    },
    {
     "data": {
      "application/vnd.jupyter.widget-view+json": {
       "model_id": "f3de395fc5b94a4d93a9bf03fca198ba",
       "version_major": 2,
       "version_minor": 0
      },
      "text/plain": [
       "VBox(children=(Label(value='0.001 MB of 0.001 MB uploaded (0.000 MB deduped)\\r'), FloatProgress(value=1.0, max…"
      ]
     },
     "metadata": {},
     "output_type": "display_data"
    },
    {
     "data": {
      "text/html": [
       "<style>\n",
       "    table.wandb td:nth-child(1) { padding: 0 10px; text-align: right }\n",
       "    .wandb-row { display: flex; flex-direction: row; flex-wrap: wrap; width: 100% }\n",
       "    .wandb-col { display: flex; flex-direction: column; flex-basis: 100%; flex: 1; padding: 10px; }\n",
       "    </style>\n",
       "<div class=\"wandb-row\"><div class=\"wandb-col\"><h3>Run history:</h3><br/><table class=\"wandb\"><tr><td>[fold0] avg_train_loss</td><td>█▃▂▁</td></tr><tr><td>[fold0] avg_val_loss</td><td>▇▁▇█</td></tr><tr><td>[fold0] epoch</td><td>▁▃▆█</td></tr><tr><td>[fold0] loss</td><td>█▇▄▄▅▃▄▄▄▆▃▄▅▄▃▃▅▂▅▂▆▂▅▃▃▅▃▅▄▂▄▃▄▂▃▁▃▄▅▃</td></tr><tr><td>[fold0] lr</td><td>███████▇▇▇▇▇▆▆▆▆▅▅▅▅▄▄▄▄▃▃▃▃▂▂▂▂▂▁▁▁▁▁▁▁</td></tr><tr><td>[fold0] score</td><td>▁▆██</td></tr><tr><td>[fold1] avg_train_loss</td><td>█▃▂▁</td></tr><tr><td>[fold1] avg_val_loss</td><td>▇▁▅█</td></tr><tr><td>[fold1] epoch</td><td>▁▃▆█</td></tr><tr><td>[fold1] loss</td><td>▆█▄▇▆▆▅▅▅▆▃▃▆▄▃▄▅▃▄▁▄▃▃▆▄▄▄▄▅▄▃▄▄▃▅▃▂▄▄▁</td></tr><tr><td>[fold1] lr</td><td>███████▇▇▇▇▇▆▆▆▆▅▅▅▅▄▄▄▄▃▃▃▃▂▂▂▂▂▁▁▁▁▁▁▁</td></tr><tr><td>[fold1] score</td><td>▁▇██</td></tr><tr><td>[fold2] avg_train_loss</td><td>█▃▂▁</td></tr><tr><td>[fold2] avg_val_loss</td><td>▂▁▆█</td></tr><tr><td>[fold2] epoch</td><td>▁▃▆█</td></tr><tr><td>[fold2] loss</td><td>▆▅▇█▄▆▅▆▄▅▄▄▂▆▄▆▄▅▄▃▅▄▆▄▆▅▂▄▁▄▂▂▄▄▃▃▆▆▃▄</td></tr><tr><td>[fold2] lr</td><td>███████▇▇▇▇▇▆▆▆▆▅▅▅▅▄▄▄▄▃▃▃▃▂▂▂▂▂▁▁▁▁▁▁▁</td></tr><tr><td>[fold2] score</td><td>▁▆▇█</td></tr><tr><td>[fold3] avg_train_loss</td><td>█▃▂▁</td></tr><tr><td>[fold3] avg_val_loss</td><td>▁▃▇█</td></tr><tr><td>[fold3] epoch</td><td>▁▃▆█</td></tr><tr><td>[fold3] loss</td><td>▆██▄▄▃▆▅▁▆▆▄▆▂▃▅▆▄▂▃▃▁▄▂▆▅▂▄▂▅▄▁▅▁▃▃▅▂▅▅</td></tr><tr><td>[fold3] lr</td><td>███████▇▇▇▇▇▆▆▆▆▅▅▅▅▄▄▄▄▃▃▃▃▂▂▂▂▂▁▁▁▁▁▁▁</td></tr><tr><td>[fold3] score</td><td>▁▆██</td></tr></table><br/></div><div class=\"wandb-col\"><h3>Run summary:</h3><br/><table class=\"wandb\"><tr><td>[fold0] avg_train_loss</td><td>0.49587</td></tr><tr><td>[fold0] avg_val_loss</td><td>0.5434</td></tr><tr><td>[fold0] epoch</td><td>4</td></tr><tr><td>[fold0] loss</td><td>0.55428</td></tr><tr><td>[fold0] lr</td><td>0.0</td></tr><tr><td>[fold0] score</td><td>0.85669</td></tr><tr><td>[fold1] avg_train_loss</td><td>0.49452</td></tr><tr><td>[fold1] avg_val_loss</td><td>0.54884</td></tr><tr><td>[fold1] epoch</td><td>4</td></tr><tr><td>[fold1] loss</td><td>0.5695</td></tr><tr><td>[fold1] lr</td><td>0.0</td></tr><tr><td>[fold1] score</td><td>0.85737</td></tr><tr><td>[fold2] avg_train_loss</td><td>0.50225</td></tr><tr><td>[fold2] avg_val_loss</td><td>0.54901</td></tr><tr><td>[fold2] epoch</td><td>4</td></tr><tr><td>[fold2] loss</td><td>0.61882</td></tr><tr><td>[fold2] lr</td><td>0.0</td></tr><tr><td>[fold2] score</td><td>0.84936</td></tr><tr><td>[fold3] avg_train_loss</td><td>0.49892</td></tr><tr><td>[fold3] avg_val_loss</td><td>0.54974</td></tr><tr><td>[fold3] epoch</td><td>4</td></tr><tr><td>[fold3] loss</td><td>0.56347</td></tr><tr><td>[fold3] lr</td><td>0.0</td></tr><tr><td>[fold3] score</td><td>0.84724</td></tr></table><br/></div></div>"
      ],
      "text/plain": [
       "<IPython.core.display.HTML object>"
      ]
     },
     "metadata": {},
     "output_type": "display_data"
    },
    {
     "data": {
      "text/html": [
       "Synced <strong style=\"color:#cdcd00\">anferico/bert-for-patents</strong>: <a href=\"https://wandb.ai/anony-mouse-273715/PPPM-Public/runs/1ub44xla?apiKey=d427618acf721bf56ff24565b07c2b91c3607c11\" target=\"_blank\">https://wandb.ai/anony-mouse-273715/PPPM-Public/runs/1ub44xla?apiKey=d427618acf721bf56ff24565b07c2b91c3607c11</a><br/>Synced 5 W&B file(s), 0 media file(s), 0 artifact file(s) and 0 other file(s)"
      ],
      "text/plain": [
       "<IPython.core.display.HTML object>"
      ]
     },
     "metadata": {},
     "output_type": "display_data"
    },
    {
     "data": {
      "text/html": [
       "Find logs at: <code>./wandb/run-20220602_055454-1ub44xla/logs</code>"
      ],
      "text/plain": [
       "<IPython.core.display.HTML object>"
      ]
     },
     "metadata": {},
     "output_type": "display_data"
    }
   ],
   "source": [
    "if __name__ == '__main__':\n",
    "    \n",
    "    def get_result(oof_df):\n",
    "        labels = oof_df['score'].values\n",
    "        preds = oof_df['pred'].values\n",
    "        score = get_score(labels, preds)\n",
    "        LOGGER.info(f'Score: {score:<.4f}')\n",
    "    \n",
    "    if CFG.train:\n",
    "        oof_df = pd.DataFrame()\n",
    "        for fold in range(CFG.n_fold):\n",
    "            if fold in CFG.trn_fold:\n",
    "                _oof_df = train_loop(train, fold)\n",
    "                oof_df = pd.concat([oof_df, _oof_df])\n",
    "                LOGGER.info(f\"========== fold: {fold} result ==========\")\n",
    "                get_result(_oof_df)\n",
    "        oof_df = oof_df.reset_index(drop=True)\n",
    "        LOGGER.info(f\"========== CV ==========\")\n",
    "        get_result(oof_df)\n",
    "        oof_df.to_pickle(OUTPUT_DIR+'oof_df.pkl')\n",
    "        \n",
    "    if CFG.wandb:\n",
    "        wandb.finish()"
   ]
  },
  {
   "cell_type": "code",
   "execution_count": null,
   "id": "2118d37b",
   "metadata": {
    "papermill": {
     "duration": 0.223273,
     "end_time": "2022-06-02T11:49:46.646318",
     "exception": false,
     "start_time": "2022-06-02T11:49:46.423045",
     "status": "completed"
    },
    "tags": []
   },
   "outputs": [],
   "source": []
  }
 ],
 "metadata": {
  "kernelspec": {
   "display_name": "Python 3.8.12 ('d2l-zh')",
   "language": "python",
   "name": "python3"
  },
  "language_info": {
   "codemirror_mode": {
    "name": "ipython",
    "version": 3
   },
   "file_extension": ".py",
   "mimetype": "text/x-python",
   "name": "python",
   "nbconvert_exporter": "python",
   "pygments_lexer": "ipython3",
   "version": "3.8.12"
  },
  "papermill": {
   "default_parameters": {},
   "duration": 21308.31669,
   "end_time": "2022-06-02T11:49:50.032726",
   "environment_variables": {},
   "exception": null,
   "input_path": "__notebook__.ipynb",
   "output_path": "__notebook__.ipynb",
   "parameters": {},
   "start_time": "2022-06-02T05:54:41.716036",
   "version": "2.3.3"
  },
  "vscode": {
   "interpreter": {
    "hash": "0bc161a7939066ea5450501f53a4b66adf56a835590054c2dc44c35f249b2bed"
   }
  },
  "widgets": {
   "application/vnd.jupyter.widget-state+json": {
    "state": {
     "0060d7ed32c841168387da7a75188b80": {
      "model_module": "@jupyter-widgets/controls",
      "model_module_version": "1.5.0",
      "model_name": "HTMLModel",
      "state": {
       "_dom_classes": [],
       "_model_module": "@jupyter-widgets/controls",
       "_model_module_version": "1.5.0",
       "_model_name": "HTMLModel",
       "_view_count": null,
       "_view_module": "@jupyter-widgets/controls",
       "_view_module_version": "1.5.0",
       "_view_name": "HTMLView",
       "description": "",
       "description_tooltip": null,
       "layout": "IPY_MODEL_d8373d7eb38044a4a13e46be5c4cafbd",
       "placeholder": "​",
       "style": "IPY_MODEL_c34d4a60bceb475aafd01b537bc9fee5",
       "value": "Downloading: 100%"
      }
     },
     "01a233c44b8546d19b2ae5169956c6fc": {
      "model_module": "@jupyter-widgets/controls",
      "model_module_version": "1.5.0",
      "model_name": "DescriptionStyleModel",
      "state": {
       "_model_module": "@jupyter-widgets/controls",
       "_model_module_version": "1.5.0",
       "_model_name": "DescriptionStyleModel",
       "_view_count": null,
       "_view_module": "@jupyter-widgets/base",
       "_view_module_version": "1.2.0",
       "_view_name": "StyleView",
       "description_width": ""
      }
     },
     "022cf872c70542a784599ac5c68b89fc": {
      "model_module": "@jupyter-widgets/base",
      "model_module_version": "1.2.0",
      "model_name": "LayoutModel",
      "state": {
       "_model_module": "@jupyter-widgets/base",
       "_model_module_version": "1.2.0",
       "_model_name": "LayoutModel",
       "_view_count": null,
       "_view_module": "@jupyter-widgets/base",
       "_view_module_version": "1.2.0",
       "_view_name": "LayoutView",
       "align_content": null,
       "align_items": null,
       "align_self": null,
       "border": null,
       "bottom": null,
       "display": null,
       "flex": null,
       "flex_flow": null,
       "grid_area": null,
       "grid_auto_columns": null,
       "grid_auto_flow": null,
       "grid_auto_rows": null,
       "grid_column": null,
       "grid_gap": null,
       "grid_row": null,
       "grid_template_areas": null,
       "grid_template_columns": null,
       "grid_template_rows": null,
       "height": null,
       "justify_content": null,
       "justify_items": null,
       "left": null,
       "margin": null,
       "max_height": null,
       "max_width": null,
       "min_height": null,
       "min_width": null,
       "object_fit": null,
       "object_position": null,
       "order": null,
       "overflow": null,
       "overflow_x": null,
       "overflow_y": null,
       "padding": null,
       "right": null,
       "top": null,
       "visibility": null,
       "width": null
      }
     },
     "040febd098e2497c8b7eefc5ec0fe702": {
      "model_module": "@jupyter-widgets/base",
      "model_module_version": "1.2.0",
      "model_name": "LayoutModel",
      "state": {
       "_model_module": "@jupyter-widgets/base",
       "_model_module_version": "1.2.0",
       "_model_name": "LayoutModel",
       "_view_count": null,
       "_view_module": "@jupyter-widgets/base",
       "_view_module_version": "1.2.0",
       "_view_name": "LayoutView",
       "align_content": null,
       "align_items": null,
       "align_self": null,
       "border": null,
       "bottom": null,
       "display": null,
       "flex": null,
       "flex_flow": null,
       "grid_area": null,
       "grid_auto_columns": null,
       "grid_auto_flow": null,
       "grid_auto_rows": null,
       "grid_column": null,
       "grid_gap": null,
       "grid_row": null,
       "grid_template_areas": null,
       "grid_template_columns": null,
       "grid_template_rows": null,
       "height": null,
       "justify_content": null,
       "justify_items": null,
       "left": null,
       "margin": null,
       "max_height": null,
       "max_width": null,
       "min_height": null,
       "min_width": null,
       "object_fit": null,
       "object_position": null,
       "order": null,
       "overflow": null,
       "overflow_x": null,
       "overflow_y": null,
       "padding": null,
       "right": null,
       "top": null,
       "visibility": null,
       "width": null
      }
     },
     "09b3500fdee64428b3d39b372f361a7d": {
      "model_module": "@jupyter-widgets/controls",
      "model_module_version": "1.5.0",
      "model_name": "HTMLModel",
      "state": {
       "_dom_classes": [],
       "_model_module": "@jupyter-widgets/controls",
       "_model_module_version": "1.5.0",
       "_model_name": "HTMLModel",
       "_view_count": null,
       "_view_module": "@jupyter-widgets/controls",
       "_view_module_version": "1.5.0",
       "_view_name": "HTMLView",
       "description": "",
       "description_tooltip": null,
       "layout": "IPY_MODEL_973f921989b94ebe8bbd052c30357e11",
       "placeholder": "​",
       "style": "IPY_MODEL_3b11991b08f6409183b517f0a83578ed",
       "value": "100%"
      }
     },
     "11c9a2d7e4884426814b2cf2c70a044c": {
      "model_module": "@jupyter-widgets/base",
      "model_module_version": "1.2.0",
      "model_name": "LayoutModel",
      "state": {
       "_model_module": "@jupyter-widgets/base",
       "_model_module_version": "1.2.0",
       "_model_name": "LayoutModel",
       "_view_count": null,
       "_view_module": "@jupyter-widgets/base",
       "_view_module_version": "1.2.0",
       "_view_name": "LayoutView",
       "align_content": null,
       "align_items": null,
       "align_self": null,
       "border": null,
       "bottom": null,
       "display": null,
       "flex": null,
       "flex_flow": null,
       "grid_area": null,
       "grid_auto_columns": null,
       "grid_auto_flow": null,
       "grid_auto_rows": null,
       "grid_column": null,
       "grid_gap": null,
       "grid_row": null,
       "grid_template_areas": null,
       "grid_template_columns": null,
       "grid_template_rows": null,
       "height": null,
       "justify_content": null,
       "justify_items": null,
       "left": null,
       "margin": null,
       "max_height": null,
       "max_width": null,
       "min_height": null,
       "min_width": null,
       "object_fit": null,
       "object_position": null,
       "order": null,
       "overflow": null,
       "overflow_x": null,
       "overflow_y": null,
       "padding": null,
       "right": null,
       "top": null,
       "visibility": null,
       "width": null
      }
     },
     "12f039b07fb34552b94c3c8b41934ffa": {
      "model_module": "@jupyter-widgets/controls",
      "model_module_version": "1.5.0",
      "model_name": "HBoxModel",
      "state": {
       "_dom_classes": [],
       "_model_module": "@jupyter-widgets/controls",
       "_model_module_version": "1.5.0",
       "_model_name": "HBoxModel",
       "_view_count": null,
       "_view_module": "@jupyter-widgets/controls",
       "_view_module_version": "1.5.0",
       "_view_name": "HBoxView",
       "box_style": "",
       "children": [
        "IPY_MODEL_a02a024375224eb3863af8f6319ad4d5",
        "IPY_MODEL_4b3bb1fe28574ab3ae1c64a2a73d98d4",
        "IPY_MODEL_a7a67d2aa17848c2b96c55da7f3fbd83"
       ],
       "layout": "IPY_MODEL_6bd92ab326ce4e08b1f5a9968c8ebfcc"
      }
     },
     "218d71a22d2748879e42bb1c01b5fbf0": {
      "model_module": "@jupyter-widgets/base",
      "model_module_version": "1.2.0",
      "model_name": "LayoutModel",
      "state": {
       "_model_module": "@jupyter-widgets/base",
       "_model_module_version": "1.2.0",
       "_model_name": "LayoutModel",
       "_view_count": null,
       "_view_module": "@jupyter-widgets/base",
       "_view_module_version": "1.2.0",
       "_view_name": "LayoutView",
       "align_content": null,
       "align_items": null,
       "align_self": null,
       "border": null,
       "bottom": null,
       "display": null,
       "flex": null,
       "flex_flow": null,
       "grid_area": null,
       "grid_auto_columns": null,
       "grid_auto_flow": null,
       "grid_auto_rows": null,
       "grid_column": null,
       "grid_gap": null,
       "grid_row": null,
       "grid_template_areas": null,
       "grid_template_columns": null,
       "grid_template_rows": null,
       "height": null,
       "justify_content": null,
       "justify_items": null,
       "left": null,
       "margin": null,
       "max_height": null,
       "max_width": null,
       "min_height": null,
       "min_width": null,
       "object_fit": null,
       "object_position": null,
       "order": null,
       "overflow": null,
       "overflow_x": null,
       "overflow_y": null,
       "padding": null,
       "right": null,
       "top": null,
       "visibility": null,
       "width": null
      }
     },
     "23ff4210231c4928affad1c036f74f35": {
      "model_module": "@jupyter-widgets/base",
      "model_module_version": "1.2.0",
      "model_name": "LayoutModel",
      "state": {
       "_model_module": "@jupyter-widgets/base",
       "_model_module_version": "1.2.0",
       "_model_name": "LayoutModel",
       "_view_count": null,
       "_view_module": "@jupyter-widgets/base",
       "_view_module_version": "1.2.0",
       "_view_name": "LayoutView",
       "align_content": null,
       "align_items": null,
       "align_self": null,
       "border": null,
       "bottom": null,
       "display": null,
       "flex": null,
       "flex_flow": null,
       "grid_area": null,
       "grid_auto_columns": null,
       "grid_auto_flow": null,
       "grid_auto_rows": null,
       "grid_column": null,
       "grid_gap": null,
       "grid_row": null,
       "grid_template_areas": null,
       "grid_template_columns": null,
       "grid_template_rows": null,
       "height": null,
       "justify_content": null,
       "justify_items": null,
       "left": null,
       "margin": null,
       "max_height": null,
       "max_width": null,
       "min_height": null,
       "min_width": null,
       "object_fit": null,
       "object_position": null,
       "order": null,
       "overflow": null,
       "overflow_x": null,
       "overflow_y": null,
       "padding": null,
       "right": null,
       "top": null,
       "visibility": null,
       "width": null
      }
     },
     "2461abe8bf8c4395a3f57aaff8777e35": {
      "model_module": "@jupyter-widgets/controls",
      "model_module_version": "1.5.0",
      "model_name": "FloatProgressModel",
      "state": {
       "_dom_classes": [],
       "_model_module": "@jupyter-widgets/controls",
       "_model_module_version": "1.5.0",
       "_model_name": "FloatProgressModel",
       "_view_count": null,
       "_view_module": "@jupyter-widgets/controls",
       "_view_module_version": "1.5.0",
       "_view_name": "ProgressView",
       "bar_style": "success",
       "description": "",
       "description_tooltip": null,
       "layout": "IPY_MODEL_e996e090235a4805a664acc1f7e71764",
       "max": 327,
       "min": 0,
       "orientation": "horizontal",
       "style": "IPY_MODEL_deefcaf427fc40c0a606af9d76f1b6a9",
       "value": 327
      }
     },
     "26c3aaf2bdae454ebeadb8c6c363966e": {
      "model_module": "@jupyter-widgets/base",
      "model_module_version": "1.2.0",
      "model_name": "LayoutModel",
      "state": {
       "_model_module": "@jupyter-widgets/base",
       "_model_module_version": "1.2.0",
       "_model_name": "LayoutModel",
       "_view_count": null,
       "_view_module": "@jupyter-widgets/base",
       "_view_module_version": "1.2.0",
       "_view_name": "LayoutView",
       "align_content": null,
       "align_items": null,
       "align_self": null,
       "border": null,
       "bottom": null,
       "display": null,
       "flex": null,
       "flex_flow": null,
       "grid_area": null,
       "grid_auto_columns": null,
       "grid_auto_flow": null,
       "grid_auto_rows": null,
       "grid_column": null,
       "grid_gap": null,
       "grid_row": null,
       "grid_template_areas": null,
       "grid_template_columns": null,
       "grid_template_rows": null,
       "height": null,
       "justify_content": null,
       "justify_items": null,
       "left": null,
       "margin": null,
       "max_height": null,
       "max_width": null,
       "min_height": null,
       "min_width": null,
       "object_fit": null,
       "object_position": null,
       "order": null,
       "overflow": null,
       "overflow_x": null,
       "overflow_y": null,
       "padding": null,
       "right": null,
       "top": null,
       "visibility": null,
       "width": null
      }
     },
     "2a3c821952df42b184ebfebf4145d56b": {
      "model_module": "@jupyter-widgets/base",
      "model_module_version": "1.2.0",
      "model_name": "LayoutModel",
      "state": {
       "_model_module": "@jupyter-widgets/base",
       "_model_module_version": "1.2.0",
       "_model_name": "LayoutModel",
       "_view_count": null,
       "_view_module": "@jupyter-widgets/base",
       "_view_module_version": "1.2.0",
       "_view_name": "LayoutView",
       "align_content": null,
       "align_items": null,
       "align_self": null,
       "border": null,
       "bottom": null,
       "display": null,
       "flex": null,
       "flex_flow": null,
       "grid_area": null,
       "grid_auto_columns": null,
       "grid_auto_flow": null,
       "grid_auto_rows": null,
       "grid_column": null,
       "grid_gap": null,
       "grid_row": null,
       "grid_template_areas": null,
       "grid_template_columns": null,
       "grid_template_rows": null,
       "height": null,
       "justify_content": null,
       "justify_items": null,
       "left": null,
       "margin": null,
       "max_height": null,
       "max_width": null,
       "min_height": null,
       "min_width": null,
       "object_fit": null,
       "object_position": null,
       "order": null,
       "overflow": null,
       "overflow_x": null,
       "overflow_y": null,
       "padding": null,
       "right": null,
       "top": null,
       "visibility": null,
       "width": null
      }
     },
     "2be3788a25c34e62967d5521b6407a93": {
      "model_module": "@jupyter-widgets/controls",
      "model_module_version": "1.5.0",
      "model_name": "FloatProgressModel",
      "state": {
       "_dom_classes": [],
       "_model_module": "@jupyter-widgets/controls",
       "_model_module_version": "1.5.0",
       "_model_name": "FloatProgressModel",
       "_view_count": null,
       "_view_module": "@jupyter-widgets/controls",
       "_view_module_version": "1.5.0",
       "_view_name": "ProgressView",
       "bar_style": "success",
       "description": "",
       "description_tooltip": null,
       "layout": "IPY_MODEL_6d190afb3a4441b88cafe2c1c167ca5c",
       "max": 329241,
       "min": 0,
       "orientation": "horizontal",
       "style": "IPY_MODEL_39b9eebfaf634a13922868d3f684f4e3",
       "value": 329241
      }
     },
     "359b2d8da582404f87fa4302def3861c": {
      "model_module": "@jupyter-widgets/controls",
      "model_module_version": "1.5.0",
      "model_name": "HTMLModel",
      "state": {
       "_dom_classes": [],
       "_model_module": "@jupyter-widgets/controls",
       "_model_module_version": "1.5.0",
       "_model_name": "HTMLModel",
       "_view_count": null,
       "_view_module": "@jupyter-widgets/controls",
       "_view_module_version": "1.5.0",
       "_view_name": "HTMLView",
       "description": "",
       "description_tooltip": null,
       "layout": "IPY_MODEL_b8ef5bdaf4ca477d9895b1e96cb720e5",
       "placeholder": "​",
       "style": "IPY_MODEL_01a233c44b8546d19b2ae5169956c6fc",
       "value": " 327/327 [00:00&lt;00:00, 11.4kB/s]"
      }
     },
     "39b9eebfaf634a13922868d3f684f4e3": {
      "model_module": "@jupyter-widgets/controls",
      "model_module_version": "1.5.0",
      "model_name": "ProgressStyleModel",
      "state": {
       "_model_module": "@jupyter-widgets/controls",
       "_model_module_version": "1.5.0",
       "_model_name": "ProgressStyleModel",
       "_view_count": null,
       "_view_module": "@jupyter-widgets/base",
       "_view_module_version": "1.2.0",
       "_view_name": "StyleView",
       "bar_color": null,
       "description_width": ""
      }
     },
     "3b11991b08f6409183b517f0a83578ed": {
      "model_module": "@jupyter-widgets/controls",
      "model_module_version": "1.5.0",
      "model_name": "DescriptionStyleModel",
      "state": {
       "_model_module": "@jupyter-widgets/controls",
       "_model_module_version": "1.5.0",
       "_model_name": "DescriptionStyleModel",
       "_view_count": null,
       "_view_module": "@jupyter-widgets/base",
       "_view_module_version": "1.2.0",
       "_view_name": "StyleView",
       "description_width": ""
      }
     },
     "3eb3f2e0e79a4bd09e64fba17bb40076": {
      "model_module": "@jupyter-widgets/controls",
      "model_module_version": "1.5.0",
      "model_name": "HTMLModel",
      "state": {
       "_dom_classes": [],
       "_model_module": "@jupyter-widgets/controls",
       "_model_module_version": "1.5.0",
       "_model_name": "HTMLModel",
       "_view_count": null,
       "_view_module": "@jupyter-widgets/controls",
       "_view_module_version": "1.5.0",
       "_view_name": "HTMLView",
       "description": "",
       "description_tooltip": null,
       "layout": "IPY_MODEL_11c9a2d7e4884426814b2cf2c70a044c",
       "placeholder": "​",
       "style": "IPY_MODEL_aaa5c5e2e73f421cbd7eec465ad571b8",
       "value": "Downloading: 100%"
      }
     },
     "3ff4cf57856645f2a51375b1542e21c7": {
      "model_module": "@jupyter-widgets/controls",
      "model_module_version": "1.5.0",
      "model_name": "ProgressStyleModel",
      "state": {
       "_model_module": "@jupyter-widgets/controls",
       "_model_module_version": "1.5.0",
       "_model_name": "ProgressStyleModel",
       "_view_count": null,
       "_view_module": "@jupyter-widgets/base",
       "_view_module_version": "1.2.0",
       "_view_name": "StyleView",
       "bar_color": null,
       "description_width": ""
      }
     },
     "41169ba5413749e0a0d792d1d12f250d": {
      "model_module": "@jupyter-widgets/controls",
      "model_module_version": "1.5.0",
      "model_name": "DescriptionStyleModel",
      "state": {
       "_model_module": "@jupyter-widgets/controls",
       "_model_module_version": "1.5.0",
       "_model_name": "DescriptionStyleModel",
       "_view_count": null,
       "_view_module": "@jupyter-widgets/base",
       "_view_module_version": "1.2.0",
       "_view_name": "StyleView",
       "description_width": ""
      }
     },
     "42745679294a4295b54e89c20d9e1240": {
      "model_module": "@jupyter-widgets/base",
      "model_module_version": "1.2.0",
      "model_name": "LayoutModel",
      "state": {
       "_model_module": "@jupyter-widgets/base",
       "_model_module_version": "1.2.0",
       "_model_name": "LayoutModel",
       "_view_count": null,
       "_view_module": "@jupyter-widgets/base",
       "_view_module_version": "1.2.0",
       "_view_name": "LayoutView",
       "align_content": null,
       "align_items": null,
       "align_self": null,
       "border": null,
       "bottom": null,
       "display": null,
       "flex": null,
       "flex_flow": null,
       "grid_area": null,
       "grid_auto_columns": null,
       "grid_auto_flow": null,
       "grid_auto_rows": null,
       "grid_column": null,
       "grid_gap": null,
       "grid_row": null,
       "grid_template_areas": null,
       "grid_template_columns": null,
       "grid_template_rows": null,
       "height": null,
       "justify_content": null,
       "justify_items": null,
       "left": null,
       "margin": null,
       "max_height": null,
       "max_width": null,
       "min_height": null,
       "min_width": null,
       "object_fit": null,
       "object_position": null,
       "order": null,
       "overflow": null,
       "overflow_x": null,
       "overflow_y": null,
       "padding": null,
       "right": null,
       "top": null,
       "visibility": null,
       "width": null
      }
     },
     "496d776a5a824d0a83f77579d4234bee": {
      "model_module": "@jupyter-widgets/controls",
      "model_module_version": "1.5.0",
      "model_name": "DescriptionStyleModel",
      "state": {
       "_model_module": "@jupyter-widgets/controls",
       "_model_module_version": "1.5.0",
       "_model_name": "DescriptionStyleModel",
       "_view_count": null,
       "_view_module": "@jupyter-widgets/base",
       "_view_module_version": "1.2.0",
       "_view_name": "StyleView",
       "description_width": ""
      }
     },
     "498a4d8cd36147e5aff01b671d5d6f4f": {
      "model_module": "@jupyter-widgets/base",
      "model_module_version": "1.2.0",
      "model_name": "LayoutModel",
      "state": {
       "_model_module": "@jupyter-widgets/base",
       "_model_module_version": "1.2.0",
       "_model_name": "LayoutModel",
       "_view_count": null,
       "_view_module": "@jupyter-widgets/base",
       "_view_module_version": "1.2.0",
       "_view_name": "LayoutView",
       "align_content": null,
       "align_items": null,
       "align_self": null,
       "border": null,
       "bottom": null,
       "display": null,
       "flex": null,
       "flex_flow": null,
       "grid_area": null,
       "grid_auto_columns": null,
       "grid_auto_flow": null,
       "grid_auto_rows": null,
       "grid_column": null,
       "grid_gap": null,
       "grid_row": null,
       "grid_template_areas": null,
       "grid_template_columns": null,
       "grid_template_rows": null,
       "height": null,
       "justify_content": null,
       "justify_items": null,
       "left": null,
       "margin": null,
       "max_height": null,
       "max_width": null,
       "min_height": null,
       "min_width": null,
       "object_fit": null,
       "object_position": null,
       "order": null,
       "overflow": null,
       "overflow_x": null,
       "overflow_y": null,
       "padding": null,
       "right": null,
       "top": null,
       "visibility": null,
       "width": null
      }
     },
     "4ade87658fc347fab1198ae0515f4e26": {
      "model_module": "@jupyter-widgets/base",
      "model_module_version": "1.2.0",
      "model_name": "LayoutModel",
      "state": {
       "_model_module": "@jupyter-widgets/base",
       "_model_module_version": "1.2.0",
       "_model_name": "LayoutModel",
       "_view_count": null,
       "_view_module": "@jupyter-widgets/base",
       "_view_module_version": "1.2.0",
       "_view_name": "LayoutView",
       "align_content": null,
       "align_items": null,
       "align_self": null,
       "border": null,
       "bottom": null,
       "display": null,
       "flex": null,
       "flex_flow": null,
       "grid_area": null,
       "grid_auto_columns": null,
       "grid_auto_flow": null,
       "grid_auto_rows": null,
       "grid_column": null,
       "grid_gap": null,
       "grid_row": null,
       "grid_template_areas": null,
       "grid_template_columns": null,
       "grid_template_rows": null,
       "height": null,
       "justify_content": null,
       "justify_items": null,
       "left": null,
       "margin": null,
       "max_height": null,
       "max_width": null,
       "min_height": null,
       "min_width": null,
       "object_fit": null,
       "object_position": null,
       "order": null,
       "overflow": null,
       "overflow_x": null,
       "overflow_y": null,
       "padding": null,
       "right": null,
       "top": null,
       "visibility": null,
       "width": null
      }
     },
     "4b3bb1fe28574ab3ae1c64a2a73d98d4": {
      "model_module": "@jupyter-widgets/controls",
      "model_module_version": "1.5.0",
      "model_name": "FloatProgressModel",
      "state": {
       "_dom_classes": [],
       "_model_module": "@jupyter-widgets/controls",
       "_model_module_version": "1.5.0",
       "_model_name": "FloatProgressModel",
       "_view_count": null,
       "_view_module": "@jupyter-widgets/controls",
       "_view_module_version": "1.5.0",
       "_view_name": "ProgressView",
       "bar_style": "success",
       "description": "",
       "description_tooltip": null,
       "layout": "IPY_MODEL_99db4e7be80e416e8a4969732d54b174",
       "max": 136,
       "min": 0,
       "orientation": "horizontal",
       "style": "IPY_MODEL_a6f09a3e4cb34ad2a46b60f67854d5a3",
       "value": 136
      }
     },
     "4b43c2567c5b4dafb7fc5e30a91ce7f9": {
      "model_module": "@jupyter-widgets/base",
      "model_module_version": "1.2.0",
      "model_name": "LayoutModel",
      "state": {
       "_model_module": "@jupyter-widgets/base",
       "_model_module_version": "1.2.0",
       "_model_name": "LayoutModel",
       "_view_count": null,
       "_view_module": "@jupyter-widgets/base",
       "_view_module_version": "1.2.0",
       "_view_name": "LayoutView",
       "align_content": null,
       "align_items": null,
       "align_self": null,
       "border": null,
       "bottom": null,
       "display": null,
       "flex": null,
       "flex_flow": null,
       "grid_area": null,
       "grid_auto_columns": null,
       "grid_auto_flow": null,
       "grid_auto_rows": null,
       "grid_column": null,
       "grid_gap": null,
       "grid_row": null,
       "grid_template_areas": null,
       "grid_template_columns": null,
       "grid_template_rows": null,
       "height": null,
       "justify_content": null,
       "justify_items": null,
       "left": null,
       "margin": null,
       "max_height": null,
       "max_width": null,
       "min_height": null,
       "min_width": null,
       "object_fit": null,
       "object_position": null,
       "order": null,
       "overflow": null,
       "overflow_x": null,
       "overflow_y": null,
       "padding": null,
       "right": null,
       "top": null,
       "visibility": null,
       "width": null
      }
     },
     "4b944683902e4c258f4dd6977f12900b": {
      "model_module": "@jupyter-widgets/base",
      "model_module_version": "1.2.0",
      "model_name": "LayoutModel",
      "state": {
       "_model_module": "@jupyter-widgets/base",
       "_model_module_version": "1.2.0",
       "_model_name": "LayoutModel",
       "_view_count": null,
       "_view_module": "@jupyter-widgets/base",
       "_view_module_version": "1.2.0",
       "_view_name": "LayoutView",
       "align_content": null,
       "align_items": null,
       "align_self": null,
       "border": null,
       "bottom": null,
       "display": null,
       "flex": null,
       "flex_flow": null,
       "grid_area": null,
       "grid_auto_columns": null,
       "grid_auto_flow": null,
       "grid_auto_rows": null,
       "grid_column": null,
       "grid_gap": null,
       "grid_row": null,
       "grid_template_areas": null,
       "grid_template_columns": null,
       "grid_template_rows": null,
       "height": null,
       "justify_content": null,
       "justify_items": null,
       "left": null,
       "margin": null,
       "max_height": null,
       "max_width": null,
       "min_height": null,
       "min_width": null,
       "object_fit": null,
       "object_position": null,
       "order": null,
       "overflow": null,
       "overflow_x": null,
       "overflow_y": null,
       "padding": null,
       "right": null,
       "top": null,
       "visibility": null,
       "width": null
      }
     },
     "512f37da76b14bf29888c4a15b137f29": {
      "model_module": "@jupyter-widgets/controls",
      "model_module_version": "1.5.0",
      "model_name": "DescriptionStyleModel",
      "state": {
       "_model_module": "@jupyter-widgets/controls",
       "_model_module_version": "1.5.0",
       "_model_name": "DescriptionStyleModel",
       "_view_count": null,
       "_view_module": "@jupyter-widgets/base",
       "_view_module_version": "1.2.0",
       "_view_name": "StyleView",
       "description_width": ""
      }
     },
     "51af08c4acb8483b80112b61e7bb0d68": {
      "model_module": "@jupyter-widgets/controls",
      "model_module_version": "1.5.0",
      "model_name": "DescriptionStyleModel",
      "state": {
       "_model_module": "@jupyter-widgets/controls",
       "_model_module_version": "1.5.0",
       "_model_name": "DescriptionStyleModel",
       "_view_count": null,
       "_view_module": "@jupyter-widgets/base",
       "_view_module_version": "1.2.0",
       "_view_name": "StyleView",
       "description_width": ""
      }
     },
     "6bd92ab326ce4e08b1f5a9968c8ebfcc": {
      "model_module": "@jupyter-widgets/base",
      "model_module_version": "1.2.0",
      "model_name": "LayoutModel",
      "state": {
       "_model_module": "@jupyter-widgets/base",
       "_model_module_version": "1.2.0",
       "_model_name": "LayoutModel",
       "_view_count": null,
       "_view_module": "@jupyter-widgets/base",
       "_view_module_version": "1.2.0",
       "_view_name": "LayoutView",
       "align_content": null,
       "align_items": null,
       "align_self": null,
       "border": null,
       "bottom": null,
       "display": null,
       "flex": null,
       "flex_flow": null,
       "grid_area": null,
       "grid_auto_columns": null,
       "grid_auto_flow": null,
       "grid_auto_rows": null,
       "grid_column": null,
       "grid_gap": null,
       "grid_row": null,
       "grid_template_areas": null,
       "grid_template_columns": null,
       "grid_template_rows": null,
       "height": null,
       "justify_content": null,
       "justify_items": null,
       "left": null,
       "margin": null,
       "max_height": null,
       "max_width": null,
       "min_height": null,
       "min_width": null,
       "object_fit": null,
       "object_position": null,
       "order": null,
       "overflow": null,
       "overflow_x": null,
       "overflow_y": null,
       "padding": null,
       "right": null,
       "top": null,
       "visibility": null,
       "width": null
      }
     },
     "6d190afb3a4441b88cafe2c1c167ca5c": {
      "model_module": "@jupyter-widgets/base",
      "model_module_version": "1.2.0",
      "model_name": "LayoutModel",
      "state": {
       "_model_module": "@jupyter-widgets/base",
       "_model_module_version": "1.2.0",
       "_model_name": "LayoutModel",
       "_view_count": null,
       "_view_module": "@jupyter-widgets/base",
       "_view_module_version": "1.2.0",
       "_view_name": "LayoutView",
       "align_content": null,
       "align_items": null,
       "align_self": null,
       "border": null,
       "bottom": null,
       "display": null,
       "flex": null,
       "flex_flow": null,
       "grid_area": null,
       "grid_auto_columns": null,
       "grid_auto_flow": null,
       "grid_auto_rows": null,
       "grid_column": null,
       "grid_gap": null,
       "grid_row": null,
       "grid_template_areas": null,
       "grid_template_columns": null,
       "grid_template_rows": null,
       "height": null,
       "justify_content": null,
       "justify_items": null,
       "left": null,
       "margin": null,
       "max_height": null,
       "max_width": null,
       "min_height": null,
       "min_width": null,
       "object_fit": null,
       "object_position": null,
       "order": null,
       "overflow": null,
       "overflow_x": null,
       "overflow_y": null,
       "padding": null,
       "right": null,
       "top": null,
       "visibility": null,
       "width": null
      }
     },
     "750686ce5d4a4f998a2f94a1c71952ee": {
      "model_module": "@jupyter-widgets/controls",
      "model_module_version": "1.5.0",
      "model_name": "DescriptionStyleModel",
      "state": {
       "_model_module": "@jupyter-widgets/controls",
       "_model_module_version": "1.5.0",
       "_model_name": "DescriptionStyleModel",
       "_view_count": null,
       "_view_module": "@jupyter-widgets/base",
       "_view_module_version": "1.2.0",
       "_view_name": "StyleView",
       "description_width": ""
      }
     },
     "7a32507957ca48628893fc4e0cd29f0f": {
      "model_module": "@jupyter-widgets/base",
      "model_module_version": "1.2.0",
      "model_name": "LayoutModel",
      "state": {
       "_model_module": "@jupyter-widgets/base",
       "_model_module_version": "1.2.0",
       "_model_name": "LayoutModel",
       "_view_count": null,
       "_view_module": "@jupyter-widgets/base",
       "_view_module_version": "1.2.0",
       "_view_name": "LayoutView",
       "align_content": null,
       "align_items": null,
       "align_self": null,
       "border": null,
       "bottom": null,
       "display": null,
       "flex": null,
       "flex_flow": null,
       "grid_area": null,
       "grid_auto_columns": null,
       "grid_auto_flow": null,
       "grid_auto_rows": null,
       "grid_column": null,
       "grid_gap": null,
       "grid_row": null,
       "grid_template_areas": null,
       "grid_template_columns": null,
       "grid_template_rows": null,
       "height": null,
       "justify_content": null,
       "justify_items": null,
       "left": null,
       "margin": null,
       "max_height": null,
       "max_width": null,
       "min_height": null,
       "min_width": null,
       "object_fit": null,
       "object_position": null,
       "order": null,
       "overflow": null,
       "overflow_x": null,
       "overflow_y": null,
       "padding": null,
       "right": null,
       "top": null,
       "visibility": null,
       "width": null
      }
     },
     "7a5354244bb74d14adfa01ce387d2427": {
      "model_module": "@jupyter-widgets/controls",
      "model_module_version": "1.5.0",
      "model_name": "HTMLModel",
      "state": {
       "_dom_classes": [],
       "_model_module": "@jupyter-widgets/controls",
       "_model_module_version": "1.5.0",
       "_model_name": "HTMLModel",
       "_view_count": null,
       "_view_module": "@jupyter-widgets/controls",
       "_view_module_version": "1.5.0",
       "_view_name": "HTMLView",
       "description": "",
       "description_tooltip": null,
       "layout": "IPY_MODEL_26c3aaf2bdae454ebeadb8c6c363966e",
       "placeholder": "​",
       "style": "IPY_MODEL_83d450db545c450fb1d5624e3be601bc",
       "value": "Downloading: 100%"
      }
     },
     "805c20b960294bb88c80b72b9dac67bd": {
      "model_module": "@jupyter-widgets/base",
      "model_module_version": "1.2.0",
      "model_name": "LayoutModel",
      "state": {
       "_model_module": "@jupyter-widgets/base",
       "_model_module_version": "1.2.0",
       "_model_name": "LayoutModel",
       "_view_count": null,
       "_view_module": "@jupyter-widgets/base",
       "_view_module_version": "1.2.0",
       "_view_name": "LayoutView",
       "align_content": null,
       "align_items": null,
       "align_self": null,
       "border": null,
       "bottom": null,
       "display": null,
       "flex": null,
       "flex_flow": null,
       "grid_area": null,
       "grid_auto_columns": null,
       "grid_auto_flow": null,
       "grid_auto_rows": null,
       "grid_column": null,
       "grid_gap": null,
       "grid_row": null,
       "grid_template_areas": null,
       "grid_template_columns": null,
       "grid_template_rows": null,
       "height": null,
       "justify_content": null,
       "justify_items": null,
       "left": null,
       "margin": null,
       "max_height": null,
       "max_width": null,
       "min_height": null,
       "min_width": null,
       "object_fit": null,
       "object_position": null,
       "order": null,
       "overflow": null,
       "overflow_x": null,
       "overflow_y": null,
       "padding": null,
       "right": null,
       "top": null,
       "visibility": null,
       "width": null
      }
     },
     "83d450db545c450fb1d5624e3be601bc": {
      "model_module": "@jupyter-widgets/controls",
      "model_module_version": "1.5.0",
      "model_name": "DescriptionStyleModel",
      "state": {
       "_model_module": "@jupyter-widgets/controls",
       "_model_module_version": "1.5.0",
       "_model_name": "DescriptionStyleModel",
       "_view_count": null,
       "_view_module": "@jupyter-widgets/base",
       "_view_module_version": "1.2.0",
       "_view_name": "StyleView",
       "description_width": ""
      }
     },
     "8c11e73f889f4c69a33a41c04c763e1c": {
      "model_module": "@jupyter-widgets/controls",
      "model_module_version": "1.5.0",
      "model_name": "FloatProgressModel",
      "state": {
       "_dom_classes": [],
       "_model_module": "@jupyter-widgets/controls",
       "_model_module_version": "1.5.0",
       "_model_name": "FloatProgressModel",
       "_view_count": null,
       "_view_module": "@jupyter-widgets/controls",
       "_view_module_version": "1.5.0",
       "_view_name": "ProgressView",
       "bar_style": "success",
       "description": "",
       "description_tooltip": null,
       "layout": "IPY_MODEL_a7167fb6d3fd4aa3bd78884316892448",
       "max": 36473,
       "min": 0,
       "orientation": "horizontal",
       "style": "IPY_MODEL_c84f55def5bf438da2f502081a66804b",
       "value": 36473
      }
     },
     "94e68ce1de4948e7857750a4b60ab0a6": {
      "model_module": "@jupyter-widgets/controls",
      "model_module_version": "1.5.0",
      "model_name": "HBoxModel",
      "state": {
       "_dom_classes": [],
       "_model_module": "@jupyter-widgets/controls",
       "_model_module_version": "1.5.0",
       "_model_name": "HBoxModel",
       "_view_count": null,
       "_view_module": "@jupyter-widgets/controls",
       "_view_module_version": "1.5.0",
       "_view_name": "HBoxView",
       "box_style": "",
       "children": [
        "IPY_MODEL_7a5354244bb74d14adfa01ce387d2427",
        "IPY_MODEL_b7b33d9129a6470aae4d90edf44edd54",
        "IPY_MODEL_efc04c92f83a486d860f7ce1d298e883"
       ],
       "layout": "IPY_MODEL_42745679294a4295b54e89c20d9e1240"
      }
     },
     "9500a84a44d847aaadf303bb8d6b1af0": {
      "model_module": "@jupyter-widgets/controls",
      "model_module_version": "1.5.0",
      "model_name": "HBoxModel",
      "state": {
       "_dom_classes": [],
       "_model_module": "@jupyter-widgets/controls",
       "_model_module_version": "1.5.0",
       "_model_name": "HBoxModel",
       "_view_count": null,
       "_view_module": "@jupyter-widgets/controls",
       "_view_module_version": "1.5.0",
       "_view_name": "HBoxView",
       "box_style": "",
       "children": [
        "IPY_MODEL_09b3500fdee64428b3d39b372f361a7d",
        "IPY_MODEL_8c11e73f889f4c69a33a41c04c763e1c",
        "IPY_MODEL_ee82535873464b16bad641ceb5fd5a5b"
       ],
       "layout": "IPY_MODEL_218d71a22d2748879e42bb1c01b5fbf0"
      }
     },
     "97276a0ed3cf40b9ae413b3e0f957330": {
      "model_module": "@jupyter-widgets/base",
      "model_module_version": "1.2.0",
      "model_name": "LayoutModel",
      "state": {
       "_model_module": "@jupyter-widgets/base",
       "_model_module_version": "1.2.0",
       "_model_name": "LayoutModel",
       "_view_count": null,
       "_view_module": "@jupyter-widgets/base",
       "_view_module_version": "1.2.0",
       "_view_name": "LayoutView",
       "align_content": null,
       "align_items": null,
       "align_self": null,
       "border": null,
       "bottom": null,
       "display": null,
       "flex": null,
       "flex_flow": null,
       "grid_area": null,
       "grid_auto_columns": null,
       "grid_auto_flow": null,
       "grid_auto_rows": null,
       "grid_column": null,
       "grid_gap": null,
       "grid_row": null,
       "grid_template_areas": null,
       "grid_template_columns": null,
       "grid_template_rows": null,
       "height": null,
       "justify_content": null,
       "justify_items": null,
       "left": null,
       "margin": null,
       "max_height": null,
       "max_width": null,
       "min_height": null,
       "min_width": null,
       "object_fit": null,
       "object_position": null,
       "order": null,
       "overflow": null,
       "overflow_x": null,
       "overflow_y": null,
       "padding": null,
       "right": null,
       "top": null,
       "visibility": null,
       "width": null
      }
     },
     "973f921989b94ebe8bbd052c30357e11": {
      "model_module": "@jupyter-widgets/base",
      "model_module_version": "1.2.0",
      "model_name": "LayoutModel",
      "state": {
       "_model_module": "@jupyter-widgets/base",
       "_model_module_version": "1.2.0",
       "_model_name": "LayoutModel",
       "_view_count": null,
       "_view_module": "@jupyter-widgets/base",
       "_view_module_version": "1.2.0",
       "_view_name": "LayoutView",
       "align_content": null,
       "align_items": null,
       "align_self": null,
       "border": null,
       "bottom": null,
       "display": null,
       "flex": null,
       "flex_flow": null,
       "grid_area": null,
       "grid_auto_columns": null,
       "grid_auto_flow": null,
       "grid_auto_rows": null,
       "grid_column": null,
       "grid_gap": null,
       "grid_row": null,
       "grid_template_areas": null,
       "grid_template_columns": null,
       "grid_template_rows": null,
       "height": null,
       "justify_content": null,
       "justify_items": null,
       "left": null,
       "margin": null,
       "max_height": null,
       "max_width": null,
       "min_height": null,
       "min_width": null,
       "object_fit": null,
       "object_position": null,
       "order": null,
       "overflow": null,
       "overflow_x": null,
       "overflow_y": null,
       "padding": null,
       "right": null,
       "top": null,
       "visibility": null,
       "width": null
      }
     },
     "985a1ad27d1f47dd94946531b7f6257d": {
      "model_module": "@jupyter-widgets/controls",
      "model_module_version": "1.5.0",
      "model_name": "FloatProgressModel",
      "state": {
       "_dom_classes": [],
       "_model_module": "@jupyter-widgets/controls",
       "_model_module_version": "1.5.0",
       "_model_name": "FloatProgressModel",
       "_view_count": null,
       "_view_module": "@jupyter-widgets/controls",
       "_view_module_version": "1.5.0",
       "_view_name": "ProgressView",
       "bar_style": "success",
       "description": "",
       "description_tooltip": null,
       "layout": "IPY_MODEL_97276a0ed3cf40b9ae413b3e0f957330",
       "max": 36473,
       "min": 0,
       "orientation": "horizontal",
       "style": "IPY_MODEL_ff500ce02d6043658189ecddfeb581bb",
       "value": 36473
      }
     },
     "98bd56ad0005484995fd718f22ea9a9e": {
      "model_module": "@jupyter-widgets/controls",
      "model_module_version": "1.5.0",
      "model_name": "DescriptionStyleModel",
      "state": {
       "_model_module": "@jupyter-widgets/controls",
       "_model_module_version": "1.5.0",
       "_model_name": "DescriptionStyleModel",
       "_view_count": null,
       "_view_module": "@jupyter-widgets/base",
       "_view_module_version": "1.2.0",
       "_view_name": "StyleView",
       "description_width": ""
      }
     },
     "99db4e7be80e416e8a4969732d54b174": {
      "model_module": "@jupyter-widgets/base",
      "model_module_version": "1.2.0",
      "model_name": "LayoutModel",
      "state": {
       "_model_module": "@jupyter-widgets/base",
       "_model_module_version": "1.2.0",
       "_model_name": "LayoutModel",
       "_view_count": null,
       "_view_module": "@jupyter-widgets/base",
       "_view_module_version": "1.2.0",
       "_view_name": "LayoutView",
       "align_content": null,
       "align_items": null,
       "align_self": null,
       "border": null,
       "bottom": null,
       "display": null,
       "flex": null,
       "flex_flow": null,
       "grid_area": null,
       "grid_auto_columns": null,
       "grid_auto_flow": null,
       "grid_auto_rows": null,
       "grid_column": null,
       "grid_gap": null,
       "grid_row": null,
       "grid_template_areas": null,
       "grid_template_columns": null,
       "grid_template_rows": null,
       "height": null,
       "justify_content": null,
       "justify_items": null,
       "left": null,
       "margin": null,
       "max_height": null,
       "max_width": null,
       "min_height": null,
       "min_width": null,
       "object_fit": null,
       "object_position": null,
       "order": null,
       "overflow": null,
       "overflow_x": null,
       "overflow_y": null,
       "padding": null,
       "right": null,
       "top": null,
       "visibility": null,
       "width": null
      }
     },
     "a02a024375224eb3863af8f6319ad4d5": {
      "model_module": "@jupyter-widgets/controls",
      "model_module_version": "1.5.0",
      "model_name": "HTMLModel",
      "state": {
       "_dom_classes": [],
       "_model_module": "@jupyter-widgets/controls",
       "_model_module_version": "1.5.0",
       "_model_name": "HTMLModel",
       "_view_count": null,
       "_view_module": "@jupyter-widgets/controls",
       "_view_module_version": "1.5.0",
       "_view_name": "HTMLView",
       "description": "",
       "description_tooltip": null,
       "layout": "IPY_MODEL_2a3c821952df42b184ebfebf4145d56b",
       "placeholder": "​",
       "style": "IPY_MODEL_c4e5a67b1c46472d8f2f54fc3d9863a3",
       "value": "100%"
      }
     },
     "a3f3efddbe85466b91d75ea796c936f5": {
      "model_module": "@jupyter-widgets/base",
      "model_module_version": "1.2.0",
      "model_name": "LayoutModel",
      "state": {
       "_model_module": "@jupyter-widgets/base",
       "_model_module_version": "1.2.0",
       "_model_name": "LayoutModel",
       "_view_count": null,
       "_view_module": "@jupyter-widgets/base",
       "_view_module_version": "1.2.0",
       "_view_name": "LayoutView",
       "align_content": null,
       "align_items": null,
       "align_self": null,
       "border": null,
       "bottom": null,
       "display": null,
       "flex": null,
       "flex_flow": null,
       "grid_area": null,
       "grid_auto_columns": null,
       "grid_auto_flow": null,
       "grid_auto_rows": null,
       "grid_column": null,
       "grid_gap": null,
       "grid_row": null,
       "grid_template_areas": null,
       "grid_template_columns": null,
       "grid_template_rows": null,
       "height": null,
       "justify_content": null,
       "justify_items": null,
       "left": null,
       "margin": null,
       "max_height": null,
       "max_width": null,
       "min_height": null,
       "min_width": null,
       "object_fit": null,
       "object_position": null,
       "order": null,
       "overflow": null,
       "overflow_x": null,
       "overflow_y": null,
       "padding": null,
       "right": null,
       "top": null,
       "visibility": null,
       "width": null
      }
     },
     "a6f09a3e4cb34ad2a46b60f67854d5a3": {
      "model_module": "@jupyter-widgets/controls",
      "model_module_version": "1.5.0",
      "model_name": "ProgressStyleModel",
      "state": {
       "_model_module": "@jupyter-widgets/controls",
       "_model_module_version": "1.5.0",
       "_model_name": "ProgressStyleModel",
       "_view_count": null,
       "_view_module": "@jupyter-widgets/base",
       "_view_module_version": "1.2.0",
       "_view_name": "StyleView",
       "bar_color": null,
       "description_width": ""
      }
     },
     "a7167fb6d3fd4aa3bd78884316892448": {
      "model_module": "@jupyter-widgets/base",
      "model_module_version": "1.2.0",
      "model_name": "LayoutModel",
      "state": {
       "_model_module": "@jupyter-widgets/base",
       "_model_module_version": "1.2.0",
       "_model_name": "LayoutModel",
       "_view_count": null,
       "_view_module": "@jupyter-widgets/base",
       "_view_module_version": "1.2.0",
       "_view_name": "LayoutView",
       "align_content": null,
       "align_items": null,
       "align_self": null,
       "border": null,
       "bottom": null,
       "display": null,
       "flex": null,
       "flex_flow": null,
       "grid_area": null,
       "grid_auto_columns": null,
       "grid_auto_flow": null,
       "grid_auto_rows": null,
       "grid_column": null,
       "grid_gap": null,
       "grid_row": null,
       "grid_template_areas": null,
       "grid_template_columns": null,
       "grid_template_rows": null,
       "height": null,
       "justify_content": null,
       "justify_items": null,
       "left": null,
       "margin": null,
       "max_height": null,
       "max_width": null,
       "min_height": null,
       "min_width": null,
       "object_fit": null,
       "object_position": null,
       "order": null,
       "overflow": null,
       "overflow_x": null,
       "overflow_y": null,
       "padding": null,
       "right": null,
       "top": null,
       "visibility": null,
       "width": null
      }
     },
     "a7a67d2aa17848c2b96c55da7f3fbd83": {
      "model_module": "@jupyter-widgets/controls",
      "model_module_version": "1.5.0",
      "model_name": "HTMLModel",
      "state": {
       "_dom_classes": [],
       "_model_module": "@jupyter-widgets/controls",
       "_model_module_version": "1.5.0",
       "_model_name": "HTMLModel",
       "_view_count": null,
       "_view_module": "@jupyter-widgets/controls",
       "_view_module_version": "1.5.0",
       "_view_name": "HTMLView",
       "description": "",
       "description_tooltip": null,
       "layout": "IPY_MODEL_022cf872c70542a784599ac5c68b89fc",
       "placeholder": "​",
       "style": "IPY_MODEL_ab048f27a8174d34a62cf4b69296ec87",
       "value": " 136/136 [00:00&lt;00:00, 1451.42it/s]"
      }
     },
     "a96b2b604d2d4278858e4c9e91c83679": {
      "model_module": "@jupyter-widgets/controls",
      "model_module_version": "1.5.0",
      "model_name": "HTMLModel",
      "state": {
       "_dom_classes": [],
       "_model_module": "@jupyter-widgets/controls",
       "_model_module_version": "1.5.0",
       "_model_name": "HTMLModel",
       "_view_count": null,
       "_view_module": "@jupyter-widgets/controls",
       "_view_module_version": "1.5.0",
       "_view_name": "HTMLView",
       "description": "",
       "description_tooltip": null,
       "layout": "IPY_MODEL_4ade87658fc347fab1198ae0515f4e26",
       "placeholder": "​",
       "style": "IPY_MODEL_750686ce5d4a4f998a2f94a1c71952ee",
       "value": " 36473/36473 [00:02&lt;00:00, 14944.54it/s]"
      }
     },
     "aaa5c5e2e73f421cbd7eec465ad571b8": {
      "model_module": "@jupyter-widgets/controls",
      "model_module_version": "1.5.0",
      "model_name": "DescriptionStyleModel",
      "state": {
       "_model_module": "@jupyter-widgets/controls",
       "_model_module_version": "1.5.0",
       "_model_name": "DescriptionStyleModel",
       "_view_count": null,
       "_view_module": "@jupyter-widgets/base",
       "_view_module_version": "1.2.0",
       "_view_name": "StyleView",
       "description_width": ""
      }
     },
     "ab048f27a8174d34a62cf4b69296ec87": {
      "model_module": "@jupyter-widgets/controls",
      "model_module_version": "1.5.0",
      "model_name": "DescriptionStyleModel",
      "state": {
       "_model_module": "@jupyter-widgets/controls",
       "_model_module_version": "1.5.0",
       "_model_name": "DescriptionStyleModel",
       "_view_count": null,
       "_view_module": "@jupyter-widgets/base",
       "_view_module_version": "1.2.0",
       "_view_name": "StyleView",
       "description_width": ""
      }
     },
     "ae476ce91cac438c9cad6e0b9d918632": {
      "model_module": "@jupyter-widgets/controls",
      "model_module_version": "1.5.0",
      "model_name": "HBoxModel",
      "state": {
       "_dom_classes": [],
       "_model_module": "@jupyter-widgets/controls",
       "_model_module_version": "1.5.0",
       "_model_name": "HBoxModel",
       "_view_count": null,
       "_view_module": "@jupyter-widgets/controls",
       "_view_module_version": "1.5.0",
       "_view_name": "HBoxView",
       "box_style": "",
       "children": [
        "IPY_MODEL_0060d7ed32c841168387da7a75188b80",
        "IPY_MODEL_2461abe8bf8c4395a3f57aaff8777e35",
        "IPY_MODEL_359b2d8da582404f87fa4302def3861c"
       ],
       "layout": "IPY_MODEL_805c20b960294bb88c80b72b9dac67bd"
      }
     },
     "b018f1fd8ccf4df3b49ebc86195153ee": {
      "model_module": "@jupyter-widgets/base",
      "model_module_version": "1.2.0",
      "model_name": "LayoutModel",
      "state": {
       "_model_module": "@jupyter-widgets/base",
       "_model_module_version": "1.2.0",
       "_model_name": "LayoutModel",
       "_view_count": null,
       "_view_module": "@jupyter-widgets/base",
       "_view_module_version": "1.2.0",
       "_view_name": "LayoutView",
       "align_content": null,
       "align_items": null,
       "align_self": null,
       "border": null,
       "bottom": null,
       "display": null,
       "flex": null,
       "flex_flow": null,
       "grid_area": null,
       "grid_auto_columns": null,
       "grid_auto_flow": null,
       "grid_auto_rows": null,
       "grid_column": null,
       "grid_gap": null,
       "grid_row": null,
       "grid_template_areas": null,
       "grid_template_columns": null,
       "grid_template_rows": null,
       "height": null,
       "justify_content": null,
       "justify_items": null,
       "left": null,
       "margin": null,
       "max_height": null,
       "max_width": null,
       "min_height": null,
       "min_width": null,
       "object_fit": null,
       "object_position": null,
       "order": null,
       "overflow": null,
       "overflow_x": null,
       "overflow_y": null,
       "padding": null,
       "right": null,
       "top": null,
       "visibility": null,
       "width": null
      }
     },
     "b7b33d9129a6470aae4d90edf44edd54": {
      "model_module": "@jupyter-widgets/controls",
      "model_module_version": "1.5.0",
      "model_name": "FloatProgressModel",
      "state": {
       "_dom_classes": [],
       "_model_module": "@jupyter-widgets/controls",
       "_model_module_version": "1.5.0",
       "_model_name": "FloatProgressModel",
       "_view_count": null,
       "_view_module": "@jupyter-widgets/controls",
       "_view_module_version": "1.5.0",
       "_view_name": "ProgressView",
       "bar_style": "success",
       "description": "",
       "description_tooltip": null,
       "layout": "IPY_MODEL_23ff4210231c4928affad1c036f74f35",
       "max": 1383349812,
       "min": 0,
       "orientation": "horizontal",
       "style": "IPY_MODEL_bf195493357f4fa3a122200c37b5c87d",
       "value": 1383349812
      }
     },
     "b8ef5bdaf4ca477d9895b1e96cb720e5": {
      "model_module": "@jupyter-widgets/base",
      "model_module_version": "1.2.0",
      "model_name": "LayoutModel",
      "state": {
       "_model_module": "@jupyter-widgets/base",
       "_model_module_version": "1.2.0",
       "_model_name": "LayoutModel",
       "_view_count": null,
       "_view_module": "@jupyter-widgets/base",
       "_view_module_version": "1.2.0",
       "_view_name": "LayoutView",
       "align_content": null,
       "align_items": null,
       "align_self": null,
       "border": null,
       "bottom": null,
       "display": null,
       "flex": null,
       "flex_flow": null,
       "grid_area": null,
       "grid_auto_columns": null,
       "grid_auto_flow": null,
       "grid_auto_rows": null,
       "grid_column": null,
       "grid_gap": null,
       "grid_row": null,
       "grid_template_areas": null,
       "grid_template_columns": null,
       "grid_template_rows": null,
       "height": null,
       "justify_content": null,
       "justify_items": null,
       "left": null,
       "margin": null,
       "max_height": null,
       "max_width": null,
       "min_height": null,
       "min_width": null,
       "object_fit": null,
       "object_position": null,
       "order": null,
       "overflow": null,
       "overflow_x": null,
       "overflow_y": null,
       "padding": null,
       "right": null,
       "top": null,
       "visibility": null,
       "width": null
      }
     },
     "bf195493357f4fa3a122200c37b5c87d": {
      "model_module": "@jupyter-widgets/controls",
      "model_module_version": "1.5.0",
      "model_name": "ProgressStyleModel",
      "state": {
       "_model_module": "@jupyter-widgets/controls",
       "_model_module_version": "1.5.0",
       "_model_name": "ProgressStyleModel",
       "_view_count": null,
       "_view_module": "@jupyter-widgets/base",
       "_view_module_version": "1.2.0",
       "_view_name": "StyleView",
       "bar_color": null,
       "description_width": ""
      }
     },
     "c080fc94a7ca41f8af94a44ba16666d1": {
      "model_module": "@jupyter-widgets/controls",
      "model_module_version": "1.5.0",
      "model_name": "HBoxModel",
      "state": {
       "_dom_classes": [],
       "_model_module": "@jupyter-widgets/controls",
       "_model_module_version": "1.5.0",
       "_model_name": "HBoxModel",
       "_view_count": null,
       "_view_module": "@jupyter-widgets/controls",
       "_view_module_version": "1.5.0",
       "_view_name": "HBoxView",
       "box_style": "",
       "children": [
        "IPY_MODEL_f79ca96d9edd4edab455fc0b708388fe",
        "IPY_MODEL_985a1ad27d1f47dd94946531b7f6257d",
        "IPY_MODEL_a96b2b604d2d4278858e4c9e91c83679"
       ],
       "layout": "IPY_MODEL_498a4d8cd36147e5aff01b671d5d6f4f"
      }
     },
     "c34306fea15b46b2900ebaec5b5ca817": {
      "model_module": "@jupyter-widgets/controls",
      "model_module_version": "1.5.0",
      "model_name": "LabelModel",
      "state": {
       "_dom_classes": [],
       "_model_module": "@jupyter-widgets/controls",
       "_model_module_version": "1.5.0",
       "_model_name": "LabelModel",
       "_view_count": null,
       "_view_module": "@jupyter-widgets/controls",
       "_view_module_version": "1.5.0",
       "_view_name": "LabelView",
       "description": "",
       "description_tooltip": null,
       "layout": "IPY_MODEL_7a32507957ca48628893fc4e0cd29f0f",
       "placeholder": "​",
       "style": "IPY_MODEL_98bd56ad0005484995fd718f22ea9a9e",
       "value": "0.066 MB of 0.066 MB uploaded (0.000 MB deduped)\r"
      }
     },
     "c34d4a60bceb475aafd01b537bc9fee5": {
      "model_module": "@jupyter-widgets/controls",
      "model_module_version": "1.5.0",
      "model_name": "DescriptionStyleModel",
      "state": {
       "_model_module": "@jupyter-widgets/controls",
       "_model_module_version": "1.5.0",
       "_model_name": "DescriptionStyleModel",
       "_view_count": null,
       "_view_module": "@jupyter-widgets/base",
       "_view_module_version": "1.2.0",
       "_view_name": "StyleView",
       "description_width": ""
      }
     },
     "c4e5a67b1c46472d8f2f54fc3d9863a3": {
      "model_module": "@jupyter-widgets/controls",
      "model_module_version": "1.5.0",
      "model_name": "DescriptionStyleModel",
      "state": {
       "_model_module": "@jupyter-widgets/controls",
       "_model_module_version": "1.5.0",
       "_model_name": "DescriptionStyleModel",
       "_view_count": null,
       "_view_module": "@jupyter-widgets/base",
       "_view_module_version": "1.2.0",
       "_view_name": "StyleView",
       "description_width": ""
      }
     },
     "c84f55def5bf438da2f502081a66804b": {
      "model_module": "@jupyter-widgets/controls",
      "model_module_version": "1.5.0",
      "model_name": "ProgressStyleModel",
      "state": {
       "_model_module": "@jupyter-widgets/controls",
       "_model_module_version": "1.5.0",
       "_model_name": "ProgressStyleModel",
       "_view_count": null,
       "_view_module": "@jupyter-widgets/base",
       "_view_module_version": "1.2.0",
       "_view_name": "StyleView",
       "bar_color": null,
       "description_width": ""
      }
     },
     "d0168396e8ea4f039617f63d148c3499": {
      "model_module": "@jupyter-widgets/base",
      "model_module_version": "1.2.0",
      "model_name": "LayoutModel",
      "state": {
       "_model_module": "@jupyter-widgets/base",
       "_model_module_version": "1.2.0",
       "_model_name": "LayoutModel",
       "_view_count": null,
       "_view_module": "@jupyter-widgets/base",
       "_view_module_version": "1.2.0",
       "_view_name": "LayoutView",
       "align_content": null,
       "align_items": null,
       "align_self": null,
       "border": null,
       "bottom": null,
       "display": null,
       "flex": null,
       "flex_flow": null,
       "grid_area": null,
       "grid_auto_columns": null,
       "grid_auto_flow": null,
       "grid_auto_rows": null,
       "grid_column": null,
       "grid_gap": null,
       "grid_row": null,
       "grid_template_areas": null,
       "grid_template_columns": null,
       "grid_template_rows": null,
       "height": null,
       "justify_content": null,
       "justify_items": null,
       "left": null,
       "margin": null,
       "max_height": null,
       "max_width": null,
       "min_height": null,
       "min_width": null,
       "object_fit": null,
       "object_position": null,
       "order": null,
       "overflow": null,
       "overflow_x": null,
       "overflow_y": null,
       "padding": null,
       "right": null,
       "top": null,
       "visibility": null,
       "width": null
      }
     },
     "d3cc82ae46004c05a2983121e5c0a80b": {
      "model_module": "@jupyter-widgets/controls",
      "model_module_version": "1.5.0",
      "model_name": "FloatProgressModel",
      "state": {
       "_dom_classes": [],
       "_model_module": "@jupyter-widgets/controls",
       "_model_module_version": "1.5.0",
       "_model_name": "FloatProgressModel",
       "_view_count": null,
       "_view_module": "@jupyter-widgets/controls",
       "_view_module_version": "1.5.0",
       "_view_name": "ProgressView",
       "bar_style": "",
       "description": "",
       "description_tooltip": null,
       "layout": "IPY_MODEL_4b944683902e4c258f4dd6977f12900b",
       "max": 1,
       "min": 0,
       "orientation": "horizontal",
       "style": "IPY_MODEL_3ff4cf57856645f2a51375b1542e21c7",
       "value": 1
      }
     },
     "d8373d7eb38044a4a13e46be5c4cafbd": {
      "model_module": "@jupyter-widgets/base",
      "model_module_version": "1.2.0",
      "model_name": "LayoutModel",
      "state": {
       "_model_module": "@jupyter-widgets/base",
       "_model_module_version": "1.2.0",
       "_model_name": "LayoutModel",
       "_view_count": null,
       "_view_module": "@jupyter-widgets/base",
       "_view_module_version": "1.2.0",
       "_view_name": "LayoutView",
       "align_content": null,
       "align_items": null,
       "align_self": null,
       "border": null,
       "bottom": null,
       "display": null,
       "flex": null,
       "flex_flow": null,
       "grid_area": null,
       "grid_auto_columns": null,
       "grid_auto_flow": null,
       "grid_auto_rows": null,
       "grid_column": null,
       "grid_gap": null,
       "grid_row": null,
       "grid_template_areas": null,
       "grid_template_columns": null,
       "grid_template_rows": null,
       "height": null,
       "justify_content": null,
       "justify_items": null,
       "left": null,
       "margin": null,
       "max_height": null,
       "max_width": null,
       "min_height": null,
       "min_width": null,
       "object_fit": null,
       "object_position": null,
       "order": null,
       "overflow": null,
       "overflow_x": null,
       "overflow_y": null,
       "padding": null,
       "right": null,
       "top": null,
       "visibility": null,
       "width": null
      }
     },
     "d88c9529e75b47fa90dd02dd8283c0c8": {
      "model_module": "@jupyter-widgets/base",
      "model_module_version": "1.2.0",
      "model_name": "LayoutModel",
      "state": {
       "_model_module": "@jupyter-widgets/base",
       "_model_module_version": "1.2.0",
       "_model_name": "LayoutModel",
       "_view_count": null,
       "_view_module": "@jupyter-widgets/base",
       "_view_module_version": "1.2.0",
       "_view_name": "LayoutView",
       "align_content": null,
       "align_items": null,
       "align_self": null,
       "border": null,
       "bottom": null,
       "display": null,
       "flex": null,
       "flex_flow": null,
       "grid_area": null,
       "grid_auto_columns": null,
       "grid_auto_flow": null,
       "grid_auto_rows": null,
       "grid_column": null,
       "grid_gap": null,
       "grid_row": null,
       "grid_template_areas": null,
       "grid_template_columns": null,
       "grid_template_rows": null,
       "height": null,
       "justify_content": null,
       "justify_items": null,
       "left": null,
       "margin": null,
       "max_height": null,
       "max_width": null,
       "min_height": null,
       "min_width": null,
       "object_fit": null,
       "object_position": null,
       "order": null,
       "overflow": null,
       "overflow_x": null,
       "overflow_y": null,
       "padding": null,
       "right": null,
       "top": null,
       "visibility": null,
       "width": null
      }
     },
     "deefcaf427fc40c0a606af9d76f1b6a9": {
      "model_module": "@jupyter-widgets/controls",
      "model_module_version": "1.5.0",
      "model_name": "ProgressStyleModel",
      "state": {
       "_model_module": "@jupyter-widgets/controls",
       "_model_module_version": "1.5.0",
       "_model_name": "ProgressStyleModel",
       "_view_count": null,
       "_view_module": "@jupyter-widgets/base",
       "_view_module_version": "1.2.0",
       "_view_name": "StyleView",
       "bar_color": null,
       "description_width": ""
      }
     },
     "e996e090235a4805a664acc1f7e71764": {
      "model_module": "@jupyter-widgets/base",
      "model_module_version": "1.2.0",
      "model_name": "LayoutModel",
      "state": {
       "_model_module": "@jupyter-widgets/base",
       "_model_module_version": "1.2.0",
       "_model_name": "LayoutModel",
       "_view_count": null,
       "_view_module": "@jupyter-widgets/base",
       "_view_module_version": "1.2.0",
       "_view_name": "LayoutView",
       "align_content": null,
       "align_items": null,
       "align_self": null,
       "border": null,
       "bottom": null,
       "display": null,
       "flex": null,
       "flex_flow": null,
       "grid_area": null,
       "grid_auto_columns": null,
       "grid_auto_flow": null,
       "grid_auto_rows": null,
       "grid_column": null,
       "grid_gap": null,
       "grid_row": null,
       "grid_template_areas": null,
       "grid_template_columns": null,
       "grid_template_rows": null,
       "height": null,
       "justify_content": null,
       "justify_items": null,
       "left": null,
       "margin": null,
       "max_height": null,
       "max_width": null,
       "min_height": null,
       "min_width": null,
       "object_fit": null,
       "object_position": null,
       "order": null,
       "overflow": null,
       "overflow_x": null,
       "overflow_y": null,
       "padding": null,
       "right": null,
       "top": null,
       "visibility": null,
       "width": null
      }
     },
     "ee82535873464b16bad641ceb5fd5a5b": {
      "model_module": "@jupyter-widgets/controls",
      "model_module_version": "1.5.0",
      "model_name": "HTMLModel",
      "state": {
       "_dom_classes": [],
       "_model_module": "@jupyter-widgets/controls",
       "_model_module_version": "1.5.0",
       "_model_name": "HTMLModel",
       "_view_count": null,
       "_view_module": "@jupyter-widgets/controls",
       "_view_module_version": "1.5.0",
       "_view_name": "HTMLView",
       "description": "",
       "description_tooltip": null,
       "layout": "IPY_MODEL_040febd098e2497c8b7eefc5ec0fe702",
       "placeholder": "​",
       "style": "IPY_MODEL_41169ba5413749e0a0d792d1d12f250d",
       "value": " 36473/36473 [00:02&lt;00:00, 16032.73it/s]"
      }
     },
     "efc04c92f83a486d860f7ce1d298e883": {
      "model_module": "@jupyter-widgets/controls",
      "model_module_version": "1.5.0",
      "model_name": "HTMLModel",
      "state": {
       "_dom_classes": [],
       "_model_module": "@jupyter-widgets/controls",
       "_model_module_version": "1.5.0",
       "_model_name": "HTMLModel",
       "_view_count": null,
       "_view_module": "@jupyter-widgets/controls",
       "_view_module_version": "1.5.0",
       "_view_name": "HTMLView",
       "description": "",
       "description_tooltip": null,
       "layout": "IPY_MODEL_d0168396e8ea4f039617f63d148c3499",
       "placeholder": "​",
       "style": "IPY_MODEL_51af08c4acb8483b80112b61e7bb0d68",
       "value": " 1.29G/1.29G [01:54&lt;00:00, 12.7MB/s]"
      }
     },
     "f3de395fc5b94a4d93a9bf03fca198ba": {
      "model_module": "@jupyter-widgets/controls",
      "model_module_version": "1.5.0",
      "model_name": "VBoxModel",
      "state": {
       "_dom_classes": [],
       "_model_module": "@jupyter-widgets/controls",
       "_model_module_version": "1.5.0",
       "_model_name": "VBoxModel",
       "_view_count": null,
       "_view_module": "@jupyter-widgets/controls",
       "_view_module_version": "1.5.0",
       "_view_name": "VBoxView",
       "box_style": "",
       "children": [
        "IPY_MODEL_c34306fea15b46b2900ebaec5b5ca817",
        "IPY_MODEL_d3cc82ae46004c05a2983121e5c0a80b"
       ],
       "layout": "IPY_MODEL_a3f3efddbe85466b91d75ea796c936f5"
      }
     },
     "f79ca96d9edd4edab455fc0b708388fe": {
      "model_module": "@jupyter-widgets/controls",
      "model_module_version": "1.5.0",
      "model_name": "HTMLModel",
      "state": {
       "_dom_classes": [],
       "_model_module": "@jupyter-widgets/controls",
       "_model_module_version": "1.5.0",
       "_model_name": "HTMLModel",
       "_view_count": null,
       "_view_module": "@jupyter-widgets/controls",
       "_view_module_version": "1.5.0",
       "_view_name": "HTMLView",
       "description": "",
       "description_tooltip": null,
       "layout": "IPY_MODEL_d88c9529e75b47fa90dd02dd8283c0c8",
       "placeholder": "​",
       "style": "IPY_MODEL_512f37da76b14bf29888c4a15b137f29",
       "value": "100%"
      }
     },
     "fa33d515a9d442149a6b09b5da7f6b97": {
      "model_module": "@jupyter-widgets/controls",
      "model_module_version": "1.5.0",
      "model_name": "HBoxModel",
      "state": {
       "_dom_classes": [],
       "_model_module": "@jupyter-widgets/controls",
       "_model_module_version": "1.5.0",
       "_model_name": "HBoxModel",
       "_view_count": null,
       "_view_module": "@jupyter-widgets/controls",
       "_view_module_version": "1.5.0",
       "_view_name": "HBoxView",
       "box_style": "",
       "children": [
        "IPY_MODEL_3eb3f2e0e79a4bd09e64fba17bb40076",
        "IPY_MODEL_2be3788a25c34e62967d5521b6407a93",
        "IPY_MODEL_fb0d1cf71fd748ac987f7056d25ad0d9"
       ],
       "layout": "IPY_MODEL_4b43c2567c5b4dafb7fc5e30a91ce7f9"
      }
     },
     "fb0d1cf71fd748ac987f7056d25ad0d9": {
      "model_module": "@jupyter-widgets/controls",
      "model_module_version": "1.5.0",
      "model_name": "HTMLModel",
      "state": {
       "_dom_classes": [],
       "_model_module": "@jupyter-widgets/controls",
       "_model_module_version": "1.5.0",
       "_model_name": "HTMLModel",
       "_view_count": null,
       "_view_module": "@jupyter-widgets/controls",
       "_view_module_version": "1.5.0",
       "_view_name": "HTMLView",
       "description": "",
       "description_tooltip": null,
       "layout": "IPY_MODEL_b018f1fd8ccf4df3b49ebc86195153ee",
       "placeholder": "​",
       "style": "IPY_MODEL_496d776a5a824d0a83f77579d4234bee",
       "value": " 322k/322k [00:00&lt;00:00, 329kB/s]"
      }
     },
     "ff500ce02d6043658189ecddfeb581bb": {
      "model_module": "@jupyter-widgets/controls",
      "model_module_version": "1.5.0",
      "model_name": "ProgressStyleModel",
      "state": {
       "_model_module": "@jupyter-widgets/controls",
       "_model_module_version": "1.5.0",
       "_model_name": "ProgressStyleModel",
       "_view_count": null,
       "_view_module": "@jupyter-widgets/base",
       "_view_module_version": "1.2.0",
       "_view_name": "StyleView",
       "bar_color": null,
       "description_width": ""
      }
     }
    },
    "version_major": 2,
    "version_minor": 0
   }
  }
 },
 "nbformat": 4,
 "nbformat_minor": 5
}
