{
 "cells": [
  {
   "cell_type": "markdown",
   "id": "2b90f0aa",
   "metadata": {
    "papermill": {
     "duration": 0.007073,
     "end_time": "2022-06-25T05:00:37.370985",
     "exception": false,
     "start_time": "2022-06-25T05:00:37.363912",
     "status": "completed"
    },
    "tags": []
   },
   "source": [
    "## Description\n",
    "\n",
    "Thie notebook is a code for training a token classification model that I wrote about in <a href=\"https://www.kaggle.com/competitions/us-patent-phrase-to-phrase-matching/discussion/332492\" target=\"_blank\">this post</a>.\n",
    "\n",
    "As you will see,  I referred a lot from @yasufuminakama's notebook. If you think this notebook helpful, please upvote <a href=\"https://www.kaggle.com/code/yasufuminakama/pppm-deberta-v3-large-baseline-w-w-b-train\" target=\"_blank\">his notebook</a>.\n"
   ]
  },
  {
   "cell_type": "markdown",
   "id": "032e1ca6",
   "metadata": {
    "papermill": {
     "duration": 0.005432,
     "end_time": "2022-06-25T05:00:37.382771",
     "exception": false,
     "start_time": "2022-06-25T05:00:37.377339",
     "status": "completed"
    },
    "tags": []
   },
   "source": [
    "## Initialization"
   ]
  },
  {
   "cell_type": "code",
   "execution_count": 1,
   "id": "c554ecbf",
   "metadata": {
    "execution": {
     "iopub.execute_input": "2022-06-25T05:00:37.396474Z",
     "iopub.status.busy": "2022-06-25T05:00:37.395982Z",
     "iopub.status.idle": "2022-06-25T05:00:37.409960Z",
     "shell.execute_reply": "2022-06-25T05:00:37.409130Z"
    },
    "papermill": {
     "duration": 0.023247,
     "end_time": "2022-06-25T05:00:37.411934",
     "exception": false,
     "start_time": "2022-06-25T05:00:37.388687",
     "status": "completed"
    },
    "tags": []
   },
   "outputs": [],
   "source": [
    "from __future__ import annotations\n",
    "\n",
    "param = {\n",
    "    'apex': True,\n",
    "    'awp_eps': 1e-2,\n",
    "    'awp_lr': 1e-4,\n",
    "    'batch_size': 1, # 2\n",
    "    'betas': (0.9, 0.999),\n",
    "    'ckpt_name': 'deberta_v3_large',\n",
    "    'debug': True, # False\n",
    "    'decoder_lr': 1e-5,\n",
    "    'encoder_lr': 1e-5,\n",
    "    'eps': 1e-6,\n",
    "    'max_grad_norm': 1000,\n",
    "    'max_len': 400, # 512\n",
    "    'min_lr': 1e-7,\n",
    "    'model_name': 'microsoft/deberta-v3-large',\n",
    "    'n_cycles': 0.5,\n",
    "    'n_epochs': 2, # 12\n",
    "    'n_eval_steps': 100,\n",
    "    'n_folds': 2, # 4\n",
    "    'n_gradient_accumulation_steps': 1,\n",
    "    'n_warmup_steps': 0,\n",
    "    'n_workers': 0,\n",
    "    'nth_awp_start_epoch': 1, # 4\n",
    "    'output_dir': './output/',\n",
    "    'print_freq': 100,\n",
    "    'scheduler_name': 'cosine',\n",
    "    'seed': 42,\n",
    "    'tar_token': '[TAR]',\n",
    "    'weight_decay': 0.01,\n",
    "}\n"
   ]
  },
  {
   "cell_type": "code",
   "execution_count": 2,
   "id": "e62694c9",
   "metadata": {
    "execution": {
     "iopub.execute_input": "2022-06-25T05:00:37.425415Z",
     "iopub.status.busy": "2022-06-25T05:00:37.424672Z",
     "iopub.status.idle": "2022-06-25T05:00:37.429964Z",
     "shell.execute_reply": "2022-06-25T05:00:37.429165Z"
    },
    "papermill": {
     "duration": 0.01432,
     "end_time": "2022-06-25T05:00:37.431829",
     "exception": false,
     "start_time": "2022-06-25T05:00:37.417509",
     "status": "completed"
    },
    "tags": []
   },
   "outputs": [],
   "source": [
    "class Config:\n",
    "    def __init__(self, d: dict) -> None:\n",
    "        for k,v in d.items():\n",
    "            setattr(self, k, v)\n",
    "\n",
    "cfg = Config(d=param)"
   ]
  },
  {
   "cell_type": "code",
   "execution_count": 3,
   "id": "bd1e6be6",
   "metadata": {
    "execution": {
     "iopub.execute_input": "2022-06-25T05:00:37.444725Z",
     "iopub.status.busy": "2022-06-25T05:00:37.443939Z",
     "iopub.status.idle": "2022-06-25T05:00:37.448729Z",
     "shell.execute_reply": "2022-06-25T05:00:37.447934Z"
    },
    "papermill": {
     "duration": 0.013068,
     "end_time": "2022-06-25T05:00:37.450514",
     "exception": false,
     "start_time": "2022-06-25T05:00:37.437446",
     "status": "completed"
    },
    "tags": []
   },
   "outputs": [],
   "source": [
    "import os\n",
    "\n",
    "if not os.path.exists(cfg.output_dir):\n",
    "    os.makedirs(cfg.output_dir)"
   ]
  },
  {
   "cell_type": "code",
   "execution_count": 4,
   "id": "c53d7d9d",
   "metadata": {
    "execution": {
     "iopub.execute_input": "2022-06-25T05:00:37.463232Z",
     "iopub.status.busy": "2022-06-25T05:00:37.462957Z",
     "iopub.status.idle": "2022-06-25T05:00:39.269887Z",
     "shell.execute_reply": "2022-06-25T05:00:39.268712Z"
    },
    "papermill": {
     "duration": 1.816032,
     "end_time": "2022-06-25T05:00:39.272175",
     "exception": false,
     "start_time": "2022-06-25T05:00:37.456143",
     "status": "completed"
    },
    "tags": []
   },
   "outputs": [],
   "source": [
    "import os\n",
    "import random\n",
    "import numpy as np\n",
    "import torch\n",
    "\n",
    "def seed_everything(seed:int) -> None:\n",
    "    random.seed(seed)\n",
    "    os.environ['PYTHONHASHSEED'] = str(seed)\n",
    "    np.random.seed(seed)\n",
    "    torch.manual_seed(seed)\n",
    "    torch.cuda.manual_seed(seed)\n",
    "    torch.backends.cudnn.deterministic = True\n",
    "\n",
    "\n",
    "seed_everything(seed=cfg.seed)"
   ]
  },
  {
   "cell_type": "code",
   "execution_count": 5,
   "id": "ccb1f400",
   "metadata": {
    "execution": {
     "iopub.execute_input": "2022-06-25T05:00:39.285715Z",
     "iopub.status.busy": "2022-06-25T05:00:39.285011Z",
     "iopub.status.idle": "2022-06-25T05:00:39.291869Z",
     "shell.execute_reply": "2022-06-25T05:00:39.290915Z"
    },
    "papermill": {
     "duration": 0.015548,
     "end_time": "2022-06-25T05:00:39.293749",
     "exception": false,
     "start_time": "2022-06-25T05:00:39.278201",
     "status": "completed"
    },
    "tags": []
   },
   "outputs": [],
   "source": [
    "from log import _Logger\n",
    "from logging import getLogger, INFO, StreamHandler, FileHandler, Formatter\n",
    "\n",
    "def get_logger(filename: str) -> _Logger:\n",
    "    logger = getLogger(__name__)\n",
    "    logger.setLevel(INFO)\n",
    "    handler1 = StreamHandler()\n",
    "    handler1.setFormatter(Formatter(\"%(message)s\"))\n",
    "    handler2 = FileHandler(filename=f\"{filename}.log\")\n",
    "    handler2.setFormatter(Formatter(\"%(message)s\"))\n",
    "    logger.addHandler(handler1)\n",
    "    logger.addHandler(handler2)\n",
    "    return logger\n",
    "\n",
    "logger = get_logger(filename=cfg.output_dir+'train')"
   ]
  },
  {
   "cell_type": "markdown",
   "id": "1dd68f8e",
   "metadata": {
    "papermill": {
     "duration": 0.005904,
     "end_time": "2022-06-25T05:00:39.305248",
     "exception": false,
     "start_time": "2022-06-25T05:00:39.299344",
     "status": "completed"
    },
    "tags": []
   },
   "source": [
    "## CV Split"
   ]
  },
  {
   "cell_type": "code",
   "execution_count": 6,
   "id": "28cb3a52",
   "metadata": {
    "execution": {
     "iopub.execute_input": "2022-06-25T05:00:39.318531Z",
     "iopub.status.busy": "2022-06-25T05:00:39.318259Z",
     "iopub.status.idle": "2022-06-25T05:00:40.460577Z",
     "shell.execute_reply": "2022-06-25T05:00:40.459579Z"
    },
    "papermill": {
     "duration": 1.151748,
     "end_time": "2022-06-25T05:00:40.462682",
     "exception": false,
     "start_time": "2022-06-25T05:00:39.310934",
     "status": "completed"
    },
    "tags": []
   },
   "outputs": [
    {
     "data": {
      "text/plain": [
       "fold\n",
       "0    509\n",
       "1    491\n",
       "dtype: int64"
      ]
     },
     "metadata": {},
     "output_type": "display_data"
    }
   ],
   "source": [
    "import pandas as pd\n",
    "pd.set_option('display.max_rows', 500)\n",
    "pd.set_option('display.max_columns', 500)\n",
    "pd.set_option('display.width', 1000)\n",
    "from sklearn.model_selection import StratifiedGroupKFold\n",
    "\n",
    "train_df = pd.read_csv('../input/us-patent-phrase-to-phrase-matching/train.csv')\n",
    "if cfg.debug: \n",
    "    train_df = train_df.sample(n=1000, random_state=cfg.seed).reset_index(drop=True)\n",
    "\n",
    "kf = StratifiedGroupKFold(\n",
    "    n_splits=cfg.n_folds, \n",
    "    shuffle=True, \n",
    "    random_state=cfg.seed\n",
    ")\n",
    "train_df[\"score_map\"] = train_df[\"score\"].map({0.00: 0, 0.25: 1, 0.50: 2, 0.75: 3, 1.00: 4})\n",
    "train_df['fold'] = -1\n",
    "for f, (tx, vx) in enumerate(kf.split(train_df, train_df[\"score_map\"], train_df[\"anchor\"])):\n",
    "    train_df.loc[vx, \"fold\"] = f\n",
    "display(train_df.groupby(\"fold\").size())"
   ]
  },
  {
   "cell_type": "markdown",
   "id": "5237b426",
   "metadata": {
    "papermill": {
     "duration": 0.005709,
     "end_time": "2022-06-25T05:00:40.474795",
     "exception": false,
     "start_time": "2022-06-25T05:00:40.469086",
     "status": "completed"
    },
    "tags": []
   },
   "source": [
    "## Feature Engineering and Data Transformation"
   ]
  },
  {
   "cell_type": "code",
   "execution_count": 7,
   "id": "c47e3ff2",
   "metadata": {
    "execution": {
     "iopub.execute_input": "2022-06-25T05:00:40.488013Z",
     "iopub.status.busy": "2022-06-25T05:00:40.487742Z",
     "iopub.status.idle": "2022-06-25T05:02:26.764251Z",
     "shell.execute_reply": "2022-06-25T05:02:26.763282Z"
    },
    "papermill": {
     "duration": 106.286217,
     "end_time": "2022-06-25T05:02:26.766767",
     "exception": false,
     "start_time": "2022-06-25T05:00:40.480550",
     "status": "completed"
    },
    "tags": []
   },
   "outputs": [
    {
     "name": "stdout",
     "output_type": "stream",
     "text": [
      "[nltk_data] Downloading package stopwords to /usr/share/nltk_data...\n",
      "[nltk_data]   Package stopwords is already up-to-date!\n",
      "[nltk_data] Downloading package wordnet to /usr/share/nltk_data...\n",
      "[nltk_data]   Package wordnet is already up-to-date!\n",
      "[nltk_data] Downloading package omw-1.4 to /usr/share/nltk_data...\n",
      "[nltk_data]   Unzipping corpora/omw-1.4.zip.\n"
     ]
    }
   ],
   "source": [
    "import re\n",
    "from numpy import ndarray\n",
    "import pandas as pd\n",
    "import nltk\n",
    "nltk.download('stopwords')\n",
    "nltk.download('wordnet')\n",
    "nltk.download('omw-1.4')\n",
    "from nltk.stem import PorterStemmer\n",
    "from nltk.stem import WordNetLemmatizer\n",
    "from nltk.corpus import stopwords\n",
    "from sklearn.feature_extraction.text import CountVectorizer\n",
    "\n",
    "def create_word_normalizer() -> function:\n",
    "    ps = PorterStemmer()\n",
    "    lemmatizer = WordNetLemmatizer()\n",
    "    def normalize(word):\n",
    "        w = word.lower()\n",
    "        w = lemmatizer.lemmatize(w)\n",
    "        w = ps.stem(w)\n",
    "        return w\n",
    "    return normalize\n",
    "\n",
    "def __normalize_words(titles: list) -> list:\n",
    "    stop_words = set(stopwords.words('english'))\n",
    "    normalizer = create_word_normalizer()\n",
    "    titles = [normalizer(t) for t in titles if t not in stop_words]\n",
    "    return titles\n",
    "\n",
    "def normalize_words(words: ndarray, unique=True):\n",
    "    if type(words) is str:\n",
    "        words = [words]\n",
    "    sep_re = r'[\\s\\(\\){}\\[\\];,\\.]+'\n",
    "    num_re = r'\\d'\n",
    "    words = re.split(sep_re, ' '.join(words).lower())\n",
    "    words = [w for w in words if len(w) >= 3 and not re.match(num_re, w)]\n",
    "    if unique:\n",
    "        words = list(set(words))\n",
    "        words = set(__normalize_words(words))\n",
    "    else:\n",
    "        words = __normalize_words(words)\n",
    "    return words\n",
    "\n",
    "def filter_title(title: str) -> str:\n",
    "    titles = normalize_words(title, unique=False)\n",
    "    return ','.join([t for t in titles if t in include_words])\n",
    "\n",
    "cpc_codes = pd.read_csv(\"../input/cpc-codes/titles.csv\", engine='python')\n",
    "\n",
    "norm_titles = normalize_words(cpc_codes['title'].to_numpy(), unique=False)\n",
    "anchor_targets = train_df['target'].unique().tolist() + train_df['anchor'].unique().tolist()\n",
    "norm_anchor_targes = normalize_words(anchor_targets)\n",
    "\n",
    "include_words = set(norm_titles) & norm_anchor_targes\n",
    "\n",
    "tmp_cpc_codes = cpc_codes.copy()\n",
    "tmp_cpc_codes = tmp_cpc_codes[cpc_codes['code'].str.len() >= 4]\n",
    "\n",
    "tmp_cpc_codes['section_class'] = tmp_cpc_codes['code'].apply(lambda x: x[:3])\n",
    "title_group_df = tmp_cpc_codes.groupby('section_class', as_index=False)[['title']].agg(list)\n",
    "title_group_df = title_group_df[title_group_df['section_class'].str.len() == 3]\n",
    "title_group_df['title'] = title_group_df['title'].apply(lambda lst: ' '.join(lst))\n",
    "\n",
    "title_group_df['norm_title'] = title_group_df['title'].agg(filter_title)\n",
    "\n",
    "vectorizer = CountVectorizer()\n",
    "c_vect = vectorizer.fit_transform(title_group_df['norm_title'])\n",
    "r = np.argsort(c_vect.toarray(), axis=1)[:, ::-1][::, :400]\n",
    "vect_words = vectorizer.get_feature_names_out()\n",
    "t_words = np.vectorize(lambda v: vect_words[v])(r)\n",
    "\n",
    "norm_title = title_group_df['norm_title'].str.split(',').to_numpy().tolist()\n",
    "res = []\n",
    "for (n, t) in zip(norm_title, t_words):\n",
    "    res.append(','.join(set(n) & set(t)))\n",
    "\n",
    "title_group_df['norm_title'] = res\n",
    "title_group_df['section'] = title_group_df.section_class.str[0:1]\n",
    "title_group_df['section_title'] = title_group_df['section'].map(cpc_codes.set_index('code')['title']).str.lower() + ';' + title_group_df['section_class'].map(cpc_codes.set_index('code')['title']).str.lower()\n",
    "title_group_df['context_text'] = title_group_df['section_title'] + '[SEP]' + title_group_df['norm_title']\n",
    "cpc_texts = dict(title_group_df[['section_class', 'context_text']].to_numpy().tolist())"
   ]
  },
  {
   "cell_type": "code",
   "execution_count": 8,
   "id": "fb7df8b7",
   "metadata": {
    "execution": {
     "iopub.execute_input": "2022-06-25T05:02:26.781350Z",
     "iopub.status.busy": "2022-06-25T05:02:26.781065Z",
     "iopub.status.idle": "2022-06-25T05:02:26.948583Z",
     "shell.execute_reply": "2022-06-25T05:02:26.947648Z"
    },
    "papermill": {
     "duration": 0.176529,
     "end_time": "2022-06-25T05:02:26.950491",
     "exception": false,
     "start_time": "2022-06-25T05:02:26.773962",
     "status": "completed"
    },
    "tags": []
   },
   "outputs": [
    {
     "data": {
      "text/html": [
       "<div>\n",
       "<style scoped>\n",
       "    .dataframe tbody tr th:only-of-type {\n",
       "        vertical-align: middle;\n",
       "    }\n",
       "\n",
       "    .dataframe tbody tr th {\n",
       "        vertical-align: top;\n",
       "    }\n",
       "\n",
       "    .dataframe thead th {\n",
       "        text-align: right;\n",
       "    }\n",
       "</style>\n",
       "<table border=\"1\" class=\"dataframe\">\n",
       "  <thead>\n",
       "    <tr style=\"text-align: right;\">\n",
       "      <th></th>\n",
       "      <th>anchor</th>\n",
       "      <th>context</th>\n",
       "      <th>scores</th>\n",
       "      <th>targets</th>\n",
       "      <th>ids</th>\n",
       "      <th>context_text</th>\n",
       "      <th>fold</th>\n",
       "    </tr>\n",
       "  </thead>\n",
       "  <tbody>\n",
       "    <tr>\n",
       "      <th>0</th>\n",
       "      <td>abatement</td>\n",
       "      <td>A47</td>\n",
       "      <td>[0.5, 0.0]</td>\n",
       "      <td>[pollution abatement incinerator, forest region]</td>\n",
       "      <td>[b3832eac81b73dfd, 54c1e3b9184cb5b6]</td>\n",
       "      <td>human necessities;furniture; domestic articles...</td>\n",
       "      <td>1</td>\n",
       "    </tr>\n",
       "    <tr>\n",
       "      <th>1</th>\n",
       "      <td>abatement</td>\n",
       "      <td>F24</td>\n",
       "      <td>[0.25]</td>\n",
       "      <td>[mitigation]</td>\n",
       "      <td>[8524aecd17299b63]</td>\n",
       "      <td>mechanical engineering; lighting; heating; wea...</td>\n",
       "      <td>1</td>\n",
       "    </tr>\n",
       "    <tr>\n",
       "      <th>2</th>\n",
       "      <td>abnormal position</td>\n",
       "      <td>B23</td>\n",
       "      <td>[0.25]</td>\n",
       "      <td>[open position illustrated]</td>\n",
       "      <td>[b4fc3daf3fc2430b]</td>\n",
       "      <td>performing operations; transporting;machine to...</td>\n",
       "      <td>0</td>\n",
       "    </tr>\n",
       "    <tr>\n",
       "      <th>3</th>\n",
       "      <td>abnormal position</td>\n",
       "      <td>B41</td>\n",
       "      <td>[0.5]</td>\n",
       "      <td>[positions]</td>\n",
       "      <td>[9c0105f34aedca0d]</td>\n",
       "      <td>performing operations; transporting;printing; ...</td>\n",
       "      <td>0</td>\n",
       "    </tr>\n",
       "    <tr>\n",
       "      <th>4</th>\n",
       "      <td>abnormal position</td>\n",
       "      <td>D03</td>\n",
       "      <td>[0.5, 0.0, 0.75]</td>\n",
       "      <td>[locked position, abnormal profit, unexpected ...</td>\n",
       "      <td>[4f8d18e7ee6f98e9, cf244c76da9b3383, f6b53890e...</td>\n",
       "      <td>textiles; paper;weaving[SEP]type,element,compr...</td>\n",
       "      <td>0</td>\n",
       "    </tr>\n",
       "  </tbody>\n",
       "</table>\n",
       "</div>"
      ],
      "text/plain": [
       "              anchor context            scores                                            targets                                                ids                                       context_text  fold\n",
       "0          abatement     A47        [0.5, 0.0]   [pollution abatement incinerator, forest region]               [b3832eac81b73dfd, 54c1e3b9184cb5b6]  human necessities;furniture; domestic articles...     1\n",
       "1          abatement     F24            [0.25]                                       [mitigation]                                 [8524aecd17299b63]  mechanical engineering; lighting; heating; wea...     1\n",
       "2  abnormal position     B23            [0.25]                        [open position illustrated]                                 [b4fc3daf3fc2430b]  performing operations; transporting;machine to...     0\n",
       "3  abnormal position     B41             [0.5]                                        [positions]                                 [9c0105f34aedca0d]  performing operations; transporting;printing; ...     0\n",
       "4  abnormal position     D03  [0.5, 0.0, 0.75]  [locked position, abnormal profit, unexpected ...  [4f8d18e7ee6f98e9, cf244c76da9b3383, f6b53890e...  textiles; paper;weaving[SEP]type,element,compr...     0"
      ]
     },
     "metadata": {},
     "output_type": "display_data"
    },
    {
     "data": {
      "text/plain": [
       "fold\n",
       "0    357\n",
       "1    342\n",
       "dtype: int64"
      ]
     },
     "metadata": {},
     "output_type": "display_data"
    }
   ],
   "source": [
    "# aggregate by anchor and context\n",
    "af_dict = {}\n",
    "for i,r in train_df[['anchor', 'fold']].iterrows():\n",
    "    af_dict[r.anchor] = r.fold\n",
    "anchor_context_grouped_target = train_df.groupby(['anchor', 'context'])['target'].apply(list)  # target-list\n",
    "anchor_context_grouped_score = train_df.groupby(['anchor', 'context'])['score'].apply(list)  #score-list\n",
    "anchor_context_grouped_id = train_df.groupby(['anchor', 'context'])['id'].apply(list)\n",
    "i = pd.DataFrame(anchor_context_grouped_id).reset_index()\n",
    "s = pd.DataFrame(anchor_context_grouped_score).reset_index()\n",
    "t = pd.DataFrame(anchor_context_grouped_target).reset_index()\n",
    "train_df = s.merge(t, on=['anchor', 'context'])\n",
    "train_df = train_df.merge(i, on=['anchor', 'context'])\n",
    "train_df['context_text'] = train_df['context'].map(cpc_texts)\n",
    "train_df = train_df.rename(columns={'target': 'targets', 'score': 'scores', 'id': 'ids'})\n",
    "train_df['fold'] = train_df['anchor'].map(af_dict)\n",
    "display(train_df.head())\n",
    "display(train_df.groupby('fold').size())"
   ]
  },
  {
   "cell_type": "markdown",
   "id": "ca727e36",
   "metadata": {
    "papermill": {
     "duration": 0.006569,
     "end_time": "2022-06-25T05:02:26.963653",
     "exception": false,
     "start_time": "2022-06-25T05:02:26.957084",
     "status": "completed"
    },
    "tags": []
   },
   "source": [
    "## Tokenizer"
   ]
  },
  {
   "cell_type": "code",
   "execution_count": 9,
   "id": "7093abd5",
   "metadata": {
    "execution": {
     "iopub.execute_input": "2022-06-25T05:02:26.977989Z",
     "iopub.status.busy": "2022-06-25T05:02:26.977081Z",
     "iopub.status.idle": "2022-06-25T05:02:36.712341Z",
     "shell.execute_reply": "2022-06-25T05:02:36.711366Z"
    },
    "papermill": {
     "duration": 9.744401,
     "end_time": "2022-06-25T05:02:36.714486",
     "exception": false,
     "start_time": "2022-06-25T05:02:26.970085",
     "status": "completed"
    },
    "tags": []
   },
   "outputs": [
    {
     "data": {
      "application/vnd.jupyter.widget-view+json": {
       "model_id": "500f6885480b422aa5f506726261c89a",
       "version_major": 2,
       "version_minor": 0
      },
      "text/plain": [
       "Downloading:   0%|          | 0.00/52.0 [00:00<?, ?B/s]"
      ]
     },
     "metadata": {},
     "output_type": "display_data"
    },
    {
     "data": {
      "application/vnd.jupyter.widget-view+json": {
       "model_id": "1c620894c1ea4e538479327f7bdd50c4",
       "version_major": 2,
       "version_minor": 0
      },
      "text/plain": [
       "Downloading:   0%|          | 0.00/580 [00:00<?, ?B/s]"
      ]
     },
     "metadata": {},
     "output_type": "display_data"
    },
    {
     "data": {
      "application/vnd.jupyter.widget-view+json": {
       "model_id": "5a4c4b883a384daca418a1a657fa3404",
       "version_major": 2,
       "version_minor": 0
      },
      "text/plain": [
       "Downloading:   0%|          | 0.00/2.35M [00:00<?, ?B/s]"
      ]
     },
     "metadata": {},
     "output_type": "display_data"
    },
    {
     "name": "stderr",
     "output_type": "stream",
     "text": [
      "Special tokens have been added in the vocabulary, make sure the associated word embeddings are fine-tuned or trained.\n",
      "tar_token_id: 128001\n"
     ]
    },
    {
     "data": {
      "text/plain": [
       "('./output/tokenizer/tokenizer_config.json',\n",
       " './output/tokenizer/special_tokens_map.json',\n",
       " './output/tokenizer/spm.model',\n",
       " './output/tokenizer/added_tokens.json')"
      ]
     },
     "execution_count": 9,
     "metadata": {},
     "output_type": "execute_result"
    }
   ],
   "source": [
    "from transformers import AutoTokenizer\n",
    "\n",
    "tokenizer = AutoTokenizer.from_pretrained(cfg.model_name)\n",
    "special_tokens_dict = {'additional_special_tokens': [f'[{cfg.tar_token}]']}\n",
    "tokenizer.add_special_tokens(special_tokens_dict)\n",
    "tar_token_id = tokenizer(f'[{cfg.tar_token}]', add_special_tokens=False)['input_ids'][0]\n",
    "logger.info(f'tar_token_id: {tar_token_id}')\n",
    "setattr(tokenizer, 'tar_token', f'[{cfg.tar_token}]')\n",
    "setattr(tokenizer, 'tar_token_id', tar_token_id)\n",
    "tokenizer.save_pretrained(f'{cfg.output_dir}tokenizer/')"
   ]
  },
  {
   "cell_type": "markdown",
   "id": "2d75ec48",
   "metadata": {
    "papermill": {
     "duration": 0.006659,
     "end_time": "2022-06-25T05:02:36.728293",
     "exception": false,
     "start_time": "2022-06-25T05:02:36.721634",
     "status": "completed"
    },
    "tags": []
   },
   "source": [
    "## Dataset"
   ]
  },
  {
   "cell_type": "code",
   "execution_count": 10,
   "id": "0ae0b5b4",
   "metadata": {
    "execution": {
     "iopub.execute_input": "2022-06-25T05:02:36.743860Z",
     "iopub.status.busy": "2022-06-25T05:02:36.743578Z",
     "iopub.status.idle": "2022-06-25T05:02:36.760199Z",
     "shell.execute_reply": "2022-06-25T05:02:36.759369Z"
    },
    "papermill": {
     "duration": 0.026942,
     "end_time": "2022-06-25T05:02:36.762176",
     "exception": false,
     "start_time": "2022-06-25T05:02:36.735234",
     "status": "completed"
    },
    "tags": []
   },
   "outputs": [],
   "source": [
    "import random\n",
    "from pandas import DataFrame\n",
    "from torch import Tensor\n",
    "from torch.utils.data import Dataset\n",
    "from transformers.tokenization_utils import PreTrainedTokenizer\n",
    "\n",
    "class TrainDataset(Dataset):\n",
    "    def __init__(self, df: DataFrame, is_valid: bool, tokenizer: PreTrainedTokenizer, max_len: int):\n",
    "        self.anchors = df['anchor'].to_numpy()\n",
    "        self.target_lists = df['targets'].to_numpy()\n",
    "        self.id_lists = df['ids'].to_numpy()\n",
    "        self.context_texts = df['context_text'].to_numpy()\n",
    "        self.score_lists = df['scores'].to_numpy()\n",
    "        self.is_valid = is_valid\n",
    "        self.tokenizer = tokenizer\n",
    "        self.max_len = max_len\n",
    "\n",
    "    def __len__(self) -> int:\n",
    "        return len(self.id_lists)\n",
    "\n",
    "    def __getitem__(self, item: int) -> \"tuple[dict, Tensor, Tensor]\":\n",
    "        \n",
    "        scores = np.array(self.score_lists[item])\n",
    "        target_mask = np.zeros(self.max_len)\n",
    "        targets = np.array(self.target_lists[item])\n",
    "\n",
    "        if not self.is_valid:\n",
    "            indices = list(range(len(scores)))\n",
    "            random.shuffle(indices)\n",
    "            scores = scores[indices]\n",
    "            targets = targets[indices]\n",
    "\n",
    "        text = ''\n",
    "        text += self.tokenizer.cls_token\n",
    "        text += self.anchors[item]\n",
    "        text += self.tokenizer.sep_token\n",
    "        for target in targets:\n",
    "            text += target + self.tokenizer.tar_token\n",
    "        text += self.context_texts[item] + self.tokenizer.sep_token\n",
    "        \n",
    "        encoded = self.tokenizer(\n",
    "            text,\n",
    "            max_length = self.max_len,\n",
    "            padding='max_length',\n",
    "            add_special_tokens=False,\n",
    "            truncation=True\n",
    "        )\n",
    "\n",
    "        # [cls]+[anchor]+[sep]+[target]+[tar]+[target]+[tar]...+[tar]+[cpc_text]+[sep]\n",
    "        label = torch.full([self.max_len], -1, dtype=torch.float)\n",
    "        \n",
    "        cnt_tar = 0\n",
    "        cnt_sep = 0\n",
    "        nth_target = -1\n",
    "        prev_i = -1\n",
    "\n",
    "        for i, input_id in enumerate(encoded['input_ids']):\n",
    "            if input_id == self.tokenizer.tar_token_id:\n",
    "                cnt_tar += 1\n",
    "                if cnt_tar == len(targets):\n",
    "                    break\n",
    "            if input_id == self.tokenizer.sep_token_id:\n",
    "                cnt_sep += 1\n",
    "            \n",
    "            if cnt_sep == 1 and input_id not in [self.tokenizer.pad_token_id, self.tokenizer.sep_token_id, self.tokenizer.tar_token_id]:\n",
    "                if (i-prev_i) > 1:\n",
    "                    nth_target += 1\n",
    "                label[i] = scores[nth_target]\n",
    "                target_mask[i] = 1\n",
    "                prev_i = i\n",
    "\n",
    "        for k,v in encoded.items():\n",
    "            encoded[k] = torch.tensor(v, dtype=torch.long)\n",
    "\n",
    "        return encoded, target_mask, label"
   ]
  },
  {
   "cell_type": "markdown",
   "id": "19f5a772",
   "metadata": {
    "papermill": {
     "duration": 0.006481,
     "end_time": "2022-06-25T05:02:36.775403",
     "exception": false,
     "start_time": "2022-06-25T05:02:36.768922",
     "status": "completed"
    },
    "tags": []
   },
   "source": [
    "## Model and AWP"
   ]
  },
  {
   "cell_type": "code",
   "execution_count": 11,
   "id": "662160b2",
   "metadata": {
    "execution": {
     "iopub.execute_input": "2022-06-25T05:02:36.790106Z",
     "iopub.status.busy": "2022-06-25T05:02:36.789812Z",
     "iopub.status.idle": "2022-06-25T05:02:36.809022Z",
     "shell.execute_reply": "2022-06-25T05:02:36.808182Z"
    },
    "papermill": {
     "duration": 0.028791,
     "end_time": "2022-06-25T05:02:36.810922",
     "exception": false,
     "start_time": "2022-06-25T05:02:36.782131",
     "status": "completed"
    },
    "tags": []
   },
   "outputs": [],
   "source": [
    "from torch import Tensor\n",
    "from torch.nn import Module\n",
    "from transformers import AutoModel, AutoConfig\n",
    "\n",
    "class CustomModel(Module):\n",
    "    def __init__(self, model_name: str, n_vocabs: int) -> None:\n",
    "        super().__init__()\n",
    "        self.cfg = cfg\n",
    "        self.model_config = AutoConfig.from_pretrained(\n",
    "            model_name, output_hidden_states=True)\n",
    "        self.model = AutoModel.from_pretrained(\n",
    "            model_name, config=self.model_config)\n",
    "        self.model.resize_token_embeddings(n_vocabs)\n",
    "        self.fc = nn.Linear(self.model_config.hidden_size, 1)\n",
    "        self._init_weights(self.fc)\n",
    "\n",
    "    def _init_weights(self, module: Module) -> None:\n",
    "        if isinstance(module, nn.Linear):\n",
    "            module.weight.data.normal_(\n",
    "                mean=0.0, std=self.model_config.initializer_range)\n",
    "            if module.bias is not None:\n",
    "                module.bias.data.zero_()\n",
    "        elif isinstance(module, nn.Embedding):\n",
    "            module.weight.data.normal_(\n",
    "                mean=0.0, std=self.model_config.initializer_range)\n",
    "            if module.padding_idx is not None:\n",
    "                module.weight.data[module.padding_idx].zero_()\n",
    "        elif isinstance(module, nn.LayerNorm):\n",
    "            module.bias.data.zero_()\n",
    "            module.weight.data.fill_(1.0)\n",
    "\n",
    "    def feature(self, inputs: dict) -> Tensor:\n",
    "        outputs = self.model(**inputs)\n",
    "        last_hidden_states = outputs[0]  #最后一层的hidden n*l*d\n",
    "        return last_hidden_states\n",
    "\n",
    "    def forward(self, inputs: dict) -> Tensor:\n",
    "        feature = self.feature(inputs)\n",
    "        output = self.fc(feature).squeeze(-1)  #n*l\n",
    "        return output"
   ]
  },
  {
   "cell_type": "code",
   "execution_count": 12,
   "id": "50eb2cd3",
   "metadata": {
    "execution": {
     "iopub.execute_input": "2022-06-25T05:02:36.826409Z",
     "iopub.status.busy": "2022-06-25T05:02:36.825950Z",
     "iopub.status.idle": "2022-06-25T05:02:36.842365Z",
     "shell.execute_reply": "2022-06-25T05:02:36.841464Z"
    },
    "papermill": {
     "duration": 0.026453,
     "end_time": "2022-06-25T05:02:36.844255",
     "exception": false,
     "start_time": "2022-06-25T05:02:36.817802",
     "status": "completed"
    },
    "tags": []
   },
   "outputs": [],
   "source": [
    "from torch import Tensor\n",
    "from torch.nn import Module\n",
    "from torch.optim import Optimizer\n",
    "from torch.nn.modules.loss import _Loss\n",
    "\n",
    "class AWP:\n",
    "    def __init__(\n",
    "        self,\n",
    "        model: Module,\n",
    "        criterion: _Loss,\n",
    "        optimizer: Optimizer,\n",
    "        apex: bool,\n",
    "        adv_param: str=\"weight\",\n",
    "        adv_lr: float=1.0,\n",
    "        adv_eps: float=0.01\n",
    "    ) -> None:\n",
    "        self.model = model\n",
    "        self.criterion = criterion\n",
    "        self.optimizer = optimizer\n",
    "        self.adv_param = adv_param\n",
    "        self.adv_lr = adv_lr\n",
    "        self.adv_eps = adv_eps\n",
    "        self.apex = apex\n",
    "        self.backup = {}\n",
    "        self.backup_eps = {}\n",
    "\n",
    "    def attack_backward(self, inputs: dict, label: Tensor) -> Tensor:\n",
    "        with torch.cuda.amp.autocast(enabled=self.apex):\n",
    "            self._save()\n",
    "            self._attack_step() # モデルを近傍の悪い方へ改変\n",
    "            y_preds = self.model(inputs)\n",
    "            adv_loss = self.criterion(\n",
    "                y_preds.view(-1, 1), label.view(-1, 1))\n",
    "            mask = (label.view(-1, 1) != -1)\n",
    "            adv_loss = torch.masked_select(adv_loss, mask).mean()\n",
    "            self.optimizer.zero_grad()\n",
    "        return adv_loss\n",
    "\n",
    "    def _attack_step(self) -> None:\n",
    "        e = 1e-6\n",
    "        for name, param in self.model.named_parameters():\n",
    "            if param.requires_grad and param.grad is not None and self.adv_param in name:\n",
    "                norm1 = torch.norm(param.grad)\n",
    "                norm2 = torch.norm(param.data.detach())\n",
    "                if norm1 != 0 and not torch.isnan(norm1):\n",
    "                    # 直前に損失関数に通してパラメータの勾配を取得できるようにしておく必要あり\n",
    "                    r_at = self.adv_lr * param.grad / (norm1 + e) * (norm2 + e)\n",
    "                    param.data.add_(r_at)\n",
    "                    param.data = torch.min(\n",
    "                        torch.max(\n",
    "                            param.data, self.backup_eps[name][0]), self.backup_eps[name][1]\n",
    "                    )\n",
    "\n",
    "    def _save(self) -> None:\n",
    "        for name, param in self.model.named_parameters():\n",
    "            if param.requires_grad and param.grad is not None and self.adv_param in name:\n",
    "                if name not in self.backup:\n",
    "                    self.backup[name] = param.data.clone()\n",
    "                    grad_eps = self.adv_eps * param.abs().detach()\n",
    "                    self.backup_eps[name] = (\n",
    "                        self.backup[name] - grad_eps,\n",
    "                        self.backup[name] + grad_eps,\n",
    "                    )\n",
    "\n",
    "    def _restore(self) -> None:\n",
    "        for name, param in self.model.named_parameters():\n",
    "            if name in self.backup:\n",
    "                param.data = self.backup[name]\n",
    "        self.backup = {}\n",
    "        self.backup_eps = {}"
   ]
  },
  {
   "cell_type": "markdown",
   "id": "fedeb438",
   "metadata": {
    "execution": {
     "iopub.execute_input": "2022-06-25T04:09:58.819895Z",
     "iopub.status.busy": "2022-06-25T04:09:58.818014Z",
     "iopub.status.idle": "2022-06-25T04:09:58.832036Z",
     "shell.execute_reply": "2022-06-25T04:09:58.830674Z",
     "shell.execute_reply.started": "2022-06-25T04:09:58.819840Z"
    },
    "papermill": {
     "duration": 0.006593,
     "end_time": "2022-06-25T05:02:36.857614",
     "exception": false,
     "start_time": "2022-06-25T05:02:36.851021",
     "status": "completed"
    },
    "tags": []
   },
   "source": [
    "## Trainer"
   ]
  },
  {
   "cell_type": "code",
   "execution_count": 13,
   "id": "bf11833c",
   "metadata": {
    "execution": {
     "iopub.execute_input": "2022-06-25T05:02:36.872461Z",
     "iopub.status.busy": "2022-06-25T05:02:36.872218Z",
     "iopub.status.idle": "2022-06-25T05:02:36.931264Z",
     "shell.execute_reply": "2022-06-25T05:02:36.930469Z"
    },
    "papermill": {
     "duration": 0.068702,
     "end_time": "2022-06-25T05:02:36.933155",
     "exception": false,
     "start_time": "2022-06-25T05:02:36.864453",
     "status": "completed"
    },
    "tags": []
   },
   "outputs": [],
   "source": [
    "import os\n",
    "import gc\n",
    "from log import _Logger\n",
    "import random\n",
    "import warnings\n",
    "from functools import reduce\n",
    "warnings.filterwarnings(\"ignore\")\n",
    "import numpy as np\n",
    "from numpy import ndarray\n",
    "import scipy as sp\n",
    "import torch\n",
    "from torch import inference_mode\n",
    "from torch import nn\n",
    "from torch.optim import AdamW\n",
    "from torch.utils.data import DataLoader, Dataset\n",
    "from torch.optim.lr_scheduler import _LRScheduler\n",
    "from IPython.display import display\n",
    "from transformers import get_linear_schedule_with_warmup, get_cosine_schedule_with_warmup\n",
    "os.environ[\"TOKENIZERS_PARALLELISM\"] = \"true\"\n",
    "\n",
    "\n",
    "def get_score(y_true: ndarray, y_pred: ndarray) -> float:\n",
    "    score = sp.stats.pearsonr(y_true, y_pred)[0]\n",
    "    return score\n",
    "\n",
    "class Trainer:\n",
    "\n",
    "    def __init__(self, cfg:Config, logger: _Logger, tokenizer: PreTrainedTokenizer) -> None:\n",
    "        self.cfg = cfg\n",
    "        self.logger = logger\n",
    "        self.tokenizer = tokenizer\n",
    "\n",
    "    def save_ckpt(self, fold: int, model: Module, predictions: ndarray) -> None:\n",
    "        torch.save(\n",
    "            {'model': model.state_dict(), 'predictions': predictions},\n",
    "            f'{self.cfg.output_dir}{self.cfg.ckpt_name}_fold{fold}_best.pth'\n",
    "        )\n",
    "        self.logger.info('model has been saved.')\n",
    "\n",
    "    @inference_mode()\n",
    "    def valid_fn(self, dl: DataLoader, model: Module, criterion: _Loss) -> \"tuple[float, list[list[float]]]\":\n",
    "        model.eval()\n",
    "        preds = []\n",
    "        tot_loss = 0\n",
    "        for step, (inputs, target_masks, labels) in enumerate(dl):\n",
    "\n",
    "            for k, v in inputs.items():\n",
    "                inputs[k] = v.cuda()\n",
    "            labels = labels.cuda()\n",
    "            \n",
    "            y_preds = model(inputs) # (batch_size, max_len)\n",
    "\n",
    "            loss = criterion(y_preds.view(-1, 1), labels.view(-1, 1))\n",
    "            mask = (labels.view(-1, 1) != -1)\n",
    "            loss = torch.masked_select(loss, mask)\n",
    "            loss = loss.mean()\n",
    "            \n",
    "            if self.cfg.n_gradient_accumulation_steps > 1:\n",
    "                loss = loss / self.cfg.n_gradient_accumulation_steps\n",
    "            tot_loss += loss.item()\n",
    "\n",
    "            y_preds = y_preds.sigmoid().to('cpu').numpy()\n",
    "            labels = labels.to('cpu').numpy() # (batch_size, max_len)\n",
    "\n",
    "            anchorwise_preds = []\n",
    "            for pred, target_mask, in zip(y_preds, target_masks):\n",
    "                prev_i = -1\n",
    "                targetwise_pred_scores = []\n",
    "                for i, (p, tm) in enumerate(zip(pred, target_mask)):\n",
    "                    if tm != 0:\n",
    "                        if i-1 == prev_i:\n",
    "                            targetwise_pred_scores[-1].append(p)\n",
    "                        else:\n",
    "                            targetwise_pred_scores.append([p])\n",
    "                        prev_i = i\n",
    "                for targetwise_pred_score in targetwise_pred_scores:\n",
    "                    anchorwise_preds.append(np.mean(targetwise_pred_score))\n",
    "            preds.append(anchorwise_preds)\n",
    "\n",
    "            if step % cfg.print_freq == 0 or step == (len(dl) - 1):\n",
    "                print('EVAL: [{0}/{1}] '\n",
    "                    'Loss: {loss:.4f}({avg_loss:.4f}) '\n",
    "                    .format(step, len(dl),\n",
    "                            loss=loss.item(),\n",
    "                           avg_loss=tot_loss/(step+1))\n",
    "                )\n",
    "        \n",
    "        return tot_loss/(step+1), preds\n",
    "\n",
    "    def train_with_eval(self,\n",
    "                        fold: int,\n",
    "                        train_loader: DataLoader,\n",
    "                        valid_loader: DataLoader,\n",
    "                        valid_labels: ndarray,\n",
    "                        model: Module,\n",
    "                        criterion: _Loss,\n",
    "                        optimizer: Optimizer,\n",
    "                        epoch: int,\n",
    "                        scheduler: _LRScheduler,\n",
    "                        best_score: float) -> \"tuple[float, float]\":\n",
    "        \n",
    "        if not epoch < self.cfg.nth_awp_start_epoch:\n",
    "            self.logger.info(f'AWP training with epoch {epoch+1}')\n",
    "\n",
    "        model.train()\n",
    "        awp = AWP(\n",
    "            model, \n",
    "            criterion, \n",
    "            optimizer,\n",
    "            self.cfg.apex,\n",
    "            adv_lr=self.cfg.awp_lr, \n",
    "            adv_eps=self.cfg.awp_eps\n",
    "        )\n",
    "        scaler = torch.cuda.amp.GradScaler(enabled=self.cfg.apex)\n",
    "        global_step = 0\n",
    "        tot_loss = 0\n",
    "        for step, (inputs, _, labels) in enumerate(train_loader):\n",
    "            for k, v in inputs.items():\n",
    "                inputs[k] = v.cuda()\n",
    "            labels = labels.cuda()\n",
    "            with torch.cuda.amp.autocast(enabled=self.cfg.apex):\n",
    "                y_preds = model(inputs)\n",
    "\n",
    "            loss = criterion(y_preds.view(-1, 1), labels.view(-1, 1))\n",
    "            mask = (labels.view(-1, 1) != -1)\n",
    "            loss = torch.masked_select(loss, mask).mean()\n",
    "            \n",
    "            if self.cfg.n_gradient_accumulation_steps > 1:\n",
    "                loss = loss / self.cfg.n_gradient_accumulation_steps\n",
    "            scaler.scale(loss).backward()\n",
    "            grad_norm = torch.nn.utils.clip_grad_norm_(\n",
    "                model.parameters(), \n",
    "                self.cfg.max_grad_norm)\n",
    "\n",
    "            if self.cfg.nth_awp_start_epoch <= epoch:\n",
    "                loss = awp.attack_backward(inputs, labels)\n",
    "                scaler.scale(loss).backward()\n",
    "                awp._restore()\n",
    "            tot_loss += loss.item()\n",
    "\n",
    "            if (step + 1) % self.cfg.n_gradient_accumulation_steps == 0:\n",
    "                scaler.step(optimizer)\n",
    "                scaler.update()\n",
    "                optimizer.zero_grad()\n",
    "                global_step += 1\n",
    "                scheduler.step()\n",
    "\n",
    "            if step % self.cfg.print_freq == 0 or step == (len(train_loader) - 1):\n",
    "                self.logger.info('Epoch: [{0}][{1}/{2}] '\n",
    "                    'Loss: {loss:.4f}({avg_loss:.4f}) '\n",
    "                    'Grad: {grad_norm:.4f}  '\n",
    "                    'LR: {lr:.8f}  '\n",
    "                    .format(epoch + 1, step, len(train_loader),\n",
    "                            loss=loss.item(),\n",
    "                            avg_loss=tot_loss/(step+1),\n",
    "                            grad_norm=grad_norm,\n",
    "                            lr=scheduler.get_lr()[0]))\n",
    "\n",
    "            if (step + 1) % self.cfg.n_eval_steps == 0:\n",
    "                \n",
    "                val_loss, predictions = self.valid_fn(\n",
    "                    valid_loader, model, criterion)\n",
    "                score = get_score(\n",
    "                    valid_labels, \n",
    "                    np.array(reduce(lambda a,b: a+b, predictions)))\n",
    "                logger.info(\n",
    "                    f'Epoch {epoch+1} - avg_train_loss: {tot_loss/(step+1):.4f}  avg_val_loss: {val_loss:.4f}')\n",
    "                logger.info(f'Epoch {epoch+1} Step  Score: {score:.4f}')\n",
    "                if best_score < score:\n",
    "                    best_score = score\n",
    "                    logger.info({f\"[fold{fold}] best score\": score})\n",
    "                    self.save_ckpt(fold, model, np.array(reduce(lambda a,b: a+b, predictions)))\n",
    "                model.train()\n",
    "        return tot_loss/(step+1), best_score\n",
    "\n",
    "\n",
    "    def train_loop(self, folds: DataFrame, fold: int) -> DataFrame:\n",
    "\n",
    "        self.logger.info(f\"========== fold: {fold} training ==========\")\n",
    "\n",
    "        train_folds = folds[folds['fold'] != fold].reset_index(drop=True)\n",
    "        valid_folds = folds[folds['fold'] == fold].reset_index(drop=True)\n",
    "        valid_labels = valid_folds['scores'].explode().to_numpy()\n",
    "\n",
    "        train_dataset = TrainDataset(\n",
    "            df=train_folds, is_valid=False, tokenizer=self.tokenizer, max_len=self.cfg.max_len)\n",
    "        valid_dataset = TrainDataset(\n",
    "            df=valid_folds, is_valid=True, tokenizer=self.tokenizer, max_len=self.cfg.max_len)\n",
    "\n",
    "        train_loader = DataLoader(train_dataset,\n",
    "                                batch_size=self.cfg.batch_size,\n",
    "                                shuffle=True,\n",
    "                                num_workers=self.cfg.n_workers, \n",
    "                                pin_memory=True, \n",
    "                                drop_last=True)\n",
    "        valid_loader = DataLoader(valid_dataset,\n",
    "                                batch_size=self.cfg.batch_size*2,\n",
    "                                shuffle=False,\n",
    "                                num_workers=self.cfg.n_workers, \n",
    "                                pin_memory=True, \n",
    "                                drop_last=False)\n",
    "\n",
    "        model = CustomModel(\n",
    "            self.cfg.model_name, n_vocabs=len(self.tokenizer))\n",
    "        torch.save(model.model_config, f'{self.cfg.output_dir}config.pth')\n",
    "        model.cuda()\n",
    "\n",
    "        def get_optimizer_params(model, encoder_lr, decoder_lr, weight_decay=0.0):\n",
    "            no_decay = [\"bias\", \"LayerNorm.bias\", \"LayerNorm.weight\"]\n",
    "            optimizer_parameters = [\n",
    "                {'params': [p for n, p in model.model.named_parameters() if not any(nd in n for nd in no_decay)],\n",
    "                'lr': encoder_lr, 'weight_decay': weight_decay},\n",
    "                {'params': [p for n, p in model.model.named_parameters() if any(nd in n for nd in no_decay)],\n",
    "                'lr': encoder_lr, 'weight_decay': 0.0},\n",
    "                {'params': [p for n, p in model.named_parameters() if \"model\" not in n],\n",
    "                'lr': decoder_lr, 'weight_decay': 0.0}\n",
    "            ]\n",
    "            return optimizer_parameters\n",
    "\n",
    "        optimizer_parameters = get_optimizer_params(model,\n",
    "                                                    encoder_lr=self.cfg.encoder_lr,\n",
    "                                                    decoder_lr=self.cfg.decoder_lr,\n",
    "                                                    weight_decay=self.cfg.weight_decay)\n",
    "        optimizer = AdamW(\n",
    "            optimizer_parameters, \n",
    "            lr=self.cfg.encoder_lr,\n",
    "            eps=self.cfg.eps, \n",
    "            betas=self.cfg.betas)\n",
    "\n",
    "\n",
    "        def get_scheduler(scheduler_name: str, optimizer: Optimizer, num_train_steps: int, n_cycles: int) -> _LRScheduler:\n",
    "            if scheduler_name == 'linear':\n",
    "                scheduler = get_linear_schedule_with_warmup(\n",
    "                    optimizer, num_warmup_steps=cfg.n_warmup_steps, num_training_steps=num_train_steps\n",
    "                )\n",
    "            elif scheduler_name == 'cosine':\n",
    "                scheduler = get_cosine_schedule_with_warmup(\n",
    "                    optimizer, num_warmup_steps=cfg.n_warmup_steps, num_training_steps=num_train_steps, num_cycles=n_cycles\n",
    "                )\n",
    "            return scheduler\n",
    "\n",
    "        num_train_steps = int(len(train_folds) / self.cfg.batch_size * self.cfg.n_epochs)\n",
    "        scheduler = get_scheduler(\n",
    "            cfg.scheduler_name, optimizer, num_train_steps, cfg.n_cycles)\n",
    "\n",
    "        criterion = nn.BCEWithLogitsLoss(reduction=\"none\")\n",
    "\n",
    "        best_score = -1000.0\n",
    "\n",
    "        for epoch in range(self.cfg.n_epochs):\n",
    "\n",
    "            avg_loss, best_score = self.train_with_eval(\n",
    "                fold, \n",
    "                train_loader, \n",
    "                valid_loader, \n",
    "                valid_labels,\n",
    "                model, \n",
    "                criterion, \n",
    "                optimizer, \n",
    "                epoch, \n",
    "                scheduler, \n",
    "                best_score)\n",
    "\n",
    "            avg_val_loss, predictions = self.valid_fn(\n",
    "                valid_loader, model, criterion)\n",
    "\n",
    "            # scoring\n",
    "            score = get_score(valid_labels, np.array(reduce(lambda a,b: a+b, predictions)))\n",
    "\n",
    "            logger.info(\n",
    "                f'Epoch {epoch+1} - avg_train_loss: {avg_loss:.4f}  avg_val_loss: {avg_val_loss:.4f}')\n",
    "            logger.info(f'Epoch {epoch+1} - Score: {score:.4f}')\n",
    "\n",
    "            if best_score < score:\n",
    "                best_score = score\n",
    "                logger.info(\n",
    "                    f'Epoch {epoch+1} - Save Best Score: {best_score:.4f} Model')\n",
    "                self.save_ckpt(fold, model, np.array(reduce(lambda a,b: a+b, predictions)))\n",
    "\n",
    "        predictions = torch.load(f\"{self.cfg.output_dir}{self.cfg.ckpt_name}_fold{fold}_best.pth\",\n",
    "                                map_location=torch.device('cpu'))['predictions']\n",
    "        # to no-aggregated df\n",
    "        valid_folds = valid_folds.explode(['scores', 'targets', 'ids']).rename(columns={\n",
    "            'scores': 'score',\n",
    "            'targets': 'target',\n",
    "            'ids': 'id',\n",
    "        }).reset_index(drop=True)\n",
    "        valid_folds['pred'] = predictions\n",
    "\n",
    "        torch.cuda.empty_cache(); gc.collect()\n",
    "\n",
    "        return valid_folds\n"
   ]
  },
  {
   "cell_type": "markdown",
   "id": "eb2abe39",
   "metadata": {
    "papermill": {
     "duration": 0.00665,
     "end_time": "2022-06-25T05:02:36.946701",
     "exception": false,
     "start_time": "2022-06-25T05:02:36.940051",
     "status": "completed"
    },
    "tags": []
   },
   "source": [
    "## Run!"
   ]
  },
  {
   "cell_type": "code",
   "execution_count": 14,
   "id": "3111310e",
   "metadata": {
    "execution": {
     "iopub.execute_input": "2022-06-25T05:02:36.961457Z",
     "iopub.status.busy": "2022-06-25T05:02:36.961206Z",
     "iopub.status.idle": "2022-06-25T05:25:14.805370Z",
     "shell.execute_reply": "2022-06-25T05:25:14.804303Z"
    },
    "papermill": {
     "duration": 1357.854074,
     "end_time": "2022-06-25T05:25:14.807588",
     "exception": false,
     "start_time": "2022-06-25T05:02:36.953514",
     "status": "completed"
    },
    "tags": []
   },
   "outputs": [
    {
     "name": "stderr",
     "output_type": "stream",
     "text": [
      "========== fold: 0 training ==========\n"
     ]
    },
    {
     "data": {
      "application/vnd.jupyter.widget-view+json": {
       "model_id": "20dbe92b791147ea9e37bfcdde11a4b8",
       "version_major": 2,
       "version_minor": 0
      },
      "text/plain": [
       "Downloading:   0%|          | 0.00/833M [00:00<?, ?B/s]"
      ]
     },
     "metadata": {},
     "output_type": "display_data"
    },
    {
     "name": "stderr",
     "output_type": "stream",
     "text": [
      "Some weights of the model checkpoint at microsoft/deberta-v3-large were not used when initializing DebertaV2Model: ['mask_predictions.dense.bias', 'lm_predictions.lm_head.LayerNorm.weight', 'lm_predictions.lm_head.dense.weight', 'mask_predictions.classifier.weight', 'mask_predictions.LayerNorm.weight', 'lm_predictions.lm_head.LayerNorm.bias', 'mask_predictions.classifier.bias', 'lm_predictions.lm_head.dense.bias', 'lm_predictions.lm_head.bias', 'mask_predictions.LayerNorm.bias', 'mask_predictions.dense.weight']\n",
      "- This IS expected if you are initializing DebertaV2Model from the checkpoint of a model trained on another task or with another architecture (e.g. initializing a BertForSequenceClassification model from a BertForPreTraining model).\n",
      "- This IS NOT expected if you are initializing DebertaV2Model from the checkpoint of a model that you expect to be exactly identical (initializing a BertForSequenceClassification model from a BertForSequenceClassification model).\n",
      "Epoch: [1][0/342] Loss: 0.6389(0.6389) Grad: inf  LR: 0.00001000  \n"
     ]
    },
    {
     "name": "stdout",
     "output_type": "stream",
     "text": [
      "EVAL: [0/179] Loss: 0.6539(0.6539) \n",
      "EVAL: [100/179] Loss: 0.6782(0.6698) \n"
     ]
    },
    {
     "name": "stderr",
     "output_type": "stream",
     "text": [
      "Epoch 1 - avg_train_loss: 0.6758  avg_val_loss: 0.6700\n",
      "Epoch 1 Step  Score: 0.5000\n",
      "{'[fold0] best score': 0.5000460075729604}\n"
     ]
    },
    {
     "name": "stdout",
     "output_type": "stream",
     "text": [
      "EVAL: [178/179] Loss: 0.7413(0.6700) \n"
     ]
    },
    {
     "name": "stderr",
     "output_type": "stream",
     "text": [
      "model has been saved.\n",
      "Epoch: [1][100/342] Loss: 0.7173(0.6763) Grad: 17181.5000  LR: 0.00000947  \n"
     ]
    },
    {
     "name": "stdout",
     "output_type": "stream",
     "text": [
      "EVAL: [0/179] Loss: 0.6295(0.6295) \n",
      "EVAL: [100/179] Loss: 0.8036(0.6151) \n"
     ]
    },
    {
     "name": "stderr",
     "output_type": "stream",
     "text": [
      "Epoch 1 - avg_train_loss: 0.6642  avg_val_loss: 0.6081\n",
      "Epoch 1 Step  Score: 0.5877\n",
      "{'[fold0] best score': 0.5876581436850818}\n"
     ]
    },
    {
     "name": "stdout",
     "output_type": "stream",
     "text": [
      "EVAL: [178/179] Loss: 0.4476(0.6081) \n"
     ]
    },
    {
     "name": "stderr",
     "output_type": "stream",
     "text": [
      "model has been saved.\n",
      "Epoch: [1][200/342] Loss: 0.5657(0.6637) Grad: 7419.7192  LR: 0.00000802  \n"
     ]
    },
    {
     "name": "stdout",
     "output_type": "stream",
     "text": [
      "EVAL: [0/179] Loss: 0.6223(0.6223) \n",
      "EVAL: [100/179] Loss: 1.0014(0.6329) \n"
     ]
    },
    {
     "name": "stderr",
     "output_type": "stream",
     "text": [
      "Epoch 1 - avg_train_loss: 0.6559  avg_val_loss: 0.6219\n",
      "Epoch 1 Step  Score: 0.6038\n",
      "{'[fold0] best score': 0.6037943071423754}\n"
     ]
    },
    {
     "name": "stdout",
     "output_type": "stream",
     "text": [
      "EVAL: [178/179] Loss: 0.2357(0.6219) \n"
     ]
    },
    {
     "name": "stderr",
     "output_type": "stream",
     "text": [
      "model has been saved.\n",
      "Epoch: [1][300/342] Loss: 0.6513(0.6559) Grad: 11370.4307  LR: 0.00000594  \n",
      "Epoch: [1][341/342] Loss: 0.6967(0.6522) Grad: 3419.4189  LR: 0.00000500  \n"
     ]
    },
    {
     "name": "stdout",
     "output_type": "stream",
     "text": [
      "EVAL: [0/179] Loss: 0.6879(0.6879) \n",
      "EVAL: [100/179] Loss: 0.6237(0.6449) \n"
     ]
    },
    {
     "name": "stderr",
     "output_type": "stream",
     "text": [
      "Epoch 1 - avg_train_loss: 0.6522  avg_val_loss: 0.6485\n",
      "Epoch 1 - Score: 0.6302\n",
      "Epoch 1 - Save Best Score: 0.6302 Model\n"
     ]
    },
    {
     "name": "stdout",
     "output_type": "stream",
     "text": [
      "EVAL: [178/179] Loss: 0.6167(0.6485) \n"
     ]
    },
    {
     "name": "stderr",
     "output_type": "stream",
     "text": [
      "model has been saved.\n",
      "AWP training with epoch 2\n",
      "Epoch: [2][0/342] Loss: 0.6954(0.6954) Grad: inf  LR: 0.00000498  \n"
     ]
    },
    {
     "name": "stdout",
     "output_type": "stream",
     "text": [
      "EVAL: [0/179] Loss: 0.6256(0.6256) \n",
      "EVAL: [100/179] Loss: 0.8963(0.6348) \n"
     ]
    },
    {
     "name": "stderr",
     "output_type": "stream",
     "text": [
      "Epoch 2 - avg_train_loss: 0.7427  avg_val_loss: 0.6246\n",
      "Epoch 2 Step  Score: 0.5940\n"
     ]
    },
    {
     "name": "stdout",
     "output_type": "stream",
     "text": [
      "EVAL: [178/179] Loss: 0.3807(0.6246) \n"
     ]
    },
    {
     "name": "stderr",
     "output_type": "stream",
     "text": [
      "Epoch: [2][100/342] Loss: 0.6192(0.7415) Grad: 10000.9219  LR: 0.00000276  \n"
     ]
    },
    {
     "name": "stdout",
     "output_type": "stream",
     "text": [
      "EVAL: [0/179] Loss: 0.6298(0.6298) \n",
      "EVAL: [100/179] Loss: 0.8052(0.6245) \n"
     ]
    },
    {
     "name": "stderr",
     "output_type": "stream",
     "text": [
      "Epoch 2 - avg_train_loss: 0.7160  avg_val_loss: 0.6186\n",
      "Epoch 2 Step  Score: 0.6220\n"
     ]
    },
    {
     "name": "stdout",
     "output_type": "stream",
     "text": [
      "EVAL: [178/179] Loss: 0.4686(0.6186) \n"
     ]
    },
    {
     "name": "stderr",
     "output_type": "stream",
     "text": [
      "Epoch: [2][200/342] Loss: 0.6649(0.7158) Grad: 9274.5811  LR: 0.00000101  \n"
     ]
    },
    {
     "name": "stdout",
     "output_type": "stream",
     "text": [
      "EVAL: [0/179] Loss: 0.6303(0.6303) \n",
      "EVAL: [100/179] Loss: 0.8090(0.6240) \n"
     ]
    },
    {
     "name": "stderr",
     "output_type": "stream",
     "text": [
      "Epoch 2 - avg_train_loss: 0.7089  avg_val_loss: 0.6182\n",
      "Epoch 2 Step  Score: 0.6249\n"
     ]
    },
    {
     "name": "stdout",
     "output_type": "stream",
     "text": [
      "EVAL: [178/179] Loss: 0.4627(0.6182) \n"
     ]
    },
    {
     "name": "stderr",
     "output_type": "stream",
     "text": [
      "Epoch: [2][300/342] Loss: 0.6752(0.7088) Grad: 4885.8462  LR: 0.00000009  \n",
      "Epoch: [2][341/342] Loss: 0.4150(0.7058) Grad: 37467.5195  LR: 0.00000000  \n"
     ]
    },
    {
     "name": "stdout",
     "output_type": "stream",
     "text": [
      "EVAL: [0/179] Loss: 0.6301(0.6301) \n",
      "EVAL: [100/179] Loss: 0.8105(0.6239) \n"
     ]
    },
    {
     "name": "stderr",
     "output_type": "stream",
     "text": [
      "Epoch 2 - avg_train_loss: 0.7058  avg_val_loss: 0.6182\n",
      "Epoch 2 - Score: 0.6249\n"
     ]
    },
    {
     "name": "stdout",
     "output_type": "stream",
     "text": [
      "EVAL: [178/179] Loss: 0.4611(0.6182) \n"
     ]
    },
    {
     "name": "stderr",
     "output_type": "stream",
     "text": [
      "========== fold: 0 result ==========\n",
      "{'[fold0] best score': 0.6301889423876078}\n",
      "========== fold: 1 training ==========\n",
      "Some weights of the model checkpoint at microsoft/deberta-v3-large were not used when initializing DebertaV2Model: ['mask_predictions.dense.bias', 'lm_predictions.lm_head.LayerNorm.weight', 'lm_predictions.lm_head.dense.weight', 'mask_predictions.classifier.weight', 'mask_predictions.LayerNorm.weight', 'lm_predictions.lm_head.LayerNorm.bias', 'mask_predictions.classifier.bias', 'lm_predictions.lm_head.dense.bias', 'lm_predictions.lm_head.bias', 'mask_predictions.LayerNorm.bias', 'mask_predictions.dense.weight']\n",
      "- This IS expected if you are initializing DebertaV2Model from the checkpoint of a model trained on another task or with another architecture (e.g. initializing a BertForSequenceClassification model from a BertForPreTraining model).\n",
      "- This IS NOT expected if you are initializing DebertaV2Model from the checkpoint of a model that you expect to be exactly identical (initializing a BertForSequenceClassification model from a BertForSequenceClassification model).\n",
      "Epoch: [1][0/357] Loss: 0.7150(0.7150) Grad: inf  LR: 0.00001000  \n"
     ]
    },
    {
     "name": "stdout",
     "output_type": "stream",
     "text": [
      "EVAL: [0/171] Loss: 0.6088(0.6088) \n",
      "EVAL: [100/171] Loss: 0.5750(0.6373) \n"
     ]
    },
    {
     "name": "stderr",
     "output_type": "stream",
     "text": [
      "Epoch 1 - avg_train_loss: 0.6653  avg_val_loss: 0.6335\n",
      "Epoch 1 Step  Score: 0.5646\n",
      "{'[fold1] best score': 0.564616942869419}\n"
     ]
    },
    {
     "name": "stdout",
     "output_type": "stream",
     "text": [
      "EVAL: [170/171] Loss: 0.5365(0.6335) \n"
     ]
    },
    {
     "name": "stderr",
     "output_type": "stream",
     "text": [
      "model has been saved.\n",
      "Epoch: [1][100/357] Loss: 0.7383(0.6661) Grad: 29049.2617  LR: 0.00000951  \n"
     ]
    },
    {
     "name": "stdout",
     "output_type": "stream",
     "text": [
      "EVAL: [0/171] Loss: 0.5718(0.5718) \n",
      "EVAL: [100/171] Loss: 0.5842(0.6380) \n"
     ]
    },
    {
     "name": "stderr",
     "output_type": "stream",
     "text": [
      "Epoch 1 - avg_train_loss: 0.6588  avg_val_loss: 0.6307\n",
      "Epoch 1 Step  Score: 0.5102\n"
     ]
    },
    {
     "name": "stdout",
     "output_type": "stream",
     "text": [
      "EVAL: [170/171] Loss: 0.5155(0.6307) \n"
     ]
    },
    {
     "name": "stderr",
     "output_type": "stream",
     "text": [
      "Epoch: [1][200/357] Loss: 0.6077(0.6585) Grad: 17307.3066  LR: 0.00000817  \n"
     ]
    },
    {
     "name": "stdout",
     "output_type": "stream",
     "text": [
      "EVAL: [0/171] Loss: 0.5699(0.5699) \n",
      "EVAL: [100/171] Loss: 0.5225(0.6487) \n"
     ]
    },
    {
     "name": "stderr",
     "output_type": "stream",
     "text": [
      "Epoch 1 - avg_train_loss: 0.6423  avg_val_loss: 0.6350\n",
      "Epoch 1 Step  Score: 0.6376\n",
      "{'[fold1] best score': 0.6375992128781701}\n"
     ]
    },
    {
     "name": "stdout",
     "output_type": "stream",
     "text": [
      "EVAL: [170/171] Loss: 0.5424(0.6350) \n"
     ]
    },
    {
     "name": "stderr",
     "output_type": "stream",
     "text": [
      "model has been saved.\n",
      "Epoch: [1][300/357] Loss: 0.7119(0.6426) Grad: 11117.2500  LR: 0.00000622  \n",
      "Epoch: [1][356/357] Loss: 0.3728(0.6432) Grad: 55335.4102  LR: 0.00000500  \n"
     ]
    },
    {
     "name": "stdout",
     "output_type": "stream",
     "text": [
      "EVAL: [0/171] Loss: 0.5323(0.5323) \n",
      "EVAL: [100/171] Loss: 0.5729(0.6124) \n"
     ]
    },
    {
     "name": "stderr",
     "output_type": "stream",
     "text": [
      "Epoch 1 - avg_train_loss: 0.6432  avg_val_loss: 0.6072\n",
      "Epoch 1 - Score: 0.6707\n",
      "Epoch 1 - Save Best Score: 0.6707 Model\n"
     ]
    },
    {
     "name": "stdout",
     "output_type": "stream",
     "text": [
      "EVAL: [170/171] Loss: 0.5370(0.6072) \n"
     ]
    },
    {
     "name": "stderr",
     "output_type": "stream",
     "text": [
      "model has been saved.\n",
      "AWP training with epoch 2\n",
      "Epoch: [2][0/357] Loss: 0.3500(0.3500) Grad: inf  LR: 0.00000498  \n"
     ]
    },
    {
     "name": "stdout",
     "output_type": "stream",
     "text": [
      "EVAL: [0/171] Loss: 0.5849(0.5849) \n",
      "EVAL: [100/171] Loss: 0.5738(0.6477) \n"
     ]
    },
    {
     "name": "stderr",
     "output_type": "stream",
     "text": [
      "Epoch 2 - avg_train_loss: 0.6902  avg_val_loss: 0.6464\n",
      "Epoch 2 Step  Score: 0.6588\n"
     ]
    },
    {
     "name": "stdout",
     "output_type": "stream",
     "text": [
      "EVAL: [170/171] Loss: 0.5683(0.6464) \n"
     ]
    },
    {
     "name": "stderr",
     "output_type": "stream",
     "text": [
      "Epoch: [2][100/357] Loss: 0.7620(0.6910) Grad: 57444.5781  LR: 0.00000285  \n"
     ]
    },
    {
     "name": "stdout",
     "output_type": "stream",
     "text": [
      "EVAL: [0/171] Loss: 0.5867(0.5867) \n",
      "EVAL: [100/171] Loss: 0.5749(0.6500) \n"
     ]
    },
    {
     "name": "stderr",
     "output_type": "stream",
     "text": [
      "Epoch 2 - avg_train_loss: 0.6749  avg_val_loss: 0.6489\n",
      "Epoch 2 Step  Score: 0.6495\n"
     ]
    },
    {
     "name": "stdout",
     "output_type": "stream",
     "text": [
      "EVAL: [170/171] Loss: 0.5742(0.6489) \n"
     ]
    },
    {
     "name": "stderr",
     "output_type": "stream",
     "text": [
      "Epoch: [2][200/357] Loss: 0.5738(0.6744) Grad: 27373.9629  LR: 0.00000113  \n"
     ]
    },
    {
     "name": "stdout",
     "output_type": "stream",
     "text": [
      "EVAL: [0/171] Loss: 0.5866(0.5866) \n",
      "EVAL: [100/171] Loss: 0.5761(0.6477) \n"
     ]
    },
    {
     "name": "stderr",
     "output_type": "stream",
     "text": [
      "Epoch 2 - avg_train_loss: 0.6724  avg_val_loss: 0.6463\n",
      "Epoch 2 Step  Score: 0.6501\n"
     ]
    },
    {
     "name": "stdout",
     "output_type": "stream",
     "text": [
      "EVAL: [170/171] Loss: 0.5782(0.6463) \n"
     ]
    },
    {
     "name": "stderr",
     "output_type": "stream",
     "text": [
      "Epoch: [2][300/357] Loss: 0.5810(0.6721) Grad: 42338.1562  LR: 0.00000015  \n",
      "Epoch: [2][356/357] Loss: 0.7282(0.6755) Grad: 29260.8613  LR: 0.00000000  \n"
     ]
    },
    {
     "name": "stdout",
     "output_type": "stream",
     "text": [
      "EVAL: [0/171] Loss: 0.5867(0.5867) \n",
      "EVAL: [100/171] Loss: 0.5764(0.6474) \n"
     ]
    },
    {
     "name": "stderr",
     "output_type": "stream",
     "text": [
      "Epoch 2 - avg_train_loss: 0.6755  avg_val_loss: 0.6461\n",
      "Epoch 2 - Score: 0.6501\n"
     ]
    },
    {
     "name": "stdout",
     "output_type": "stream",
     "text": [
      "EVAL: [170/171] Loss: 0.5786(0.6461) \n"
     ]
    },
    {
     "name": "stderr",
     "output_type": "stream",
     "text": [
      "========== fold: 1 result ==========\n",
      "{'[fold1] best score': 0.6706791332592197}\n",
      "========== CV ==========\n",
      "{'overall score': 0.6301330136014046}\n"
     ]
    }
   ],
   "source": [
    "trainer = Trainer(\n",
    "    cfg=cfg,\n",
    "    logger=logger,\n",
    "    tokenizer=tokenizer\n",
    ")\n",
    "oof_df = pd.DataFrame()\n",
    "for fold in range(cfg.n_folds):\n",
    "    _oof_df = trainer.train_loop(train_df, fold)\n",
    "    _oof_df.to_pickle(f\"{cfg.output_dir}oof_fold{fold}.pkl\")\n",
    "    oof_df = pd.concat([oof_df, _oof_df])\n",
    "    logger.info(f\"========== fold: {fold} result ==========\")\n",
    "    _score = get_score(\n",
    "        _oof_df['score'].to_numpy(), \n",
    "        _oof_df['pred'].to_numpy()\n",
    "    )\n",
    "    logger.info({f\"[fold{fold}] best score\": _score})\n",
    "oof_df = oof_df.reset_index(drop=True)\n",
    "\n",
    "logger.info(f\"========== CV ==========\")\n",
    "score = get_score(\n",
    "    oof_df['score'].to_numpy(), \n",
    "    oof_df['pred'].to_numpy()\n",
    ")\n",
    "logger.info({f\"overall score\": score})\n",
    "oof_df.to_pickle(f'{cfg.output_dir}oof_df.pkl')"
   ]
  },
  {
   "cell_type": "code",
   "execution_count": null,
   "id": "caad0fea",
   "metadata": {
    "papermill": {
     "duration": 0.013629,
     "end_time": "2022-06-25T05:25:14.836051",
     "exception": false,
     "start_time": "2022-06-25T05:25:14.822422",
     "status": "completed"
    },
    "tags": []
   },
   "outputs": [],
   "source": []
  }
 ],
 "metadata": {
  "kernelspec": {
   "display_name": "Python 3",
   "language": "python",
   "name": "python3"
  },
  "language_info": {
   "codemirror_mode": {
    "name": "ipython",
    "version": 3
   },
   "file_extension": ".py",
   "mimetype": "text/x-python",
   "name": "python",
   "nbconvert_exporter": "python",
   "pygments_lexer": "ipython3",
   "version": "3.7.12"
  },
  "papermill": {
   "default_parameters": {},
   "duration": 1488.98733,
   "end_time": "2022-06-25T05:25:18.474460",
   "environment_variables": {},
   "exception": null,
   "input_path": "__notebook__.ipynb",
   "output_path": "__notebook__.ipynb",
   "parameters": {},
   "start_time": "2022-06-25T05:00:29.487130",
   "version": "2.3.4"
  },
  "widgets": {
   "application/vnd.jupyter.widget-state+json": {
    "state": {
     "0371fa963a194d06a025f47c34a9536d": {
      "model_module": "@jupyter-widgets/controls",
      "model_module_version": "1.5.0",
      "model_name": "HTMLModel",
      "state": {
       "_dom_classes": [],
       "_model_module": "@jupyter-widgets/controls",
       "_model_module_version": "1.5.0",
       "_model_name": "HTMLModel",
       "_view_count": null,
       "_view_module": "@jupyter-widgets/controls",
       "_view_module_version": "1.5.0",
       "_view_name": "HTMLView",
       "description": "",
       "description_tooltip": null,
       "layout": "IPY_MODEL_316e3252698647178a815855abc2b95a",
       "placeholder": "​",
       "style": "IPY_MODEL_ce9e0657517b4cdda1ec600bca4c5e76",
       "value": "Downloading: 100%"
      }
     },
     "1c620894c1ea4e538479327f7bdd50c4": {
      "model_module": "@jupyter-widgets/controls",
      "model_module_version": "1.5.0",
      "model_name": "HBoxModel",
      "state": {
       "_dom_classes": [],
       "_model_module": "@jupyter-widgets/controls",
       "_model_module_version": "1.5.0",
       "_model_name": "HBoxModel",
       "_view_count": null,
       "_view_module": "@jupyter-widgets/controls",
       "_view_module_version": "1.5.0",
       "_view_name": "HBoxView",
       "box_style": "",
       "children": [
        "IPY_MODEL_5194cbfa6c3a4c418ef98d2498445a98",
        "IPY_MODEL_844d8f10157b47b0b42b24267197410e",
        "IPY_MODEL_db0853f109b444e1a38ac8739c00cb52"
       ],
       "layout": "IPY_MODEL_a733f2db2ee8457ab2703ddccf1c26a9"
      }
     },
     "20dbe92b791147ea9e37bfcdde11a4b8": {
      "model_module": "@jupyter-widgets/controls",
      "model_module_version": "1.5.0",
      "model_name": "HBoxModel",
      "state": {
       "_dom_classes": [],
       "_model_module": "@jupyter-widgets/controls",
       "_model_module_version": "1.5.0",
       "_model_name": "HBoxModel",
       "_view_count": null,
       "_view_module": "@jupyter-widgets/controls",
       "_view_module_version": "1.5.0",
       "_view_name": "HBoxView",
       "box_style": "",
       "children": [
        "IPY_MODEL_0371fa963a194d06a025f47c34a9536d",
        "IPY_MODEL_ab945bbdf01844ebaf5b4db1ad6b3244",
        "IPY_MODEL_8b4b80f01df540b7a334434fbf9cecab"
       ],
       "layout": "IPY_MODEL_a613a8a971b5482e939d833fe62ea3d4"
      }
     },
     "26f644538ebf455e8f0a40d910a7ed9e": {
      "model_module": "@jupyter-widgets/controls",
      "model_module_version": "1.5.0",
      "model_name": "HTMLModel",
      "state": {
       "_dom_classes": [],
       "_model_module": "@jupyter-widgets/controls",
       "_model_module_version": "1.5.0",
       "_model_name": "HTMLModel",
       "_view_count": null,
       "_view_module": "@jupyter-widgets/controls",
       "_view_module_version": "1.5.0",
       "_view_name": "HTMLView",
       "description": "",
       "description_tooltip": null,
       "layout": "IPY_MODEL_5bb9077e60e84a4ebc6b29f4c2cded0b",
       "placeholder": "​",
       "style": "IPY_MODEL_f9e5835f1eca4954a78f57972ef22843",
       "value": "Downloading: 100%"
      }
     },
     "30eef6daf99d414a9c91394adcae1e08": {
      "model_module": "@jupyter-widgets/controls",
      "model_module_version": "1.5.0",
      "model_name": "DescriptionStyleModel",
      "state": {
       "_model_module": "@jupyter-widgets/controls",
       "_model_module_version": "1.5.0",
       "_model_name": "DescriptionStyleModel",
       "_view_count": null,
       "_view_module": "@jupyter-widgets/base",
       "_view_module_version": "1.2.0",
       "_view_name": "StyleView",
       "description_width": ""
      }
     },
     "316e3252698647178a815855abc2b95a": {
      "model_module": "@jupyter-widgets/base",
      "model_module_version": "1.2.0",
      "model_name": "LayoutModel",
      "state": {
       "_model_module": "@jupyter-widgets/base",
       "_model_module_version": "1.2.0",
       "_model_name": "LayoutModel",
       "_view_count": null,
       "_view_module": "@jupyter-widgets/base",
       "_view_module_version": "1.2.0",
       "_view_name": "LayoutView",
       "align_content": null,
       "align_items": null,
       "align_self": null,
       "border": null,
       "bottom": null,
       "display": null,
       "flex": null,
       "flex_flow": null,
       "grid_area": null,
       "grid_auto_columns": null,
       "grid_auto_flow": null,
       "grid_auto_rows": null,
       "grid_column": null,
       "grid_gap": null,
       "grid_row": null,
       "grid_template_areas": null,
       "grid_template_columns": null,
       "grid_template_rows": null,
       "height": null,
       "justify_content": null,
       "justify_items": null,
       "left": null,
       "margin": null,
       "max_height": null,
       "max_width": null,
       "min_height": null,
       "min_width": null,
       "object_fit": null,
       "object_position": null,
       "order": null,
       "overflow": null,
       "overflow_x": null,
       "overflow_y": null,
       "padding": null,
       "right": null,
       "top": null,
       "visibility": null,
       "width": null
      }
     },
     "34364e02098b459e8fff196532c59437": {
      "model_module": "@jupyter-widgets/base",
      "model_module_version": "1.2.0",
      "model_name": "LayoutModel",
      "state": {
       "_model_module": "@jupyter-widgets/base",
       "_model_module_version": "1.2.0",
       "_model_name": "LayoutModel",
       "_view_count": null,
       "_view_module": "@jupyter-widgets/base",
       "_view_module_version": "1.2.0",
       "_view_name": "LayoutView",
       "align_content": null,
       "align_items": null,
       "align_self": null,
       "border": null,
       "bottom": null,
       "display": null,
       "flex": null,
       "flex_flow": null,
       "grid_area": null,
       "grid_auto_columns": null,
       "grid_auto_flow": null,
       "grid_auto_rows": null,
       "grid_column": null,
       "grid_gap": null,
       "grid_row": null,
       "grid_template_areas": null,
       "grid_template_columns": null,
       "grid_template_rows": null,
       "height": null,
       "justify_content": null,
       "justify_items": null,
       "left": null,
       "margin": null,
       "max_height": null,
       "max_width": null,
       "min_height": null,
       "min_width": null,
       "object_fit": null,
       "object_position": null,
       "order": null,
       "overflow": null,
       "overflow_x": null,
       "overflow_y": null,
       "padding": null,
       "right": null,
       "top": null,
       "visibility": null,
       "width": null
      }
     },
     "3747fc3a0ca94c2e80a15e517ecb1aca": {
      "model_module": "@jupyter-widgets/controls",
      "model_module_version": "1.5.0",
      "model_name": "HTMLModel",
      "state": {
       "_dom_classes": [],
       "_model_module": "@jupyter-widgets/controls",
       "_model_module_version": "1.5.0",
       "_model_name": "HTMLModel",
       "_view_count": null,
       "_view_module": "@jupyter-widgets/controls",
       "_view_module_version": "1.5.0",
       "_view_name": "HTMLView",
       "description": "",
       "description_tooltip": null,
       "layout": "IPY_MODEL_48697f677864497087ec4049c18b7ee5",
       "placeholder": "​",
       "style": "IPY_MODEL_deb6201e625d4786b47dede19c8d47c2",
       "value": " 52.0/52.0 [00:00&lt;00:00, 1.99kB/s]"
      }
     },
     "3c5124cbd0bd42ff8b4f150a300a22d1": {
      "model_module": "@jupyter-widgets/controls",
      "model_module_version": "1.5.0",
      "model_name": "ProgressStyleModel",
      "state": {
       "_model_module": "@jupyter-widgets/controls",
       "_model_module_version": "1.5.0",
       "_model_name": "ProgressStyleModel",
       "_view_count": null,
       "_view_module": "@jupyter-widgets/base",
       "_view_module_version": "1.2.0",
       "_view_name": "StyleView",
       "bar_color": null,
       "description_width": ""
      }
     },
     "3d609f15cc87441294897894afa0e064": {
      "model_module": "@jupyter-widgets/base",
      "model_module_version": "1.2.0",
      "model_name": "LayoutModel",
      "state": {
       "_model_module": "@jupyter-widgets/base",
       "_model_module_version": "1.2.0",
       "_model_name": "LayoutModel",
       "_view_count": null,
       "_view_module": "@jupyter-widgets/base",
       "_view_module_version": "1.2.0",
       "_view_name": "LayoutView",
       "align_content": null,
       "align_items": null,
       "align_self": null,
       "border": null,
       "bottom": null,
       "display": null,
       "flex": null,
       "flex_flow": null,
       "grid_area": null,
       "grid_auto_columns": null,
       "grid_auto_flow": null,
       "grid_auto_rows": null,
       "grid_column": null,
       "grid_gap": null,
       "grid_row": null,
       "grid_template_areas": null,
       "grid_template_columns": null,
       "grid_template_rows": null,
       "height": null,
       "justify_content": null,
       "justify_items": null,
       "left": null,
       "margin": null,
       "max_height": null,
       "max_width": null,
       "min_height": null,
       "min_width": null,
       "object_fit": null,
       "object_position": null,
       "order": null,
       "overflow": null,
       "overflow_x": null,
       "overflow_y": null,
       "padding": null,
       "right": null,
       "top": null,
       "visibility": null,
       "width": null
      }
     },
     "47aa4132879b43eb949c369314bd33d4": {
      "model_module": "@jupyter-widgets/base",
      "model_module_version": "1.2.0",
      "model_name": "LayoutModel",
      "state": {
       "_model_module": "@jupyter-widgets/base",
       "_model_module_version": "1.2.0",
       "_model_name": "LayoutModel",
       "_view_count": null,
       "_view_module": "@jupyter-widgets/base",
       "_view_module_version": "1.2.0",
       "_view_name": "LayoutView",
       "align_content": null,
       "align_items": null,
       "align_self": null,
       "border": null,
       "bottom": null,
       "display": null,
       "flex": null,
       "flex_flow": null,
       "grid_area": null,
       "grid_auto_columns": null,
       "grid_auto_flow": null,
       "grid_auto_rows": null,
       "grid_column": null,
       "grid_gap": null,
       "grid_row": null,
       "grid_template_areas": null,
       "grid_template_columns": null,
       "grid_template_rows": null,
       "height": null,
       "justify_content": null,
       "justify_items": null,
       "left": null,
       "margin": null,
       "max_height": null,
       "max_width": null,
       "min_height": null,
       "min_width": null,
       "object_fit": null,
       "object_position": null,
       "order": null,
       "overflow": null,
       "overflow_x": null,
       "overflow_y": null,
       "padding": null,
       "right": null,
       "top": null,
       "visibility": null,
       "width": null
      }
     },
     "48697f677864497087ec4049c18b7ee5": {
      "model_module": "@jupyter-widgets/base",
      "model_module_version": "1.2.0",
      "model_name": "LayoutModel",
      "state": {
       "_model_module": "@jupyter-widgets/base",
       "_model_module_version": "1.2.0",
       "_model_name": "LayoutModel",
       "_view_count": null,
       "_view_module": "@jupyter-widgets/base",
       "_view_module_version": "1.2.0",
       "_view_name": "LayoutView",
       "align_content": null,
       "align_items": null,
       "align_self": null,
       "border": null,
       "bottom": null,
       "display": null,
       "flex": null,
       "flex_flow": null,
       "grid_area": null,
       "grid_auto_columns": null,
       "grid_auto_flow": null,
       "grid_auto_rows": null,
       "grid_column": null,
       "grid_gap": null,
       "grid_row": null,
       "grid_template_areas": null,
       "grid_template_columns": null,
       "grid_template_rows": null,
       "height": null,
       "justify_content": null,
       "justify_items": null,
       "left": null,
       "margin": null,
       "max_height": null,
       "max_width": null,
       "min_height": null,
       "min_width": null,
       "object_fit": null,
       "object_position": null,
       "order": null,
       "overflow": null,
       "overflow_x": null,
       "overflow_y": null,
       "padding": null,
       "right": null,
       "top": null,
       "visibility": null,
       "width": null
      }
     },
     "490987058d5c48efbb913cf9c63c1999": {
      "model_module": "@jupyter-widgets/controls",
      "model_module_version": "1.5.0",
      "model_name": "DescriptionStyleModel",
      "state": {
       "_model_module": "@jupyter-widgets/controls",
       "_model_module_version": "1.5.0",
       "_model_name": "DescriptionStyleModel",
       "_view_count": null,
       "_view_module": "@jupyter-widgets/base",
       "_view_module_version": "1.2.0",
       "_view_name": "StyleView",
       "description_width": ""
      }
     },
     "4a8a879154644b1a8c38060f4caa3492": {
      "model_module": "@jupyter-widgets/controls",
      "model_module_version": "1.5.0",
      "model_name": "FloatProgressModel",
      "state": {
       "_dom_classes": [],
       "_model_module": "@jupyter-widgets/controls",
       "_model_module_version": "1.5.0",
       "_model_name": "FloatProgressModel",
       "_view_count": null,
       "_view_module": "@jupyter-widgets/controls",
       "_view_module_version": "1.5.0",
       "_view_name": "ProgressView",
       "bar_style": "success",
       "description": "",
       "description_tooltip": null,
       "layout": "IPY_MODEL_ccffd83c55af4a5e93dbcdf8b866e564",
       "max": 2464616,
       "min": 0,
       "orientation": "horizontal",
       "style": "IPY_MODEL_3c5124cbd0bd42ff8b4f150a300a22d1",
       "value": 2464616
      }
     },
     "500f6885480b422aa5f506726261c89a": {
      "model_module": "@jupyter-widgets/controls",
      "model_module_version": "1.5.0",
      "model_name": "HBoxModel",
      "state": {
       "_dom_classes": [],
       "_model_module": "@jupyter-widgets/controls",
       "_model_module_version": "1.5.0",
       "_model_name": "HBoxModel",
       "_view_count": null,
       "_view_module": "@jupyter-widgets/controls",
       "_view_module_version": "1.5.0",
       "_view_name": "HBoxView",
       "box_style": "",
       "children": [
        "IPY_MODEL_b3363c49d95f443184125511fdf6319a",
        "IPY_MODEL_8adec62e4876445b81f3884aba976bc9",
        "IPY_MODEL_3747fc3a0ca94c2e80a15e517ecb1aca"
       ],
       "layout": "IPY_MODEL_78c9bb0105574de9a5d99570fc9b7dac"
      }
     },
     "50978842c35f4ce7b00772007d9831eb": {
      "model_module": "@jupyter-widgets/base",
      "model_module_version": "1.2.0",
      "model_name": "LayoutModel",
      "state": {
       "_model_module": "@jupyter-widgets/base",
       "_model_module_version": "1.2.0",
       "_model_name": "LayoutModel",
       "_view_count": null,
       "_view_module": "@jupyter-widgets/base",
       "_view_module_version": "1.2.0",
       "_view_name": "LayoutView",
       "align_content": null,
       "align_items": null,
       "align_self": null,
       "border": null,
       "bottom": null,
       "display": null,
       "flex": null,
       "flex_flow": null,
       "grid_area": null,
       "grid_auto_columns": null,
       "grid_auto_flow": null,
       "grid_auto_rows": null,
       "grid_column": null,
       "grid_gap": null,
       "grid_row": null,
       "grid_template_areas": null,
       "grid_template_columns": null,
       "grid_template_rows": null,
       "height": null,
       "justify_content": null,
       "justify_items": null,
       "left": null,
       "margin": null,
       "max_height": null,
       "max_width": null,
       "min_height": null,
       "min_width": null,
       "object_fit": null,
       "object_position": null,
       "order": null,
       "overflow": null,
       "overflow_x": null,
       "overflow_y": null,
       "padding": null,
       "right": null,
       "top": null,
       "visibility": null,
       "width": null
      }
     },
     "5194cbfa6c3a4c418ef98d2498445a98": {
      "model_module": "@jupyter-widgets/controls",
      "model_module_version": "1.5.0",
      "model_name": "HTMLModel",
      "state": {
       "_dom_classes": [],
       "_model_module": "@jupyter-widgets/controls",
       "_model_module_version": "1.5.0",
       "_model_name": "HTMLModel",
       "_view_count": null,
       "_view_module": "@jupyter-widgets/controls",
       "_view_module_version": "1.5.0",
       "_view_name": "HTMLView",
       "description": "",
       "description_tooltip": null,
       "layout": "IPY_MODEL_34364e02098b459e8fff196532c59437",
       "placeholder": "​",
       "style": "IPY_MODEL_64768f7666d14654a6fdcba4f92677ac",
       "value": "Downloading: 100%"
      }
     },
     "574bf811233d4b31a6e5fa29d9655a7e": {
      "model_module": "@jupyter-widgets/controls",
      "model_module_version": "1.5.0",
      "model_name": "ProgressStyleModel",
      "state": {
       "_model_module": "@jupyter-widgets/controls",
       "_model_module_version": "1.5.0",
       "_model_name": "ProgressStyleModel",
       "_view_count": null,
       "_view_module": "@jupyter-widgets/base",
       "_view_module_version": "1.2.0",
       "_view_name": "StyleView",
       "bar_color": null,
       "description_width": ""
      }
     },
     "580cd81f8c994fe1b38d3fd702588436": {
      "model_module": "@jupyter-widgets/base",
      "model_module_version": "1.2.0",
      "model_name": "LayoutModel",
      "state": {
       "_model_module": "@jupyter-widgets/base",
       "_model_module_version": "1.2.0",
       "_model_name": "LayoutModel",
       "_view_count": null,
       "_view_module": "@jupyter-widgets/base",
       "_view_module_version": "1.2.0",
       "_view_name": "LayoutView",
       "align_content": null,
       "align_items": null,
       "align_self": null,
       "border": null,
       "bottom": null,
       "display": null,
       "flex": null,
       "flex_flow": null,
       "grid_area": null,
       "grid_auto_columns": null,
       "grid_auto_flow": null,
       "grid_auto_rows": null,
       "grid_column": null,
       "grid_gap": null,
       "grid_row": null,
       "grid_template_areas": null,
       "grid_template_columns": null,
       "grid_template_rows": null,
       "height": null,
       "justify_content": null,
       "justify_items": null,
       "left": null,
       "margin": null,
       "max_height": null,
       "max_width": null,
       "min_height": null,
       "min_width": null,
       "object_fit": null,
       "object_position": null,
       "order": null,
       "overflow": null,
       "overflow_x": null,
       "overflow_y": null,
       "padding": null,
       "right": null,
       "top": null,
       "visibility": null,
       "width": null
      }
     },
     "5a4c4b883a384daca418a1a657fa3404": {
      "model_module": "@jupyter-widgets/controls",
      "model_module_version": "1.5.0",
      "model_name": "HBoxModel",
      "state": {
       "_dom_classes": [],
       "_model_module": "@jupyter-widgets/controls",
       "_model_module_version": "1.5.0",
       "_model_name": "HBoxModel",
       "_view_count": null,
       "_view_module": "@jupyter-widgets/controls",
       "_view_module_version": "1.5.0",
       "_view_name": "HBoxView",
       "box_style": "",
       "children": [
        "IPY_MODEL_26f644538ebf455e8f0a40d910a7ed9e",
        "IPY_MODEL_4a8a879154644b1a8c38060f4caa3492",
        "IPY_MODEL_888a1a1b16ac4558a3725b89a7585989"
       ],
       "layout": "IPY_MODEL_c1c6e650409c45c59320d62bcf29787a"
      }
     },
     "5bb9077e60e84a4ebc6b29f4c2cded0b": {
      "model_module": "@jupyter-widgets/base",
      "model_module_version": "1.2.0",
      "model_name": "LayoutModel",
      "state": {
       "_model_module": "@jupyter-widgets/base",
       "_model_module_version": "1.2.0",
       "_model_name": "LayoutModel",
       "_view_count": null,
       "_view_module": "@jupyter-widgets/base",
       "_view_module_version": "1.2.0",
       "_view_name": "LayoutView",
       "align_content": null,
       "align_items": null,
       "align_self": null,
       "border": null,
       "bottom": null,
       "display": null,
       "flex": null,
       "flex_flow": null,
       "grid_area": null,
       "grid_auto_columns": null,
       "grid_auto_flow": null,
       "grid_auto_rows": null,
       "grid_column": null,
       "grid_gap": null,
       "grid_row": null,
       "grid_template_areas": null,
       "grid_template_columns": null,
       "grid_template_rows": null,
       "height": null,
       "justify_content": null,
       "justify_items": null,
       "left": null,
       "margin": null,
       "max_height": null,
       "max_width": null,
       "min_height": null,
       "min_width": null,
       "object_fit": null,
       "object_position": null,
       "order": null,
       "overflow": null,
       "overflow_x": null,
       "overflow_y": null,
       "padding": null,
       "right": null,
       "top": null,
       "visibility": null,
       "width": null
      }
     },
     "6219aa66fbf5422a9bc6e0e815b5a571": {
      "model_module": "@jupyter-widgets/base",
      "model_module_version": "1.2.0",
      "model_name": "LayoutModel",
      "state": {
       "_model_module": "@jupyter-widgets/base",
       "_model_module_version": "1.2.0",
       "_model_name": "LayoutModel",
       "_view_count": null,
       "_view_module": "@jupyter-widgets/base",
       "_view_module_version": "1.2.0",
       "_view_name": "LayoutView",
       "align_content": null,
       "align_items": null,
       "align_self": null,
       "border": null,
       "bottom": null,
       "display": null,
       "flex": null,
       "flex_flow": null,
       "grid_area": null,
       "grid_auto_columns": null,
       "grid_auto_flow": null,
       "grid_auto_rows": null,
       "grid_column": null,
       "grid_gap": null,
       "grid_row": null,
       "grid_template_areas": null,
       "grid_template_columns": null,
       "grid_template_rows": null,
       "height": null,
       "justify_content": null,
       "justify_items": null,
       "left": null,
       "margin": null,
       "max_height": null,
       "max_width": null,
       "min_height": null,
       "min_width": null,
       "object_fit": null,
       "object_position": null,
       "order": null,
       "overflow": null,
       "overflow_x": null,
       "overflow_y": null,
       "padding": null,
       "right": null,
       "top": null,
       "visibility": null,
       "width": null
      }
     },
     "64768f7666d14654a6fdcba4f92677ac": {
      "model_module": "@jupyter-widgets/controls",
      "model_module_version": "1.5.0",
      "model_name": "DescriptionStyleModel",
      "state": {
       "_model_module": "@jupyter-widgets/controls",
       "_model_module_version": "1.5.0",
       "_model_name": "DescriptionStyleModel",
       "_view_count": null,
       "_view_module": "@jupyter-widgets/base",
       "_view_module_version": "1.2.0",
       "_view_name": "StyleView",
       "description_width": ""
      }
     },
     "6913ef7bc83c4252a1dc89b606e477ca": {
      "model_module": "@jupyter-widgets/base",
      "model_module_version": "1.2.0",
      "model_name": "LayoutModel",
      "state": {
       "_model_module": "@jupyter-widgets/base",
       "_model_module_version": "1.2.0",
       "_model_name": "LayoutModel",
       "_view_count": null,
       "_view_module": "@jupyter-widgets/base",
       "_view_module_version": "1.2.0",
       "_view_name": "LayoutView",
       "align_content": null,
       "align_items": null,
       "align_self": null,
       "border": null,
       "bottom": null,
       "display": null,
       "flex": null,
       "flex_flow": null,
       "grid_area": null,
       "grid_auto_columns": null,
       "grid_auto_flow": null,
       "grid_auto_rows": null,
       "grid_column": null,
       "grid_gap": null,
       "grid_row": null,
       "grid_template_areas": null,
       "grid_template_columns": null,
       "grid_template_rows": null,
       "height": null,
       "justify_content": null,
       "justify_items": null,
       "left": null,
       "margin": null,
       "max_height": null,
       "max_width": null,
       "min_height": null,
       "min_width": null,
       "object_fit": null,
       "object_position": null,
       "order": null,
       "overflow": null,
       "overflow_x": null,
       "overflow_y": null,
       "padding": null,
       "right": null,
       "top": null,
       "visibility": null,
       "width": null
      }
     },
     "6da3454e5f0d4095aaa837978ec59612": {
      "model_module": "@jupyter-widgets/controls",
      "model_module_version": "1.5.0",
      "model_name": "ProgressStyleModel",
      "state": {
       "_model_module": "@jupyter-widgets/controls",
       "_model_module_version": "1.5.0",
       "_model_name": "ProgressStyleModel",
       "_view_count": null,
       "_view_module": "@jupyter-widgets/base",
       "_view_module_version": "1.2.0",
       "_view_name": "StyleView",
       "bar_color": null,
       "description_width": ""
      }
     },
     "78c9bb0105574de9a5d99570fc9b7dac": {
      "model_module": "@jupyter-widgets/base",
      "model_module_version": "1.2.0",
      "model_name": "LayoutModel",
      "state": {
       "_model_module": "@jupyter-widgets/base",
       "_model_module_version": "1.2.0",
       "_model_name": "LayoutModel",
       "_view_count": null,
       "_view_module": "@jupyter-widgets/base",
       "_view_module_version": "1.2.0",
       "_view_name": "LayoutView",
       "align_content": null,
       "align_items": null,
       "align_self": null,
       "border": null,
       "bottom": null,
       "display": null,
       "flex": null,
       "flex_flow": null,
       "grid_area": null,
       "grid_auto_columns": null,
       "grid_auto_flow": null,
       "grid_auto_rows": null,
       "grid_column": null,
       "grid_gap": null,
       "grid_row": null,
       "grid_template_areas": null,
       "grid_template_columns": null,
       "grid_template_rows": null,
       "height": null,
       "justify_content": null,
       "justify_items": null,
       "left": null,
       "margin": null,
       "max_height": null,
       "max_width": null,
       "min_height": null,
       "min_width": null,
       "object_fit": null,
       "object_position": null,
       "order": null,
       "overflow": null,
       "overflow_x": null,
       "overflow_y": null,
       "padding": null,
       "right": null,
       "top": null,
       "visibility": null,
       "width": null
      }
     },
     "844d8f10157b47b0b42b24267197410e": {
      "model_module": "@jupyter-widgets/controls",
      "model_module_version": "1.5.0",
      "model_name": "FloatProgressModel",
      "state": {
       "_dom_classes": [],
       "_model_module": "@jupyter-widgets/controls",
       "_model_module_version": "1.5.0",
       "_model_name": "FloatProgressModel",
       "_view_count": null,
       "_view_module": "@jupyter-widgets/controls",
       "_view_module_version": "1.5.0",
       "_view_name": "ProgressView",
       "bar_style": "success",
       "description": "",
       "description_tooltip": null,
       "layout": "IPY_MODEL_47aa4132879b43eb949c369314bd33d4",
       "max": 580,
       "min": 0,
       "orientation": "horizontal",
       "style": "IPY_MODEL_574bf811233d4b31a6e5fa29d9655a7e",
       "value": 580
      }
     },
     "888a1a1b16ac4558a3725b89a7585989": {
      "model_module": "@jupyter-widgets/controls",
      "model_module_version": "1.5.0",
      "model_name": "HTMLModel",
      "state": {
       "_dom_classes": [],
       "_model_module": "@jupyter-widgets/controls",
       "_model_module_version": "1.5.0",
       "_model_name": "HTMLModel",
       "_view_count": null,
       "_view_module": "@jupyter-widgets/controls",
       "_view_module_version": "1.5.0",
       "_view_name": "HTMLView",
       "description": "",
       "description_tooltip": null,
       "layout": "IPY_MODEL_50978842c35f4ce7b00772007d9831eb",
       "placeholder": "​",
       "style": "IPY_MODEL_490987058d5c48efbb913cf9c63c1999",
       "value": " 2.35M/2.35M [00:00&lt;00:00, 16.9MB/s]"
      }
     },
     "8adec62e4876445b81f3884aba976bc9": {
      "model_module": "@jupyter-widgets/controls",
      "model_module_version": "1.5.0",
      "model_name": "FloatProgressModel",
      "state": {
       "_dom_classes": [],
       "_model_module": "@jupyter-widgets/controls",
       "_model_module_version": "1.5.0",
       "_model_name": "FloatProgressModel",
       "_view_count": null,
       "_view_module": "@jupyter-widgets/controls",
       "_view_module_version": "1.5.0",
       "_view_name": "ProgressView",
       "bar_style": "success",
       "description": "",
       "description_tooltip": null,
       "layout": "IPY_MODEL_580cd81f8c994fe1b38d3fd702588436",
       "max": 52,
       "min": 0,
       "orientation": "horizontal",
       "style": "IPY_MODEL_6da3454e5f0d4095aaa837978ec59612",
       "value": 52
      }
     },
     "8b4b80f01df540b7a334434fbf9cecab": {
      "model_module": "@jupyter-widgets/controls",
      "model_module_version": "1.5.0",
      "model_name": "HTMLModel",
      "state": {
       "_dom_classes": [],
       "_model_module": "@jupyter-widgets/controls",
       "_model_module_version": "1.5.0",
       "_model_name": "HTMLModel",
       "_view_count": null,
       "_view_module": "@jupyter-widgets/controls",
       "_view_module_version": "1.5.0",
       "_view_name": "HTMLView",
       "description": "",
       "description_tooltip": null,
       "layout": "IPY_MODEL_6913ef7bc83c4252a1dc89b606e477ca",
       "placeholder": "​",
       "style": "IPY_MODEL_30eef6daf99d414a9c91394adcae1e08",
       "value": " 833M/833M [00:19&lt;00:00, 43.6MB/s]"
      }
     },
     "9671184dc5744ce29475ab4b0c23f27b": {
      "model_module": "@jupyter-widgets/controls",
      "model_module_version": "1.5.0",
      "model_name": "DescriptionStyleModel",
      "state": {
       "_model_module": "@jupyter-widgets/controls",
       "_model_module_version": "1.5.0",
       "_model_name": "DescriptionStyleModel",
       "_view_count": null,
       "_view_module": "@jupyter-widgets/base",
       "_view_module_version": "1.2.0",
       "_view_name": "StyleView",
       "description_width": ""
      }
     },
     "9acdcc5ea0ab451f9b8872109ba49700": {
      "model_module": "@jupyter-widgets/controls",
      "model_module_version": "1.5.0",
      "model_name": "ProgressStyleModel",
      "state": {
       "_model_module": "@jupyter-widgets/controls",
       "_model_module_version": "1.5.0",
       "_model_name": "ProgressStyleModel",
       "_view_count": null,
       "_view_module": "@jupyter-widgets/base",
       "_view_module_version": "1.2.0",
       "_view_name": "StyleView",
       "bar_color": null,
       "description_width": ""
      }
     },
     "a613a8a971b5482e939d833fe62ea3d4": {
      "model_module": "@jupyter-widgets/base",
      "model_module_version": "1.2.0",
      "model_name": "LayoutModel",
      "state": {
       "_model_module": "@jupyter-widgets/base",
       "_model_module_version": "1.2.0",
       "_model_name": "LayoutModel",
       "_view_count": null,
       "_view_module": "@jupyter-widgets/base",
       "_view_module_version": "1.2.0",
       "_view_name": "LayoutView",
       "align_content": null,
       "align_items": null,
       "align_self": null,
       "border": null,
       "bottom": null,
       "display": null,
       "flex": null,
       "flex_flow": null,
       "grid_area": null,
       "grid_auto_columns": null,
       "grid_auto_flow": null,
       "grid_auto_rows": null,
       "grid_column": null,
       "grid_gap": null,
       "grid_row": null,
       "grid_template_areas": null,
       "grid_template_columns": null,
       "grid_template_rows": null,
       "height": null,
       "justify_content": null,
       "justify_items": null,
       "left": null,
       "margin": null,
       "max_height": null,
       "max_width": null,
       "min_height": null,
       "min_width": null,
       "object_fit": null,
       "object_position": null,
       "order": null,
       "overflow": null,
       "overflow_x": null,
       "overflow_y": null,
       "padding": null,
       "right": null,
       "top": null,
       "visibility": null,
       "width": null
      }
     },
     "a733f2db2ee8457ab2703ddccf1c26a9": {
      "model_module": "@jupyter-widgets/base",
      "model_module_version": "1.2.0",
      "model_name": "LayoutModel",
      "state": {
       "_model_module": "@jupyter-widgets/base",
       "_model_module_version": "1.2.0",
       "_model_name": "LayoutModel",
       "_view_count": null,
       "_view_module": "@jupyter-widgets/base",
       "_view_module_version": "1.2.0",
       "_view_name": "LayoutView",
       "align_content": null,
       "align_items": null,
       "align_self": null,
       "border": null,
       "bottom": null,
       "display": null,
       "flex": null,
       "flex_flow": null,
       "grid_area": null,
       "grid_auto_columns": null,
       "grid_auto_flow": null,
       "grid_auto_rows": null,
       "grid_column": null,
       "grid_gap": null,
       "grid_row": null,
       "grid_template_areas": null,
       "grid_template_columns": null,
       "grid_template_rows": null,
       "height": null,
       "justify_content": null,
       "justify_items": null,
       "left": null,
       "margin": null,
       "max_height": null,
       "max_width": null,
       "min_height": null,
       "min_width": null,
       "object_fit": null,
       "object_position": null,
       "order": null,
       "overflow": null,
       "overflow_x": null,
       "overflow_y": null,
       "padding": null,
       "right": null,
       "top": null,
       "visibility": null,
       "width": null
      }
     },
     "ab945bbdf01844ebaf5b4db1ad6b3244": {
      "model_module": "@jupyter-widgets/controls",
      "model_module_version": "1.5.0",
      "model_name": "FloatProgressModel",
      "state": {
       "_dom_classes": [],
       "_model_module": "@jupyter-widgets/controls",
       "_model_module_version": "1.5.0",
       "_model_name": "FloatProgressModel",
       "_view_count": null,
       "_view_module": "@jupyter-widgets/controls",
       "_view_module_version": "1.5.0",
       "_view_name": "ProgressView",
       "bar_style": "success",
       "description": "",
       "description_tooltip": null,
       "layout": "IPY_MODEL_eac4e4c8137d48f49b44804072cc20c7",
       "max": 873673253,
       "min": 0,
       "orientation": "horizontal",
       "style": "IPY_MODEL_9acdcc5ea0ab451f9b8872109ba49700",
       "value": 873673253
      }
     },
     "b3363c49d95f443184125511fdf6319a": {
      "model_module": "@jupyter-widgets/controls",
      "model_module_version": "1.5.0",
      "model_name": "HTMLModel",
      "state": {
       "_dom_classes": [],
       "_model_module": "@jupyter-widgets/controls",
       "_model_module_version": "1.5.0",
       "_model_name": "HTMLModel",
       "_view_count": null,
       "_view_module": "@jupyter-widgets/controls",
       "_view_module_version": "1.5.0",
       "_view_name": "HTMLView",
       "description": "",
       "description_tooltip": null,
       "layout": "IPY_MODEL_3d609f15cc87441294897894afa0e064",
       "placeholder": "​",
       "style": "IPY_MODEL_9671184dc5744ce29475ab4b0c23f27b",
       "value": "Downloading: 100%"
      }
     },
     "c1c6e650409c45c59320d62bcf29787a": {
      "model_module": "@jupyter-widgets/base",
      "model_module_version": "1.2.0",
      "model_name": "LayoutModel",
      "state": {
       "_model_module": "@jupyter-widgets/base",
       "_model_module_version": "1.2.0",
       "_model_name": "LayoutModel",
       "_view_count": null,
       "_view_module": "@jupyter-widgets/base",
       "_view_module_version": "1.2.0",
       "_view_name": "LayoutView",
       "align_content": null,
       "align_items": null,
       "align_self": null,
       "border": null,
       "bottom": null,
       "display": null,
       "flex": null,
       "flex_flow": null,
       "grid_area": null,
       "grid_auto_columns": null,
       "grid_auto_flow": null,
       "grid_auto_rows": null,
       "grid_column": null,
       "grid_gap": null,
       "grid_row": null,
       "grid_template_areas": null,
       "grid_template_columns": null,
       "grid_template_rows": null,
       "height": null,
       "justify_content": null,
       "justify_items": null,
       "left": null,
       "margin": null,
       "max_height": null,
       "max_width": null,
       "min_height": null,
       "min_width": null,
       "object_fit": null,
       "object_position": null,
       "order": null,
       "overflow": null,
       "overflow_x": null,
       "overflow_y": null,
       "padding": null,
       "right": null,
       "top": null,
       "visibility": null,
       "width": null
      }
     },
     "c8312514d66348d3b680006713fe71ac": {
      "model_module": "@jupyter-widgets/controls",
      "model_module_version": "1.5.0",
      "model_name": "DescriptionStyleModel",
      "state": {
       "_model_module": "@jupyter-widgets/controls",
       "_model_module_version": "1.5.0",
       "_model_name": "DescriptionStyleModel",
       "_view_count": null,
       "_view_module": "@jupyter-widgets/base",
       "_view_module_version": "1.2.0",
       "_view_name": "StyleView",
       "description_width": ""
      }
     },
     "ccffd83c55af4a5e93dbcdf8b866e564": {
      "model_module": "@jupyter-widgets/base",
      "model_module_version": "1.2.0",
      "model_name": "LayoutModel",
      "state": {
       "_model_module": "@jupyter-widgets/base",
       "_model_module_version": "1.2.0",
       "_model_name": "LayoutModel",
       "_view_count": null,
       "_view_module": "@jupyter-widgets/base",
       "_view_module_version": "1.2.0",
       "_view_name": "LayoutView",
       "align_content": null,
       "align_items": null,
       "align_self": null,
       "border": null,
       "bottom": null,
       "display": null,
       "flex": null,
       "flex_flow": null,
       "grid_area": null,
       "grid_auto_columns": null,
       "grid_auto_flow": null,
       "grid_auto_rows": null,
       "grid_column": null,
       "grid_gap": null,
       "grid_row": null,
       "grid_template_areas": null,
       "grid_template_columns": null,
       "grid_template_rows": null,
       "height": null,
       "justify_content": null,
       "justify_items": null,
       "left": null,
       "margin": null,
       "max_height": null,
       "max_width": null,
       "min_height": null,
       "min_width": null,
       "object_fit": null,
       "object_position": null,
       "order": null,
       "overflow": null,
       "overflow_x": null,
       "overflow_y": null,
       "padding": null,
       "right": null,
       "top": null,
       "visibility": null,
       "width": null
      }
     },
     "ce9e0657517b4cdda1ec600bca4c5e76": {
      "model_module": "@jupyter-widgets/controls",
      "model_module_version": "1.5.0",
      "model_name": "DescriptionStyleModel",
      "state": {
       "_model_module": "@jupyter-widgets/controls",
       "_model_module_version": "1.5.0",
       "_model_name": "DescriptionStyleModel",
       "_view_count": null,
       "_view_module": "@jupyter-widgets/base",
       "_view_module_version": "1.2.0",
       "_view_name": "StyleView",
       "description_width": ""
      }
     },
     "db0853f109b444e1a38ac8739c00cb52": {
      "model_module": "@jupyter-widgets/controls",
      "model_module_version": "1.5.0",
      "model_name": "HTMLModel",
      "state": {
       "_dom_classes": [],
       "_model_module": "@jupyter-widgets/controls",
       "_model_module_version": "1.5.0",
       "_model_name": "HTMLModel",
       "_view_count": null,
       "_view_module": "@jupyter-widgets/controls",
       "_view_module_version": "1.5.0",
       "_view_name": "HTMLView",
       "description": "",
       "description_tooltip": null,
       "layout": "IPY_MODEL_6219aa66fbf5422a9bc6e0e815b5a571",
       "placeholder": "​",
       "style": "IPY_MODEL_c8312514d66348d3b680006713fe71ac",
       "value": " 580/580 [00:00&lt;00:00, 22.2kB/s]"
      }
     },
     "deb6201e625d4786b47dede19c8d47c2": {
      "model_module": "@jupyter-widgets/controls",
      "model_module_version": "1.5.0",
      "model_name": "DescriptionStyleModel",
      "state": {
       "_model_module": "@jupyter-widgets/controls",
       "_model_module_version": "1.5.0",
       "_model_name": "DescriptionStyleModel",
       "_view_count": null,
       "_view_module": "@jupyter-widgets/base",
       "_view_module_version": "1.2.0",
       "_view_name": "StyleView",
       "description_width": ""
      }
     },
     "eac4e4c8137d48f49b44804072cc20c7": {
      "model_module": "@jupyter-widgets/base",
      "model_module_version": "1.2.0",
      "model_name": "LayoutModel",
      "state": {
       "_model_module": "@jupyter-widgets/base",
       "_model_module_version": "1.2.0",
       "_model_name": "LayoutModel",
       "_view_count": null,
       "_view_module": "@jupyter-widgets/base",
       "_view_module_version": "1.2.0",
       "_view_name": "LayoutView",
       "align_content": null,
       "align_items": null,
       "align_self": null,
       "border": null,
       "bottom": null,
       "display": null,
       "flex": null,
       "flex_flow": null,
       "grid_area": null,
       "grid_auto_columns": null,
       "grid_auto_flow": null,
       "grid_auto_rows": null,
       "grid_column": null,
       "grid_gap": null,
       "grid_row": null,
       "grid_template_areas": null,
       "grid_template_columns": null,
       "grid_template_rows": null,
       "height": null,
       "justify_content": null,
       "justify_items": null,
       "left": null,
       "margin": null,
       "max_height": null,
       "max_width": null,
       "min_height": null,
       "min_width": null,
       "object_fit": null,
       "object_position": null,
       "order": null,
       "overflow": null,
       "overflow_x": null,
       "overflow_y": null,
       "padding": null,
       "right": null,
       "top": null,
       "visibility": null,
       "width": null
      }
     },
     "f9e5835f1eca4954a78f57972ef22843": {
      "model_module": "@jupyter-widgets/controls",
      "model_module_version": "1.5.0",
      "model_name": "DescriptionStyleModel",
      "state": {
       "_model_module": "@jupyter-widgets/controls",
       "_model_module_version": "1.5.0",
       "_model_name": "DescriptionStyleModel",
       "_view_count": null,
       "_view_module": "@jupyter-widgets/base",
       "_view_module_version": "1.2.0",
       "_view_name": "StyleView",
       "description_width": ""
      }
     }
    },
    "version_major": 2,
    "version_minor": 0
   }
  }
 },
 "nbformat": 4,
 "nbformat_minor": 5
}
